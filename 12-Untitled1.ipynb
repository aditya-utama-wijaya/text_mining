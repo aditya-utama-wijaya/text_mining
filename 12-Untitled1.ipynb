{
 "cells": [
  {
   "cell_type": "markdown",
   "metadata": {},
   "source": [
    "# Support vector machines and machine learning on documents"
   ]
  },
  {
   "cell_type": "code",
   "execution_count": 1,
   "metadata": {
    "collapsed": false
   },
   "outputs": [
    {
     "data": {
      "text/plain": [
       "['alt.atheism',\n",
       " 'comp.graphics',\n",
       " 'comp.os.ms-windows.misc',\n",
       " 'comp.sys.ibm.pc.hardware',\n",
       " 'comp.sys.mac.hardware',\n",
       " 'comp.windows.x',\n",
       " 'misc.forsale',\n",
       " 'rec.autos',\n",
       " 'rec.motorcycles',\n",
       " 'rec.sport.baseball',\n",
       " 'rec.sport.hockey',\n",
       " 'sci.crypt',\n",
       " 'sci.electronics',\n",
       " 'sci.med',\n",
       " 'sci.space',\n",
       " 'soc.religion.christian',\n",
       " 'talk.politics.guns',\n",
       " 'talk.politics.mideast',\n",
       " 'talk.politics.misc',\n",
       " 'talk.religion.misc']"
      ]
     },
     "execution_count": 1,
     "metadata": {},
     "output_type": "execute_result"
    }
   ],
   "source": [
    "from sklearn.datasets import load_files\n",
    "twenty_train = load_files('12-twenty_newsgroups/20news-bydate-train/',\n",
    "                         encoding = 'latin1')\n",
    "twenty_train.target_names"
   ]
  },
  {
   "cell_type": "markdown",
   "metadata": {
    "collapsed": true
   },
   "source": [
    "# Extracting features from text files"
   ]
  },
  {
   "cell_type": "markdown",
   "metadata": {},
   "source": [
    "## Tokenizing text"
   ]
  },
  {
   "cell_type": "code",
   "execution_count": 3,
   "metadata": {
    "collapsed": false
   },
   "outputs": [
    {
     "data": {
      "text/plain": [
       "(11314, 130107)"
      ]
     },
     "execution_count": 3,
     "metadata": {},
     "output_type": "execute_result"
    }
   ],
   "source": [
    "from sklearn.feature_extraction.text import CountVectorizer\n",
    "count_vect = CountVectorizer()\n",
    "x_train_counts = count_vect.fit_transform(twenty_train.data)\n",
    "x_train_counts.shape"
   ]
  },
  {
   "cell_type": "code",
   "execution_count": 4,
   "metadata": {
    "collapsed": false
   },
   "outputs": [
    {
     "data": {
      "text/plain": [
       "56283"
      ]
     },
     "execution_count": 4,
     "metadata": {},
     "output_type": "execute_result"
    }
   ],
   "source": [
    "count_vect.vocabulary_.get('for')"
   ]
  },
  {
   "cell_type": "code",
   "execution_count": 5,
   "metadata": {
    "collapsed": false
   },
   "outputs": [
    {
     "data": {
      "text/plain": [
       "(11314, 8069416)"
      ]
     },
     "execution_count": 5,
     "metadata": {},
     "output_type": "execute_result"
    }
   ],
   "source": [
    "ngram_count_vect = CountVectorizer(ngram_range = (1, 5))\n",
    "xx_train_counts = ngram_count_vect.fit_transform(twenty_train.data)\n",
    "xx_train_counts.shape"
   ]
  },
  {
   "cell_type": "code",
   "execution_count": 6,
   "metadata": {
    "collapsed": false
   },
   "outputs": [
    {
     "data": {
      "text/plain": [
       "627642"
      ]
     },
     "execution_count": 6,
     "metadata": {},
     "output_type": "execute_result"
    }
   ],
   "source": [
    "ngram_count_vect.vocabulary_.get('algorithm for')"
   ]
  },
  {
   "cell_type": "markdown",
   "metadata": {},
   "source": [
    "## TF-IDF"
   ]
  },
  {
   "cell_type": "code",
   "execution_count": 8,
   "metadata": {
    "collapsed": false
   },
   "outputs": [
    {
     "data": {
      "text/plain": [
       "(11314, 130107)"
      ]
     },
     "execution_count": 8,
     "metadata": {},
     "output_type": "execute_result"
    }
   ],
   "source": [
    "from sklearn.feature_extraction.text import TfidfTransformer\n",
    "tf_transformer = TfidfTransformer(use_idf = False).fit(x_train_counts)\n",
    "x_train_tf = tf_transformer.transform(x_train_counts)\n",
    "x_train_tf.shape"
   ]
  },
  {
   "cell_type": "code",
   "execution_count": 9,
   "metadata": {
    "collapsed": false
   },
   "outputs": [
    {
     "data": {
      "text/plain": [
       "(11314, 130107)"
      ]
     },
     "execution_count": 9,
     "metadata": {},
     "output_type": "execute_result"
    }
   ],
   "source": [
    "tfidf_transformer = TfidfTransformer()\n",
    "x_train_tfidf = tfidf_transformer.fit_transform(x_train_counts)\n",
    "x_train_tfidf.shape"
   ]
  },
  {
   "cell_type": "markdown",
   "metadata": {},
   "source": [
    "## TF-IDF Vectorizer"
   ]
  },
  {
   "cell_type": "code",
   "execution_count": 10,
   "metadata": {
    "collapsed": false
   },
   "outputs": [
    {
     "data": {
      "text/plain": [
       "(11314, 130107)"
      ]
     },
     "execution_count": 10,
     "metadata": {},
     "output_type": "execute_result"
    }
   ],
   "source": [
    "from sklearn.feature_extraction.text import TfidfVectorizer\n",
    "tfidf_vectorizer = TfidfVectorizer()\n",
    "x_train_tfidf = tfidf_vectorizer.fit_transform(twenty_train.data)\n",
    "x_train_tfidf.shape"
   ]
  },
  {
   "cell_type": "markdown",
   "metadata": {},
   "source": [
    "# Building a pipeline"
   ]
  },
  {
   "cell_type": "code",
   "execution_count": 11,
   "metadata": {
    "collapsed": false
   },
   "outputs": [
    {
     "data": {
      "text/plain": [
       "Pipeline(steps=[('vect', TfidfVectorizer(analyzer='word', binary=False, decode_error='strict',\n",
       "        dtype=<class 'numpy.int64'>, encoding='utf-8', input='content',\n",
       "        lowercase=True, max_df=1.0, max_features=None, min_df=1,\n",
       "        ngram_range=(1, 1), norm='l2', preprocessor=None, smooth_idf=True,\n",
       "  ...ax_iter=1000,\n",
       "     multi_class='ovr', penalty='l2', random_state=None, tol=0.0001,\n",
       "     verbose=0))])"
      ]
     },
     "execution_count": 11,
     "metadata": {},
     "output_type": "execute_result"
    }
   ],
   "source": [
    "from sklearn.pipeline import Pipeline\n",
    "from sklearn.linear_model import SGDClassifier\n",
    "from sklearn.svm import SVC, LinearSVC, NuSVC\n",
    "text_clf = Pipeline([('vect', TfidfVectorizer()), ('clf', LinearSVC()), ])\n",
    "text_clf.fit(twenty_train.data, twenty_train.target)"
   ]
  },
  {
   "cell_type": "markdown",
   "metadata": {},
   "source": [
    "## Load test data"
   ]
  },
  {
   "cell_type": "code",
   "execution_count": 12,
   "metadata": {
    "collapsed": false
   },
   "outputs": [
    {
     "data": {
      "text/plain": [
       "0.85315985130111527"
      ]
     },
     "execution_count": 12,
     "metadata": {},
     "output_type": "execute_result"
    }
   ],
   "source": [
    "twenty_test = load_files('12-twenty_newsgroups/20news-bydate-test/', encoding = 'latin1')\n",
    "predicted = text_clf.predict(twenty_test.data)\n",
    "\n",
    "import numpy as np\n",
    "np.mean(predicted == twenty_test.target)"
   ]
  },
  {
   "cell_type": "code",
   "execution_count": 14,
   "metadata": {
    "collapsed": false,
    "scrolled": true
   },
   "outputs": [
    {
     "name": "stdout",
     "output_type": "stream",
     "text": [
      "                          precision    recall  f1-score   support\n",
      "\n",
      "             alt.atheism       0.82      0.80      0.81       319\n",
      "           comp.graphics       0.76      0.80      0.78       389\n",
      " comp.os.ms-windows.misc       0.77      0.73      0.75       394\n",
      "comp.sys.ibm.pc.hardware       0.71      0.76      0.74       392\n",
      "   comp.sys.mac.hardware       0.84      0.86      0.85       385\n",
      "          comp.windows.x       0.87      0.76      0.81       395\n",
      "            misc.forsale       0.83      0.91      0.87       390\n",
      "               rec.autos       0.92      0.91      0.91       396\n",
      "         rec.motorcycles       0.95      0.95      0.95       398\n",
      "      rec.sport.baseball       0.92      0.95      0.93       397\n",
      "        rec.sport.hockey       0.96      0.98      0.97       399\n",
      "               sci.crypt       0.93      0.94      0.93       396\n",
      "         sci.electronics       0.81      0.79      0.80       393\n",
      "                 sci.med       0.90      0.87      0.88       396\n",
      "               sci.space       0.90      0.93      0.92       394\n",
      "  soc.religion.christian       0.84      0.93      0.88       398\n",
      "      talk.politics.guns       0.75      0.92      0.82       364\n",
      "   talk.politics.mideast       0.97      0.89      0.93       376\n",
      "      talk.politics.misc       0.82      0.62      0.71       310\n",
      "      talk.religion.misc       0.75      0.61      0.68       251\n",
      "\n",
      "             avg / total       0.85      0.85      0.85      7532\n",
      "\n"
     ]
    }
   ],
   "source": [
    "from sklearn import metrics\n",
    "print(metrics.classification_report(twenty_test.target, predicted,\n",
    "                                   target_names = twenty_test.target_names))"
   ]
  },
  {
   "cell_type": "markdown",
   "metadata": {},
   "source": [
    "## Parameter tuning using grid search"
   ]
  },
  {
   "cell_type": "code",
   "execution_count": 15,
   "metadata": {
    "collapsed": true
   },
   "outputs": [],
   "source": [
    "from sklearn.model_selection import GridSearchCV\n",
    "parameters = {\n",
    "    'vect__ngram_range': [(1, 1), (1, 2)],\n",
    "    'vect__use_idf': (True, False),\n",
    "    'clf__C': (1.0, 0.1, 1e-2, 1e-3),\n",
    "             }\n",
    "gs_clf = GridSearchCV(text_clf, parameters, n_jobs = -1)"
   ]
  },
  {
   "cell_type": "code",
   "execution_count": 16,
   "metadata": {
    "collapsed": false
   },
   "outputs": [
    {
     "data": {
      "text/plain": [
       "'soc.religion.christian'"
      ]
     },
     "execution_count": 16,
     "metadata": {},
     "output_type": "execute_result"
    }
   ],
   "source": [
    "gs_clf = gs_clf.fit(twenty_train.data, twenty_train.target)\n",
    "twenty_train.target_names[gs_clf.predict(['God is love'])[0]]"
   ]
  },
  {
   "cell_type": "code",
   "execution_count": 17,
   "metadata": {
    "collapsed": false
   },
   "outputs": [
    {
     "data": {
      "text/plain": [
       "0.9231041187908785"
      ]
     },
     "execution_count": 17,
     "metadata": {},
     "output_type": "execute_result"
    }
   ],
   "source": [
    "gs_clf.best_score_"
   ]
  },
  {
   "cell_type": "code",
   "execution_count": 18,
   "metadata": {
    "collapsed": false
   },
   "outputs": [
    {
     "name": "stdout",
     "output_type": "stream",
     "text": [
      "clf__C: 1.0\n",
      "vect__ngram_range: (1, 2)\n",
      "vect__use_idf: True\n"
     ]
    }
   ],
   "source": [
    "for param_name in sorted(parameters.keys()):\n",
    "    print('%s: %r' % (param_name, gs_clf.best_params_[param_name]))"
   ]
  },
  {
   "cell_type": "code",
   "execution_count": 19,
   "metadata": {
    "collapsed": false
   },
   "outputs": [
    {
     "data": {
      "text/plain": [
       "0.85740839086563991"
      ]
     },
     "execution_count": 19,
     "metadata": {},
     "output_type": "execute_result"
    }
   ],
   "source": [
    "clf = gs_clf.best_estimator_\n",
    "predicted = clf.predict(twenty_test.data)\n",
    "np.mean(predicted == twenty_test.target)"
   ]
  },
  {
   "cell_type": "code",
   "execution_count": 20,
   "metadata": {
    "collapsed": false,
    "scrolled": true
   },
   "outputs": [
    {
     "name": "stdout",
     "output_type": "stream",
     "text": [
      "                          precision    recall  f1-score   support\n",
      "\n",
      "             alt.atheism       0.83      0.79      0.81       319\n",
      "           comp.graphics       0.74      0.80      0.77       389\n",
      " comp.os.ms-windows.misc       0.77      0.77      0.77       394\n",
      "comp.sys.ibm.pc.hardware       0.73      0.76      0.74       392\n",
      "   comp.sys.mac.hardware       0.83      0.86      0.85       385\n",
      "          comp.windows.x       0.87      0.76      0.81       395\n",
      "            misc.forsale       0.84      0.91      0.87       390\n",
      "               rec.autos       0.94      0.91      0.92       396\n",
      "         rec.motorcycles       0.96      0.97      0.96       398\n",
      "      rec.sport.baseball       0.91      0.94      0.93       397\n",
      "        rec.sport.hockey       0.95      0.98      0.97       399\n",
      "               sci.crypt       0.93      0.95      0.94       396\n",
      "         sci.electronics       0.82      0.78      0.80       393\n",
      "                 sci.med       0.90      0.86      0.88       396\n",
      "               sci.space       0.89      0.93      0.91       394\n",
      "  soc.religion.christian       0.85      0.94      0.89       398\n",
      "      talk.politics.guns       0.76      0.93      0.84       364\n",
      "   talk.politics.mideast       0.96      0.90      0.93       376\n",
      "      talk.politics.misc       0.84      0.64      0.73       310\n",
      "      talk.religion.misc       0.79      0.63      0.70       251\n",
      "\n",
      "             avg / total       0.86      0.86      0.86      7532\n",
      "\n"
     ]
    }
   ],
   "source": [
    "print(metrics.classification_report(twenty_test.target, predicted,\n",
    "                                   target_names = twenty_test.target_names))"
   ]
  },
  {
   "cell_type": "code",
   "execution_count": 21,
   "metadata": {
    "collapsed": false
   },
   "outputs": [
    {
     "data": {
      "text/plain": [
       "{'mean_fit_time': array([ 16.53635852,  19.62261383,  96.99286644,  96.68818943,\n",
       "         20.87671137,  20.36050256,  88.02994792,  81.66136734,\n",
       "         20.71324174,  21.03106475,  84.9218154 ,  79.23255499,\n",
       "         19.22479065,  19.10487374,  80.187289  ,  61.71674959]),\n",
       " 'mean_score_time': array([  4.55368876,   5.07420142,  17.2919755 ,  16.61340459,\n",
       "          6.85288127,   6.06176074,  18.33446638,  17.31005239,\n",
       "          6.95669993,   6.65740387,  19.3032848 ,  17.12737862,\n",
       "          6.48946404,   6.40022119,  22.01428517,  12.98279421]),\n",
       " 'mean_test_score': array([ 0.91894997,  0.8902245 ,  0.92310412,  0.89985858,  0.8959696 ,\n",
       "         0.82950327,  0.89853279,  0.8432915 ,  0.82791232,  0.64221319,\n",
       "         0.83515998,  0.65494078,  0.70673502,  0.39208061,  0.71813682,\n",
       "         0.38403748]),\n",
       " 'mean_train_score': array([ 0.99929296,  0.99500614,  0.99973487,  0.99907207,  0.98258771,\n",
       "         0.93167821,  0.9913825 ,  0.96199421,  0.90573668,  0.71398305,\n",
       "         0.94175374,  0.74602304,  0.76993005,  0.42487153,  0.82477497,\n",
       "         0.43676011]),\n",
       " 'param_clf__C': masked_array(data = [1.0 1.0 1.0 1.0 0.1 0.1 0.1 0.1 0.01 0.01 0.01 0.01 0.001 0.001 0.001\n",
       "  0.001],\n",
       "              mask = [False False False False False False False False False False False False\n",
       "  False False False False],\n",
       "        fill_value = ?),\n",
       " 'param_vect__ngram_range': masked_array(data = [(1, 1) (1, 1) (1, 2) (1, 2) (1, 1) (1, 1) (1, 2) (1, 2) (1, 1) (1, 1)\n",
       "  (1, 2) (1, 2) (1, 1) (1, 1) (1, 2) (1, 2)],\n",
       "              mask = [False False False False False False False False False False False False\n",
       "  False False False False],\n",
       "        fill_value = ?),\n",
       " 'param_vect__use_idf': masked_array(data = [True False True False True False True False True False True False True\n",
       "  False True False],\n",
       "              mask = [False False False False False False False False False False False False\n",
       "  False False False False],\n",
       "        fill_value = ?),\n",
       " 'params': ({'clf__C': 1.0,\n",
       "   'vect__ngram_range': (1, 1),\n",
       "   'vect__use_idf': True},\n",
       "  {'clf__C': 1.0, 'vect__ngram_range': (1, 1), 'vect__use_idf': False},\n",
       "  {'clf__C': 1.0, 'vect__ngram_range': (1, 2), 'vect__use_idf': True},\n",
       "  {'clf__C': 1.0, 'vect__ngram_range': (1, 2), 'vect__use_idf': False},\n",
       "  {'clf__C': 0.1, 'vect__ngram_range': (1, 1), 'vect__use_idf': True},\n",
       "  {'clf__C': 0.1, 'vect__ngram_range': (1, 1), 'vect__use_idf': False},\n",
       "  {'clf__C': 0.1, 'vect__ngram_range': (1, 2), 'vect__use_idf': True},\n",
       "  {'clf__C': 0.1, 'vect__ngram_range': (1, 2), 'vect__use_idf': False},\n",
       "  {'clf__C': 0.01, 'vect__ngram_range': (1, 1), 'vect__use_idf': True},\n",
       "  {'clf__C': 0.01, 'vect__ngram_range': (1, 1), 'vect__use_idf': False},\n",
       "  {'clf__C': 0.01, 'vect__ngram_range': (1, 2), 'vect__use_idf': True},\n",
       "  {'clf__C': 0.01, 'vect__ngram_range': (1, 2), 'vect__use_idf': False},\n",
       "  {'clf__C': 0.001, 'vect__ngram_range': (1, 1), 'vect__use_idf': True},\n",
       "  {'clf__C': 0.001, 'vect__ngram_range': (1, 1), 'vect__use_idf': False},\n",
       "  {'clf__C': 0.001, 'vect__ngram_range': (1, 2), 'vect__use_idf': True},\n",
       "  {'clf__C': 0.001, 'vect__ngram_range': (1, 2), 'vect__use_idf': False}),\n",
       " 'rank_test_score': array([ 2,  6,  1,  3,  5,  9,  4,  7, 10, 14,  8, 13, 12, 15, 11, 16]),\n",
       " 'split0_test_score': array([ 0.9189404 ,  0.88715232,  0.92450331,  0.89536424,  0.89456954,\n",
       "         0.83125828,  0.89933775,  0.8384106 ,  0.82701987,  0.64211921,\n",
       "         0.83417219,  0.65271523,  0.70728477,  0.38940397,  0.7202649 ,\n",
       "         0.38172185]),\n",
       " 'split0_train_score': array([ 0.99907149,  0.9948269 ,  0.99960207,  0.99907149,  0.98063404,\n",
       "         0.93142327,  0.99071495,  0.96206393,  0.90701685,  0.71348985,\n",
       "         0.94057567,  0.7446611 ,  0.76760844,  0.4260512 ,  0.82809391,\n",
       "         0.43891763]),\n",
       " 'split1_test_score': array([ 0.91704214,  0.88682746,  0.92022263,  0.89689902,  0.89239332,\n",
       "         0.82745826,  0.8915982 ,  0.84097535,  0.82719321,  0.6315929 ,\n",
       "         0.82878346,  0.6477604 ,  0.70076862,  0.38271932,  0.71137026,\n",
       "         0.38112908]),\n",
       " 'split1_train_score': array([ 0.99973478,  0.99509349,  1.        ,  0.99946957,  0.98435221,\n",
       "         0.93409362,  0.99270654,  0.96260443,  0.90545021,  0.71582018,\n",
       "         0.94377404,  0.74910489,  0.7696592 ,  0.42235778,  0.82164169,\n",
       "         0.43508818]),\n",
       " 'split2_test_score': array([ 0.92087095,  0.89670738,  0.92458842,  0.90732873,  0.90095592,\n",
       "         0.82979288,  0.90467339,  0.85050451,  0.82952735,  0.65294742,\n",
       "         0.8425385 ,  0.66436537,  0.71216144,  0.40414233,  0.72278279,\n",
       "         0.38927244]),\n",
       " 'split2_train_score': array([ 0.9990726 ,  0.99509804,  0.99960254,  0.99867515,  0.98277689,\n",
       "         0.92951775,  0.99072602,  0.96131426,  0.90474298,  0.71263911,\n",
       "         0.9409115 ,  0.74430313,  0.77252252,  0.42620562,  0.8245893 ,\n",
       "         0.43627451]),\n",
       " 'std_fit_time': array([  0.15398362,   1.30742693,   3.36260638,   1.34088057,\n",
       "          1.1450944 ,   1.11804734,   0.88325639,   1.99417602,\n",
       "          1.18435895,   1.49008678,   0.5999562 ,   3.37755174,\n",
       "          0.28236877,   0.31008446,   1.91266247,  13.70512327]),\n",
       " 'std_score_time': array([ 0.07639909,  0.32789107,  0.38301452,  0.04924936,  0.17246334,\n",
       "         0.17008599,  0.28631277,  0.15010173,  0.45083197,  0.56804715,\n",
       "         0.32014414,  0.88793812,  0.17683872,  0.26168365,  1.79871697,\n",
       "         4.26310125]),\n",
       " 'std_test_score': array([ 0.00156274,  0.00458115,  0.00203849,  0.00531369,  0.00363253,\n",
       "         0.00156533,  0.00536694,  0.00520152,  0.00114298,  0.00871608,\n",
       "         0.00565745,  0.00695787,  0.00466621,  0.00894656,  0.00489538,\n",
       "         0.00370567]),\n",
       " 'std_train_score': array([ 0.00031242,  0.00012676,  0.00018747,  0.00032432,  0.00152382,\n",
       "         0.00187677,  0.00093625,  0.00052901,  0.00095015,  0.00134468,\n",
       "         0.00143513,  0.0021841 ,  0.00201529,  0.00177861,  0.00263738,\n",
       "         0.00160063])}"
      ]
     },
     "execution_count": 21,
     "metadata": {},
     "output_type": "execute_result"
    }
   ],
   "source": [
    "gs_clf.cv_results_"
   ]
  },
  {
   "cell_type": "code",
   "execution_count": null,
   "metadata": {
    "collapsed": true
   },
   "outputs": [],
   "source": []
  }
 ],
 "metadata": {
  "kernelspec": {
   "display_name": "Python 3",
   "language": "python",
   "name": "python3"
  },
  "language_info": {
   "codemirror_mode": {
    "name": "ipython",
    "version": 3
   },
   "file_extension": ".py",
   "mimetype": "text/x-python",
   "name": "python",
   "nbconvert_exporter": "python",
   "pygments_lexer": "ipython3",
   "version": "3.6.0"
  }
 },
 "nbformat": 4,
 "nbformat_minor": 2
}
