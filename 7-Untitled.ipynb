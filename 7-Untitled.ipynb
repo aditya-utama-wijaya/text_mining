{
 "cells": [
  {
   "cell_type": "code",
   "execution_count": 1,
   "metadata": {
    "collapsed": false
   },
   "outputs": [
    {
     "data": {
      "text/plain": [
       "list"
      ]
     },
     "execution_count": 1,
     "metadata": {},
     "output_type": "execute_result"
    }
   ],
   "source": [
    "import json\n",
    "theses = json.load(open('7-nthu_thesis20170330.json', encoding = 'utf-8'))\n",
    "type(theses)"
   ]
  },
  {
   "cell_type": "code",
   "execution_count": 2,
   "metadata": {
    "collapsed": false,
    "scrolled": true
   },
   "outputs": [
    {
     "data": {
      "text/plain": [
       "['編號',\n",
       " '校院名稱',\n",
       " '系所名稱',\n",
       " '作者',\n",
       " '作者(外文)',\n",
       " '論文名稱',\n",
       " '論文名稱(外文)',\n",
       " '指導教授',\n",
       " '指導教授(外文)',\n",
       " '口試委員',\n",
       " '口試委員(外文)',\n",
       " '口試日期',\n",
       " '學位類別',\n",
       " '畢業學年度',\n",
       " '畢業年度',\n",
       " '出版年',\n",
       " '語文別',\n",
       " '中文關鍵詞',\n",
       " '外文關鍵詞',\n",
       " '摘要',\n",
       " '摘要(外文)',\n",
       " '論文目次',\n",
       " '參考文獻',\n",
       " '論文頁數']"
      ]
     },
     "execution_count": 2,
     "metadata": {},
     "output_type": "execute_result"
    }
   ],
   "source": [
    "theses[0]"
   ]
  },
  {
   "cell_type": "code",
   "execution_count": 4,
   "metadata": {
    "collapsed": false
   },
   "outputs": [
    {
     "data": {
      "text/plain": [
       "20"
      ]
     },
     "execution_count": 4,
     "metadata": {},
     "output_type": "execute_result"
    }
   ],
   "source": [
    "theses[0].index('摘要(外文)')"
   ]
  },
  {
   "cell_type": "code",
   "execution_count": 5,
   "metadata": {
    "collapsed": false,
    "scrolled": true
   },
   "outputs": [
    {
     "data": {
      "text/plain": [
       "['Nowadays, sleep disorders become an important issue because it can adversely affect neurocognitive, cardiovascular, respiratory diseases, which subsequently induce the behavior\\ndisorder, majority of these cases up to 85% of these cases are obstructive sleep apnea (OSA). Therefore, the study of how to diagnose, detect and treat OSA is becoming a critical\\nissue from both academical and medical perspective. Polysomnography (PSG) can monitor the OSA using relatively few invasive techniques. However, sleep studies are expensive and time-consuming because they require overnight evaluation at sleep laboratories with dedicated systems and attending personnel. To improve such inconveniences of exam and high cost, it is important to develop a simplified method to diagnose the OSA.\\n\\nThe motivation of this study is to develop an OSA detection algorithm, which uses only electrocardiogram (ECG) signal. The procedures of this algorithm include three parts. At\\nfirst, ECG signals are preprocessed by discrete wavelet transform (DWT) method in order to detect the R peck by removing the base line wander and power line noise. Based on the R peak position, the 126 features were generated from the ECG-derived respiration (EDR) signal using time domain and frequency analysis. The range scaling method can be applied afterward to normalize all features in order to minimize the effect of large range variation from the value of each feature. At last, a classification method called support vector machine (SVM) is used to classify if the subject shows OSA symptom or not in each minute. The 10-\\nfold cross-validation method is applied to select the best SVM parameter for classification. By combining all the classification results, one can determine if the subject is normal or apnea.\\n\\nThe accuracy of 88.29%, the sensitivity of 92.90% and the specificity value of 86.48%can be seen from the Apnea-ECG database using the minute by minute performance based algorithm. Beside, the accuracy of 100%, the sensitivity of 100% and the specificity value of 100% also can be seen from the database using the subject based performance. The goal of this study to reduce both the detection time and cost is accomplished.',\n",
       " \"The research focuses on the divide between original brand manufacturer (OBM) and original equipment manufacturer (OEM) in D-Link, which is the No.1 Networking manufacturer in Taiwan. The divide between own branding and OEM had existed in D-Link for a long time. Till 2003，top management had decided to divide OEM from D-Link and establish ALPHA. Since then, D-Link has become a pure branding company. The evolution of D-Link could be separated into two stages: (1) Pre-divide period (1986-2002), the stage of adopting Dual strategy to catch branding business and OEM; (2) Post-divide period (2003 till now), the stage of dividing OEM from D-Link. This study chooses Porter's Five Forces as the framework to analyze the transition. Based on the interviews with assistant general manager and product manager, the results indicate that the positions of D-Link and Alpha have improved in the post-divide stage. The study concludes that all aspects of the five force analysis after the divide are relatively improved. Finally, managerial and policy implications for the research findings were drawn.\",\n",
       " 'As the development of the charged particle cancer treatment and the accomplishment long-term human space travel, the knowledge of the charged particle induced cellular biological effect is getting more and more important. The goal of this work is to develop a simple construction, easy installation and cost-effective charged particle cell irradiation system on the beam line of the 3 MV KN Van de Graaff accelerator in the Accelerator Laboratory of National Tsing Hua University (NTHU). In the system design, we applied the backscattering technique to instead of the usage of 90° bending magnet, which widely used for beam direction bending in other systems. This improvement is largely simplifying the system design as well as massively decreases the budget requirement in system installation. Moreover, the applications of silicon nitride membrane to the vacuum seal membrane and basement of cell culture dish in this project effectively eliminate the particle energy dispersion within a cell target. Based on the system performance test results, we confirm that NTHU charged particle cell irradiation system can provide a uniform vertical charged particle beam to execute the cellular or subcellular charged particle irradiation.',\n",
       " 'One-dimensional oxide-based nanostructures have been intensively studied because of their excellent optoelectronic properties. Due to the drawbacks of vapor-phase or aqueous solution growth, including complex processes, high synthesis temperatures, expensive precursors, and also preceding patterned seeding or subsequent patterning processes, there is an urgent need to grow patterned nanostructures by a simple and direct process at low temperatures. In the present study, stress-induced growths of one-dimensional single-crystalline ZnO and TiO2 nanostructures directly from ZnO and TiO2 films, respectively, in an ambient atmosphere at room temperature were developed by indentation or scratching without the use of any reaction precursors. Under large applied stresses oxide bonds broke assisted by hydrolysis in the presence of moisture, and subsequently were reconstructed (defined as a bond breaking-hydrolysis-reconstruction mechanism) leading to the spontaneous growth of one-dimensional nanocrystals. The direct growth at controlled locations provides an opportunity for the simple preparation of patterned nanostructures of oxide-based materials.',\n",
       " 'Abstract\\n\\n    PTEN is a tumor suppressor protein that inhibits cell growth and viability by modulating the PI3K/AKT signaling pathway. Zinc has been reported to cause PTEN degradation in the airway epithelium. In this study, we further investigate how zinc impact on the PTEN protein and bioeffect in BEAS-2B cells. First, we showed that zinc can suppress the level of PTEN. In previous studies, Reportedly, K13 and K289 are two major monoubiquitination sites that related to PTEN stability. We expressed PTENK13/K289E mutant into BEAS-2B cells and found that BEAS-2B cell was still sensitive to Zinc treatment. Noticeably, zinc activates IKK activity and reduces IκB level in the cells. Administration of Akt inhibitor did not block the zinc-induced IKK activation. Finally, we also examined whether cell viability is associated with the zinc-induced PTEN degradation. The result shows that zinc induce BEAS-2B cell death which is not related to apoptosis, necrosis or autophagy. There is increasing evidence showing that zinc plays a key role in many signaling pathway. However, the underlying mechanisms are poorly understood. Here we assessed the effect of zinc on PTEN and NFκB through a non apoptotic cell death, and the detailed mechanisms needs further investigation.\\n\\n\\n']"
      ]
     },
     "execution_count": 5,
     "metadata": {},
     "output_type": "execute_result"
    }
   ],
   "source": [
    "abstracts = [thesis[20] for thesis in theses[1:]]\n",
    "abstracts[:5]"
   ]
  },
  {
   "cell_type": "code",
   "execution_count": 6,
   "metadata": {
    "collapsed": false
   },
   "outputs": [
    {
     "data": {
      "text/plain": [
       "8"
      ]
     },
     "execution_count": 6,
     "metadata": {},
     "output_type": "execute_result"
    }
   ],
   "source": [
    "theses[0].index('指導教授(外文)')"
   ]
  },
  {
   "cell_type": "code",
   "execution_count": 7,
   "metadata": {
    "collapsed": false,
    "scrolled": true
   },
   "outputs": [
    {
     "data": {
      "text/plain": [
       "[('Nowadays, sleep disorders become an important issue because it can adversely affect neurocognitive, cardiovascular, respiratory diseases, which subsequently induce the behavior\\ndisorder, majority of these cases up to 85% of these cases are obstructive sleep apnea (OSA). Therefore, the study of how to diagnose, detect and treat OSA is becoming a critical\\nissue from both academical and medical perspective. Polysomnography (PSG) can monitor the OSA using relatively few invasive techniques. However, sleep studies are expensive and time-consuming because they require overnight evaluation at sleep laboratories with dedicated systems and attending personnel. To improve such inconveniences of exam and high cost, it is important to develop a simplified method to diagnose the OSA.\\n\\nThe motivation of this study is to develop an OSA detection algorithm, which uses only electrocardiogram (ECG) signal. The procedures of this algorithm include three parts. At\\nfirst, ECG signals are preprocessed by discrete wavelet transform (DWT) method in order to detect the R peck by removing the base line wander and power line noise. Based on the R peak position, the 126 features were generated from the ECG-derived respiration (EDR) signal using time domain and frequency analysis. The range scaling method can be applied afterward to normalize all features in order to minimize the effect of large range variation from the value of each feature. At last, a classification method called support vector machine (SVM) is used to classify if the subject shows OSA symptom or not in each minute. The 10-\\nfold cross-validation method is applied to select the best SVM parameter for classification. By combining all the classification results, one can determine if the subject is normal or apnea.\\n\\nThe accuracy of 88.29%, the sensitivity of 92.90% and the specificity value of 86.48%can be seen from the Apnea-ECG database using the minute by minute performance based algorithm. Beside, the accuracy of 100%, the sensitivity of 100% and the specificity value of 100% also can be seen from the database using the subject based performance. The goal of this study to reduce both the detection time and cost is accomplished.',\n",
       "  ['Ma,', 'Hsi-Pin']),\n",
       " (\"The research focuses on the divide between original brand manufacturer (OBM) and original equipment manufacturer (OEM) in D-Link, which is the No.1 Networking manufacturer in Taiwan. The divide between own branding and OEM had existed in D-Link for a long time. Till 2003，top management had decided to divide OEM from D-Link and establish ALPHA. Since then, D-Link has become a pure branding company. The evolution of D-Link could be separated into two stages: (1) Pre-divide period (1986-2002), the stage of adopting Dual strategy to catch branding business and OEM; (2) Post-divide period (2003 till now), the stage of dividing OEM from D-Link. This study chooses Porter's Five Forces as the framework to analyze the transition. Based on the interviews with assistant general manager and product manager, the results indicate that the positions of D-Link and Alpha have improved in the post-divide stage. The study concludes that all aspects of the five force analysis after the divide are relatively improved. Finally, managerial and policy implications for the research findings were drawn.\",\n",
       "  []),\n",
       " ('As the development of the charged particle cancer treatment and the accomplishment long-term human space travel, the knowledge of the charged particle induced cellular biological effect is getting more and more important. The goal of this work is to develop a simple construction, easy installation and cost-effective charged particle cell irradiation system on the beam line of the 3 MV KN Van de Graaff accelerator in the Accelerator Laboratory of National Tsing Hua University (NTHU). In the system design, we applied the backscattering technique to instead of the usage of 90° bending magnet, which widely used for beam direction bending in other systems. This improvement is largely simplifying the system design as well as massively decreases the budget requirement in system installation. Moreover, the applications of silicon nitride membrane to the vacuum seal membrane and basement of cell culture dish in this project effectively eliminate the particle energy dispersion within a cell target. Based on the system performance test results, we confirm that NTHU charged particle cell irradiation system can provide a uniform vertical charged particle beam to execute the cellular or subcellular charged particle irradiation.',\n",
       "  ['Hsu,', 'Ching-Han', 'Niu,', 'Huan']),\n",
       " ('One-dimensional oxide-based nanostructures have been intensively studied because of their excellent optoelectronic properties. Due to the drawbacks of vapor-phase or aqueous solution growth, including complex processes, high synthesis temperatures, expensive precursors, and also preceding patterned seeding or subsequent patterning processes, there is an urgent need to grow patterned nanostructures by a simple and direct process at low temperatures. In the present study, stress-induced growths of one-dimensional single-crystalline ZnO and TiO2 nanostructures directly from ZnO and TiO2 films, respectively, in an ambient atmosphere at room temperature were developed by indentation or scratching without the use of any reaction precursors. Under large applied stresses oxide bonds broke assisted by hydrolysis in the presence of moisture, and subsequently were reconstructed (defined as a bond breaking-hydrolysis-reconstruction mechanism) leading to the spontaneous growth of one-dimensional nanocrystals. The direct growth at controlled locations provides an opportunity for the simple preparation of patterned nanostructures of oxide-based materials.',\n",
       "  ['Lin,', 'Su-Jien', 'Chang,', 'Shou-Yi']),\n",
       " ('Abstract\\n\\n    PTEN is a tumor suppressor protein that inhibits cell growth and viability by modulating the PI3K/AKT signaling pathway. Zinc has been reported to cause PTEN degradation in the airway epithelium. In this study, we further investigate how zinc impact on the PTEN protein and bioeffect in BEAS-2B cells. First, we showed that zinc can suppress the level of PTEN. In previous studies, Reportedly, K13 and K289 are two major monoubiquitination sites that related to PTEN stability. We expressed PTENK13/K289E mutant into BEAS-2B cells and found that BEAS-2B cell was still sensitive to Zinc treatment. Noticeably, zinc activates IKK activity and reduces IκB level in the cells. Administration of Akt inhibitor did not block the zinc-induced IKK activation. Finally, we also examined whether cell viability is associated with the zinc-induced PTEN degradation. The result shows that zinc induce BEAS-2B cell death which is not related to apoptosis, necrosis or autophagy. There is increasing evidence showing that zinc plays a key role in many signaling pathway. However, the underlying mechanisms are poorly understood. Here we assessed the effect of zinc on PTEN and NFκB through a non apoptotic cell death, and the detailed mechanisms needs further investigation.\\n\\n\\n',\n",
       "  ['Lin,', 'Lih-Yuan'])]"
      ]
     },
     "execution_count": 7,
     "metadata": {},
     "output_type": "execute_result"
    }
   ],
   "source": [
    "abstracts_and_advisors = [(thesis[20], thesis[8].split()) for thesis in theses[1:]]\n",
    "abstracts_and_advisors[:5]"
   ]
  },
  {
   "cell_type": "code",
   "execution_count": null,
   "metadata": {
    "collapsed": true
   },
   "outputs": [],
   "source": []
  }
 ],
 "metadata": {
  "kernelspec": {
   "display_name": "Python 3",
   "language": "python",
   "name": "python3"
  },
  "language_info": {
   "codemirror_mode": {
    "name": "ipython",
    "version": 3
   },
   "file_extension": ".py",
   "mimetype": "text/x-python",
   "name": "python",
   "nbconvert_exporter": "python",
   "pygments_lexer": "ipython3",
   "version": "3.6.0"
  }
 },
 "nbformat": 4,
 "nbformat_minor": 2
}
