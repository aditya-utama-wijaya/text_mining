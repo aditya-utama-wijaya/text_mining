{
 "cells": [
  {
   "cell_type": "markdown",
   "metadata": {},
   "source": [
    "# Yahoo New Crawl hint"
   ]
  },
  {
   "cell_type": "markdown",
   "metadata": {},
   "source": [
    "This notebook demostrate how to crawl data from Yahoo News (https://tw.news.yahoo.com/).\n",
    "\n",
    "However, it's incomplete. You'll have to use some advanced techniques to collect enough data for document classification."
   ]
  },
  {
   "cell_type": "code",
   "execution_count": 1,
   "metadata": {
    "collapsed": true
   },
   "outputs": [],
   "source": [
    "import requests\n",
    "from bs4 import BeautifulSoup"
   ]
  },
  {
   "cell_type": "code",
   "execution_count": 2,
   "metadata": {
    "collapsed": true
   },
   "outputs": [],
   "source": [
    "req = requests.get('https://tw.news.yahoo.com/')"
   ]
  },
  {
   "cell_type": "code",
   "execution_count": 3,
   "metadata": {
    "collapsed": true
   },
   "outputs": [],
   "source": [
    "soup = BeautifulSoup(req.text, 'lxml')"
   ]
  },
  {
   "cell_type": "markdown",
   "metadata": {},
   "source": [
    "Get categories of Yahoo News"
   ]
  },
  {
   "cell_type": "code",
   "execution_count": 4,
   "metadata": {},
   "outputs": [
    {
     "name": "stdout",
     "output_type": "stream",
     "text": [
      "https://tw.news.yahoo.com\n",
      "https://tw.news.yahoo.com/politics\n",
      "https://tw.news.yahoo.com/finance\n",
      "https://tw.news.yahoo.com/entertainment\n",
      "https://tw.news.yahoo.com/sports\n",
      "https://tw.news.yahoo.com/society\n",
      "https://tw.news.yahoo.com/local\n",
      "https://tw.news.yahoo.com/world\n",
      "https://tw.news.yahoo.com/lifestyle\n",
      "https://tw.news.yahoo.com/health\n",
      "https://tw.news.yahoo.com/technology\n",
      "https://tw.news.yahoo.com/travel\n",
      "https://tw.news.yahoo.com/weather/\n",
      "https://tw.news.yahoo.com/odd\n",
      "https://tw.news.yahoo.com/blogs\n",
      "https://tw.news.yahoo.com/video\n",
      "https://tw.news.yahoo.com/topic/520survey\n",
      "https://tw.news.yahoo.com/topic/French_Election\n",
      "https://tw.news.yahoo.com/topic/SouthKorea_Election\n",
      "https://tw.news.yahoo.com/topic/pension\n",
      "https://tw.news.yahoo.com/topic/Laborlaw\n",
      "https://tw.news.yahoo.com/topic/LIN-YIHAN\n"
     ]
    }
   ],
   "source": [
    "categories = []\n",
    "for category in soup.select(\".nr-applet-nav-item.nr-list-link.openSubNav\"):\n",
    "    categories.append(category.attrs['href'].strip('/').split('/')[-1])\n",
    "    print(category.attrs['href'])"
   ]
  },
  {
   "cell_type": "markdown",
   "metadata": {},
   "source": [
    "remove unwanted categories"
   ]
  },
  {
   "cell_type": "code",
   "execution_count": 6,
   "metadata": {},
   "outputs": [
    {
     "data": {
      "text/plain": [
       "['politics',\n",
       " 'finance',\n",
       " 'entertainment',\n",
       " 'sports',\n",
       " 'society',\n",
       " 'local',\n",
       " 'world',\n",
       " 'lifestyle',\n",
       " 'health',\n",
       " 'technology',\n",
       " 'travel',\n",
       " 'weather',\n",
       " 'odd',\n",
       " 'blogs',\n",
       " 'video']"
      ]
     },
     "execution_count": 6,
     "metadata": {},
     "output_type": "execute_result"
    }
   ],
   "source": [
    "categories = categories[1: -6]\n",
    "categories"
   ]
  },
  {
   "cell_type": "markdown",
   "metadata": {
    "collapsed": true
   },
   "source": [
    "### Get news list"
   ]
  },
  {
   "cell_type": "code",
   "execution_count": 7,
   "metadata": {
    "collapsed": true
   },
   "outputs": [],
   "source": [
    "req = requests.get('https://tw.news.yahoo.com/{}'.format(categories[0]))\n",
    "soup = BeautifulSoup(req.text, 'lxml')"
   ]
  },
  {
   "cell_type": "code",
   "execution_count": 10,
   "metadata": {
    "scrolled": true
   },
   "outputs": [
    {
     "name": "stdout",
     "output_type": "stream",
     "text": [
      "{'https://tw.news.yahoo.com/%E5%8E%9F%E4%BD%8F%E6%B0%91%E5%8A%83%E8%A8%AD%E5%82%B3%E7%B5%B1%E9%A0%98%E5%9F%9F%E4%B8%8D%E6%98%AF%E5%9C%A8%E6%90%B6%E5%9C%B0-%E6%BC%A2%E4%BA%BA%E5%88%A5%E6%93%94%E5%BF%83-131659896.html', 'https://tw.news.yahoo.com/%E5%A5%B3%E7%AB%A5%E5%89%B2%E5%96%89%E6%A1%88%E4%BA%8C%E5%AF%A9-%E9%BE%94%E9%87%8D%E5%AE%89%E7%B6%AD%E6%8C%81%E7%84%A1%E6%9C%9F%E5%BE%92%E5%88%91-032034311.html', 'https://tw.news.yahoo.com/wha-115909431.html', 'https://tw.news.yahoo.com/%E8%AD%B0%E5%93%A1%E8%A6%81%E8%B3%87%E6%96%99%E4%B8%8D%E7%B5%A6-%E5%8F%B0%E5%8D%97%E5%B8%82%E5%BA%9C-%E6%B6%89%E5%80%8B%E8%B3%87-%E5%9C%96-115100899.html', 'https://tw.news.yahoo.com/%E8%94%A1%E7%95%B6%E5%B1%80%E7%B7%A3%E4%BD%95%E6%94%B6%E4%B8%8D%E5%88%B0%E4%B8%96%E8%A1%9B%E7%9A%84%E9%82%80%E8%AB%8B%E4%BF%A1%EF%BC%9F-111717348.html', 'https://tw.news.yahoo.com/%E6%9C%AA%E7%8D%B2wha%E9%82%80%E8%AB%8B%E5%87%BD-%E5%BA%9C-%E9%81%BA%E6%86%BE%E8%88%87%E4%B8%8D%E6%BB%BF-134300425.html', 'https://tw.news.yahoo.com/26-135909434.html', 'https://tw.news.yahoo.com/%E7%90%83%E5%9C%A8%E8%94%A1%E6%89%8B%E4%B8%8A-wha-%E9%99%B8%E6%89%B9%E5%8F%B0%E6%8C%BE%E6%B4%8B%E8%87%AA%E9%87%8D-110835757.html', 'https://tw.news.yahoo.com/%E5%8B%92%E6%96%83%E8%B3%8A%E5%88%A4%E8%B3%A0%E5%AE%B6%E5%B1%AC64%E8%90%AC-%E5%B1%8B%E4%B8%BB%E4%B8%8D%E6%9C%8D%E5%A0%85%E6%B1%BA%E4%B8%8A%E8%A8%B4-042035503.html', 'https://tw.news.yahoo.com/%E6%9F%AFp%E7%95%B6%E5%85%B5%E5%97%86%E7%87%9F%E9%95%B7%E4%BA%8B%E8%B9%9F%E6%9B%9D%E5%85%89-%E7%B6%B2%E5%8F%8B%E5%96%8A%E8%B6%85%E7%8B%82-131900025.html', 'https://tw.news.yahoo.com/%E6%9C%AA%E5%8F%97%E9%82%80wha-%E5%8F%B0%E7%81%A32009%E5%B9%B4%E5%BE%8C%E9%A6%96%E5%A4%B1%E8%A7%80%E5%AF%9F%E5%93%A1%E8%BA%AB%E5%88%86-091638045.html', 'https://tw.news.yahoo.com/%E7%9D%BD%E9%81%952%E5%B9%B4-%E5%8F%B0%E8%82%A1%E5%86%8D%E8%A6%8B%E8%90%AC%E9%BB%9E%E8%A1%8C%E6%83%85-%E5%8D%BB%E6%98%AF%E6%9B%87%E8%8A%B1-%E7%8F%BE-102020120.html', 'https://tw.news.yahoo.com/%E8%84%AB%E5%8C%97%E8%80%85%E4%B9%8B%E5%AD%90-%E4%BA%BA%E6%AC%8A%E5%BE%8B%E5%B8%AB%E6%96%87%E5%9C%A8%E5%AF%85%E8%AE%8A%E6%88%90%E9%9F%93%E5%9C%8B%E7%B8%BD%E7%B5%B1-144219860.html', 'https://tw.news.yahoo.com/%E9%99%B8%E7%94%9F%E7%B4%8D%E4%BF%9D%E5%BE%8C%E8%AA%BF%E9%AB%98%E5%A2%83%E5%A4%96%E7%94%9F%E5%81%A5%E4%BF%9D%E8%B2%BB-%E6%98%AF%E6%AD%A7%E8%A6%96-%E9%82%84%E6%98%AF%E8%87%AA%E4%BF%9D-132151978.html', 'https://tw.news.yahoo.com/wha-p-125909763.html', 'https://tw.news.yahoo.com/%E5%9C%8B%E9%9A%9B%E8%81%B2%E6%8F%B4wha-%E4%B8%AD%E5%85%B1%E7%82%BA%E4%BD%95%E7%B4%8B%E9%A2%A8%E4%B8%8D%E5%8B%95-140107866.html', 'https://tw.news.yahoo.com/%E6%96%87%E5%9C%A8%E5%AF%85%E5%8F%AF%E6%9C%9B%E5%85%A5%E4%B8%BB%E9%9D%92%E7%93%A6%E5%8F%B0-%E5%87%BA%E5%8F%A3%E6%B0%91%E8%AA%BF-%E6%96%87%E5%BE%97%E7%A5%A8%E7%8E%8741.4-%E7%8D%A8%E8%B5%B0-%E9%A0%98%E5%85%88%E6%B4%AA%E6%BA%96%E6%9D%93%E9%81%9418.1-110300973.html', 'https://tw.news.yahoo.com/%E5%8D%97%E9%9F%93%E6%94%BF%E6%B2%BB%E4%B8%AD%E6%A8%9E152%E5%A4%A9%E7%9A%84%E7%BC%BA%E4%BD%8D%E6%83%A1%E5%A4%A2%E8%83%BD%E5%90%A6%E7%B5%90%E6%9D%9F-%E5%BE%97%E7%9C%8B%E7%B8%BD%E7%B5%B1%E7%95%B6%E9%81%B8%E4%BA%BA%E5%BE%97%E7%A5%A8%E6%9C%89%E6%B2%92%E6%9C%89%E9%81%8E%E5%8D%8A-071727558.html', 'https://tw.news.yahoo.com/p-sop-142908229.html', 'https://tw.news.yahoo.com/%E6%96%87%E5%9C%A8%E5%AF%85%E6%96%99%E5%8B%9D%E5%87%BA-%E7%B5%82%E7%B5%90%E5%8D%97%E9%9F%93%E4%BF%9D%E5%AE%88%E6%B4%BE10%E5%B9%B4%E5%9F%B7%E6%94%BF-135402733.html'}\n"
     ]
    }
   ],
   "source": [
    "from urllib.parse import urljoin\n",
    "urls = set()\n",
    "for article in soup.select(\".js-stream-content a\"):\n",
    "    url = urljoin('https://tw.news.yahoo.com/', article.attrs['href'])\n",
    "    urls.add(url)\n",
    "print(urls)"
   ]
  },
  {
   "cell_type": "markdown",
   "metadata": {},
   "source": [
    "#### Pack it into a function"
   ]
  },
  {
   "cell_type": "code",
   "execution_count": 22,
   "metadata": {
    "collapsed": true
   },
   "outputs": [],
   "source": [
    "def get_news_links(category):\n",
    "    page_url = 'https://tw.news.yahoo.com/{}'.format(category)\n",
    "    req = requests.get(page_url)\n",
    "    soup = BeautifulSoup(req.text, 'lxml')\n",
    "\n",
    "    return {urljoin(page_url, article.attrs['href']) for article in soup.select(\".js-stream-content a\")}"
   ]
  },
  {
   "cell_type": "markdown",
   "metadata": {},
   "source": [
    "### Get links from every category"
   ]
  },
  {
   "cell_type": "code",
   "execution_count": 24,
   "metadata": {
    "collapsed": true
   },
   "outputs": [],
   "source": [
    "links = {}\n",
    "for category in categories:\n",
    "    links[category] = get_news_links(category)"
   ]
  },
  {
   "cell_type": "code",
   "execution_count": 26,
   "metadata": {},
   "outputs": [
    {
     "data": {
      "text/plain": [
       "dict_keys(['politics', 'finance', 'entertainment', 'sports', 'society', 'local', 'world', 'lifestyle', 'health', 'technology', 'travel', 'weather', 'odd'])"
      ]
     },
     "execution_count": 26,
     "metadata": {},
     "output_type": "execute_result"
    }
   ],
   "source": [
    "links.keys()"
   ]
  },
  {
   "cell_type": "markdown",
   "metadata": {
    "collapsed": true
   },
   "source": [
    "## Get news content"
   ]
  },
  {
   "cell_type": "markdown",
   "metadata": {},
   "source": [
    "get the html document"
   ]
  },
  {
   "cell_type": "code",
   "execution_count": 29,
   "metadata": {
    "collapsed": true
   },
   "outputs": [],
   "source": [
    "req = requests.get('https://tw.news.yahoo.com/%E6%94%BF%E9%99%A2-%E6%8E%A8%E5%8B%95%E5%B9%B4%E6%94%B9%E7%B5%95%E4%B8%8D%E5%8B%95%E6%90%96-160000837.html')\n",
    "soup = BeautifulSoup(req.text, 'lxml')"
   ]
  },
  {
   "cell_type": "code",
   "execution_count": 33,
   "metadata": {},
   "outputs": [
    {
     "data": {
      "text/plain": [
       "'政院：推動年改絕不動搖'"
      ]
     },
     "execution_count": 33,
     "metadata": {},
     "output_type": "execute_result"
    }
   ],
   "source": [
    "soup.select_one('header.canvas-header h1').text"
   ]
  },
  {
   "cell_type": "code",
   "execution_count": 36,
   "metadata": {},
   "outputs": [
    {
     "data": {
      "text/plain": [
       "'【記者潘鴻志、王志誠／台北報導】'"
      ]
     },
     "execution_count": 36,
     "metadata": {},
     "output_type": "execute_result"
    }
   ],
   "source": [
    "soup.select_one('div.auth-prov-soc').text"
   ]
  },
  {
   "cell_type": "code",
   "execution_count": 40,
   "metadata": {
    "scrolled": false
   },
   "outputs": [
    {
     "name": "stdout",
     "output_type": "stream",
     "text": [
      "行政院副院長林錫耀於昨（六）日代表林全院長出席「中華民國工商協進會中部工商午餐會」時表示，去（一○五）年五二○新政府上台後，積極解決各項問題，例如台灣面臨少子女化、高齡化等危機，因此，行政團隊積極推動年金改革，決心不會動搖，年金改革最重要的法案，已在立法院的委員會通過，盼在一個月內能完成二、三讀，也希望其它相關法案都能順利通過。\n",
      "林副院長指出：除面對問題，推動改革外，政府也極力進行各項建設，林全院長今天就到台南訪視沙崙綠能科學城，總統也非常重視產業界的意見，充分聽取產業界的心聲，希望有效且積極解決問題，目前提出的八年八八○○億「前瞻基礎建設計畫」就是為了加速推動國家未來所需的建設，帶動經濟成長的動能，但「前瞻基礎建設計畫特別條例」目前還無法在立法院的委員會通過，盼各界給予支持，讓有利經濟民生的計劃儘速啟動。\n",
      "林副院長並強調：新政府有決心，有計畫，堅定務實推動各項改革，並加速進行建設。台灣過去很長一段時間，經濟並不景氣。但新政府上台後，最近公布的一些經濟數據可發現，目前景氣已在穩定復甦中，政府希望在此時期，一方面加速各項基礎建設，擴大財政支出，帶動經濟成長；另外，也逐步推動各項經濟轉型政策，包括：「五＋二」創新產業計畫，期能透過產業創新帶動經濟轉型，讓台灣有更多元的經濟發展動能。\n",
      "林副院長也指出：影響企業投資的障礙，例如水、電、人才、土地及環評等，政府都瞭解，也會積極溝通說明，希望取得更好的共識。\n"
     ]
    }
   ],
   "source": [
    "for p in soup.select('div.canvas-body p'):\n",
    "    print(p.text)"
   ]
  },
  {
   "cell_type": "markdown",
   "metadata": {},
   "source": [
    "Pack it into a function"
   ]
  },
  {
   "cell_type": "code",
   "execution_count": 6,
   "metadata": {
    "collapsed": true
   },
   "outputs": [],
   "source": [
    "def get_new_content(url):\n",
    "    content = []\n",
    "    req = requests.get(url)\n",
    "    soup = BeautifulSoup(req.text, 'lxml')\n",
    "    content.append(soup.select_one('header.canvas-header h1').text)\n",
    "    content.append(soup.select_one('div.auth-prov-soc').text)\n",
    "    for p in soup.select('div.canvas-body p'):\n",
    "        content.append(p.text)\n",
    "    return '\\n'.join(content)"
   ]
  },
  {
   "cell_type": "code",
   "execution_count": 11,
   "metadata": {
    "scrolled": true
   },
   "outputs": [
    {
     "name": "stdout",
     "output_type": "stream",
     "text": [
      "八田與一銅像修復揭幕 長孫盼傳承到後世\n",
      "政治中心／綜合報導民報2017年5月7日\n",
      "台南烏山頭水庫八田與一銅像遭斷頭，日前完成修復，今（7）日上午舉行揭幕儀式。從日本趕來出席的八田與一長孫八田修一說，不敢相信這麼快就修復了，感到很開心，但他不是為銅像來的，而是來確認台日間的友誼沒變，而秀麗的風景沒變，景色依舊，他希望一切能傳承到後世。\n",
      "台南市長賴清德則表示，八田與一銅像遭人蓄意破壞，市府未能妥善保護，對於家屬表達遺憾，但此種破壞行為不會影響台日感情，台日感情甚至會因為歷經考驗而更好。\n",
      "八田與一銅像4月15日遭前台北市議員李承龍、邱姓女子斷首後，備受關注，連日本媒體也大幅報導；在頭部遍尋不著的情形下，王姓專業技師以奇美博物館典藏的胸像，接上銅像，完成修復。明天八田與一忌日，追思活動將如期舉行。\n",
      "上午揭幕式包括台南市長賴清德、日本金澤市長山野之義、加賀市副市長河合篤史、日本台灣交流協會高雄事務所長中郡錦藏、日本金澤市訪問團，八田修一夫婦等家屬等多人參加，共同見證八田與一銅像的修復，並聲言台日友誼穩固。\n",
      "金澤市長山野之義表示，這銅像是當初台灣朋友幫忙建造，台灣的朋友懷著感恩之心，幫我們故鄉的大前輩建造這銅像；感到開心的同時，身為台南市的友人他感到非常驕傲。\n",
      "他表示，當然（銅像斷頭）這是一個令人不悅且傷心的事件，但台南與金澤、日本與台灣的友誼更深厚強固，他回到日本後，會把這好消息傳達給市民。\n",
      "八田修一則說，看到祖父銅像在這麼短時間內修復，即使現場親眼目睹，他還是不敢相信；但他不是為銅像來的，而是要確認台日間的友誼沒變，不會因銅像而損及台日友誼。\n",
      "八田修一表示，他的祖父75年前坐在此地，但這裡都沒有改變，水庫一樣在出水，風景依然秀麗，他希望能一直傳承到後世。\n",
      "賴清德則表示，金澤市的傑出市民八田在八、九十年前東京帝大畢業後就來到台南，在物質相當缺乏的年代，建造了一個當時亞洲最現代化的水庫，不僅嘉慧農民，也促成了經濟發展。許許多多的農民、台灣的朋友，日本的好朋友們，大家都飲水思源，感念八田與一先生的偉大貢獻，集資興建銅像。\n",
      "賴清德也表示，八田銅像4月26日就已修復完成，很有效率，沒有留下傷害的痕跡，非常感謝！這起令人遺憾的事件，目標是要破壞日本跟台灣的感情，慶幸的是台灣社會反對這樣的行為。他說，感情要經過考驗，考驗過的感情才是真感情，台日感情不僅沒變，還會更好。 \n",
      "嘉南農田水利會會長楊明風除對於銅像遭到破壞表示遺憾，並強調已加裝照明、監視錄影等設備，未來也會加強銅像安全維護。\n"
     ]
    }
   ],
   "source": [
    "url = 'https://tw.news.yahoo.com/-043018999.html'\n",
    "print(get_new_content(url))"
   ]
  },
  {
   "cell_type": "markdown",
   "metadata": {
    "collapsed": true
   },
   "source": [
    "news id parse function"
   ]
  },
  {
   "cell_type": "code",
   "execution_count": 11,
   "metadata": {
    "collapsed": true
   },
   "outputs": [],
   "source": [
    "import re\n",
    "url_re = re.compile('-(\\d{7,10})')\n",
    "\n",
    "def parse_nid(url):\n",
    "    m = url_re.search(url)\n",
    "    return m.group(1)"
   ]
  },
  {
   "cell_type": "code",
   "execution_count": 63,
   "metadata": {},
   "outputs": [
    {
     "data": {
      "text/plain": [
       "'125910139'"
      ]
     },
     "execution_count": 63,
     "metadata": {},
     "output_type": "execute_result"
    }
   ],
   "source": [
    "parse_nid(url)"
   ]
  },
  {
   "cell_type": "code",
   "execution_count": 14,
   "metadata": {},
   "outputs": [],
   "source": [
    "import os\n",
    "for c in categories:\n",
    "    os.mkdir(c)"
   ]
  },
  {
   "cell_type": "code",
   "execution_count": 261,
   "metadata": {},
   "outputs": [
    {
     "name": "stdout",
     "output_type": "stream",
     "text": [
      "https://tw.news.yahoo.com/-105909176.html\n",
      "https://tw.news.yahoo.com/-075910832.html\n",
      "https://tw.news.yahoo.com/%E8%BF%8E%E5%A8%B6%E6%96%B0%E5%A8%98%E5%97%A8%E9%81%8E%E9%A0%AD-%E6%8E%A8%E6%96%B7%E6%AC%84%E6%9D%867%E4%BA%BA%E5%A2%9C%E6%A8%93-054600419.html\n",
      "https://tw.news.yahoo.com/%E8%98%87%E8%8A%B1%E6%94%B9%E4%B8%8D%E6%8E%A5%E5%9C%8B%E4%BA%94-%E5%AE%9C%E8%98%AD%E7%B8%A3%E9%95%B7%E6%80%A8%E8%98%87%E6%BE%B3%E5%A1%9E%E7%88%86-003200571.html\n",
      "https://tw.news.yahoo.com/%E5%91%82%E7%A7%80%E8%93%AE%E6%8E%A8%E5%92%8C%E5%B9%B3%E4%B8%AD%E7%AB%8B%E5%85%AC%E6%8A%95-%E5%9C%96-135101289.html\n",
      "https://tw.news.yahoo.com/%E8%AD%B0%E5%93%A1%E5%86%8D%E7%88%86%E6%9C%89%E7%8B%BC%E5%B8%AB-%E9%99%B3%E8%8F%8A%E6%80%92-%E5%88%A5%E5%83%8F%E9%80%A3%E7%BA%8C%E5%8A%87-111900642.html\n",
      "https://tw.news.yahoo.com/%E7%8D%A8%E5%AE%B6-%E6%B4%AA%E7%A7%80%E6%9F%B1%E6%85%8B%E5%BA%A6%E5%87%BA%E7%8F%BE%E8%BD%89%E5%9C%9C-10%E6%97%A5%E8%BE%AF%E8%AB%96%E6%9C%83%E6%9C%89%E6%9C%9B%E5%87%BA%E5%B8%AD-%E6%88%B0-042400430.html\n",
      "https://tw.news.yahoo.com/-153022700.html\n",
      "https://tw.news.yahoo.com/%E5%B7%B4%E8%A5%BF%E7%9F%B3%E6%B2%B9%E8%B2%AA%E7%80%86%E6%A1%88-%E5%89%8D%E7%B8%BD%E7%B5%B1%E9%AD%AF%E6%8B%89%E8%A2%AB%E6%8E%A7%E8%97%8F%E9%8F%A1%E4%BA%BA-142003619.html\n",
      "https://tw.news.yahoo.com/%E6%B3%95%E5%9C%8B%E6%9C%83%E8%AD%B0%E5%93%A1%E7%82%BA%E9%A6%AC%E5%85%8B%E5%AE%8F%E7%AB%99%E5%8F%B0-%E6%98%8F%E5%80%92%E9%80%81%E9%86%AB%E4%B8%8D%E6%B2%BB-130729628.html\n",
      "https://tw.news.yahoo.com/-100028870.html\n",
      "https://tw.news.yahoo.com/%E8%94%A1%E7%B8%BD%E7%B5%B1-%E6%96%B0%E5%8A%A0%E5%9D%A1%E5%8F%AF%E4%BB%A5%E5%8D%94%E5%8A%A9%E5%8F%B0%E7%81%A3%E6%9B%B4%E7%9E%AD%E8%A7%A3%E6%9D%B1%E5%8D%94-064120507.html\n",
      "https://tw.news.yahoo.com/%E5%82%B7%E5%BF%83%E6%AF%8D%E8%A6%AA%E7%AF%80-%E7%A9%BA%E8%BC%AA%E6%A4%85%E4%BB%A3%E9%A0%98%E5%82%91%E5%87%BA%E6%84%9B%E5%BF%83%E5%AA%BD%E5%AA%BD%E7%8D%8E-%E5%9C%96-123501901.html\n",
      "https://tw.news.yahoo.com/%E8%97%8D%E7%87%9F%E9%BB%A8%E9%AD%81%E9%81%B8%E8%88%89%E6%94%BF%E8%A6%8B%E6%9C%83-%E6%B4%AA-%E9%83%9D-%E8%A9%B9%E5%9C%8D%E6%94%BB%E5%90%B3%E6%95%A6%E7%BE%A9-105024003.html\n",
      "https://tw.news.yahoo.com/%E6%83%85%E4%BE%B6%E8%A2%AB%E6%94%94%E6%AA%A2%E9%80%BC%E8%B7%AA-%E7%AB%9F%E5%96%9C%E8%BF%8E-%E7%84%A1%E6%9C%9F%E5%BE%92%E5%88%91-135800538.html\n",
      "https://tw.news.yahoo.com/%E9%99%B8%E6%BC%81%E8%88%B9%E6%8B%92%E5%8F%97%E6%AA%A2%E6%BC%81%E5%B7%A5%E9%81%AD%E6%93%8A%E5%82%B7-%E5%9C%8B%E5%8F%B0%E8%BE%A6%EF%BC%9A%E4%BB%A4%E4%BA%BA%E6%86%A4%E6%85%A8%E6%95%A6%E4%BF%83%E6%9F%A5-103604217.html\n",
      "https://tw.news.yahoo.com/%E9%9B%99%E9%82%B1%E9%A2%A8%E6%B3%A2-%E7%AB%A5%E4%BB%B2%E5%BD%A5-%E7%8B%90%E7%8B%B8%E4%BA%A4%E5%BE%80%E7%9A%84%E9%83%BD%E6%98%AF%E7%8B%BC-092200466.html\n",
      "https://tw.news.yahoo.com/3d-black-x-design-125910139.html\n",
      "https://tw.news.yahoo.com/-112910500.html\n",
      "https://tw.news.yahoo.com/%E8%A6%8B%E7%90%83%E5%90%8E%E6%88%B4%E8%B3%87%E7%A9%8E-%E6%8D%B2%E8%A2%96-%E6%9F%AF%E5%A4%A7%E7%99%BC%E9%9B%B7%E9%9C%86-060400602.html\n",
      "https://tw.news.yahoo.com/wha-055909178.html\n",
      "https://tw.news.yahoo.com/%E5%BC%95%E8%94%A3%E7%B6%93%E5%9C%8B%E8%A9%B1%E8%AA%9E-%E6%B4%AA%E7%A7%80%E6%9F%B1%E6%AD%A3%E9%9D%A2%E6%8C%91%E6%88%B0%E5%90%B3%E6%95%A6%E7%BE%A9-070821643.html\n",
      "https://tw.news.yahoo.com/%E5%8D%97%E9%9F%93%E7%B8%BD%E7%B5%B1%E5%A4%A7%E9%81%B8-%E7%94%B7%E6%80%A7%E9%81%B8%E6%B0%91%E7%95%B6%E7%9C%BE%E4%BC%B8%E8%88%8C%E8%A6%81%E8%88%94%E5%80%99%E9%81%B8%E4%BA%BA%E5%A5%B3%E5%85%92%E8%87%89%E8%9B%8B-%E6%80%A7%E9%A8%B7%E6%93%BE%E5%AB%8C%E7%8A%AF%E9%81%AD%E6%B3%95%E8%BE%A6-115200531.html\n",
      "https://tw.news.yahoo.com/%E6%B3%95%E5%9C%8B%E5%A4%A7%E9%81%B8%E5%89%8D%E5%A4%95-%E9%A6%AC%E5%85%8B%E5%AE%8F%E5%9C%98%E9%9A%8A%E9%81%AD%E9%A7%AD%E5%AE%A2%E5%85%A5%E4%BE%B5-9gb%E5%85%A7%E9%83%A8%E4%BF%A1%E4%BB%B6%E5%85%A8%E4%B8%8A%E7%B6%B2-061000271.html\n",
      "https://tw.news.yahoo.com/%E8%94%A1%E7%B8%BD%E7%B5%B1%E6%8B%9A%E6%96%B0%E5%8D%97%E5%90%91-6%E5%9C%8B%E5%AA%92%E9%AB%94%E8%81%AF%E8%A8%AA-052600655.html\n",
      "https://tw.news.yahoo.com/%E6%9E%97%E9%8C%AB%E8%80%80%E5%87%BA%E5%B8%AD%E5%B7%A5%E5%95%86%E5%8D%94%E9%80%B2%E6%9C%83%E5%8D%88%E9%A4%90%E6%9C%83-%E5%B9%B4%E9%87%91%E6%94%B9%E9%9D%A9%E6%B1%BA%E5%BF%83%E4%B8%8D%E6%9C%83%E5%8B%95%E6%90%96-080342760.html\n",
      "https://tw.news.yahoo.com/%E8%8B%A5%E5%8F%83%E5%8A%A0wha%E4%BD%86%E4%B8%8D%E8%83%BD%E7%99%BC%E8%81%B2-%E9%99%B3%E6%99%82%E4%B8%AD-%E5%82%B7%E5%AE%B3%E4%BA%BA%E6%AC%8A-064520016.html\n",
      "https://tw.news.yahoo.com/%E5%82%B33%E5%A4%A7%E6%A1%88%E8%A7%A3%E7%B4%84%E8%A6%81%E6%85%98%E8%B3%A0-%E6%9F%AF%E6%96%87%E5%93%B2%E7%81%AB%E5%A4%A7%E6%89%B9%E9%80%A0%E5%81%87-064120982.html\n",
      "https://tw.news.yahoo.com/%E5%89%8D%E7%9E%BB-%E5%B9%B4%E9%87%91%E6%AD%A3%E9%8F%96%E6%88%B0-%E6%9E%97%E9%8C%AB%E8%80%80%E5%96%8A%E8%A9%B1%E5%8A%A0%E9%80%9F%E6%94%B9%E9%9D%A9-084525864.html\n",
      "https://tw.news.yahoo.com/%E9%A6%96%E5%BA%A6%E9%9D%A2%E5%B0%8D%E5%AA%92%E9%AB%94%E8%AB%87%E6%9E%97%E5%A5%95%E5%90%AB-%E8%B3%B4%E6%B8%85%E5%BE%B7-%E5%B8%82%E5%BA%9C%E5%B0%87%E6%AA%A2%E8%A8%8E%E6%94%B9%E9%80%B2-071314418.html\n",
      "https://tw.news.yahoo.com/%E5%B7%BE%E5%B9%97%E4%B8%8D%E8%AE%93%E9%AC%9A%E7%9C%89-%E5%A5%B3%E9%A7%95%E9%A7%9B%E9%96%8B%E6%88%B0%E8%BB%8A%E5%BD%B1%E7%89%87%E6%9B%9D%E5%85%89-023825570.html\n",
      "https://tw.news.yahoo.com/%E6%94%BF%E9%99%A2-%E6%8E%A8%E5%8B%95%E5%B9%B4%E6%94%B9%E7%B5%95%E4%B8%8D%E5%8B%95%E6%90%96-160000837.html\n",
      "https://tw.news.yahoo.com/-135910245.html\n",
      "https://tw.news.yahoo.com/%E6%B3%95%E5%9C%8B%E7%B8%BD%E7%B5%B1%E5%A4%A7%E9%81%B8-%E5%8F%A6%E9%A1%9E%E4%BA%8B%E5%AF%A6%E4%BE%86%E8%A5%B2-%E6%A5%B5%E5%8F%B3%E6%B4%BE%E5%80%99%E9%81%B8%E4%BA%BA%E5%8B%92%E6%BD%98%E4%BF%A1%E5%8F%A3%E6%8C%87%E6%8E%A7-%E9%A6%AC%E5%85%8B%E5%AE%8F%E5%8F%AF%E8%83%BD%E6%9C%89%E6%B5%B7%E5%A4%96%E7%A5%95%E5%B8%B3-093900899.html\n",
      "https://tw.news.yahoo.com/2%E5%BA%A6%E6%8B%9B%E6%A8%99%E5%9D%87%E6%B5%81%E6%A8%99-%E5%8C%97%E8%97%9D%E6%88%90-%E7%88%9B%E5%B0%BE%E6%A8%93-053900611.html\n",
      "https://tw.news.yahoo.com/%E8%94%A1-%E6%96%B0%E5%8D%97%E5%90%91%E6%94%BF%E7%AD%96%E7%9B%AE%E6%A8%99%E5%9C%A8%E7%B6%93%E8%B2%BF-%E9%9D%9E%E4%B8%AD%E5%9C%8B-%E5%B8%B6-%E8%B7%AF-070000344.html\n",
      "https://tw.news.yahoo.com/-105909044.html\n",
      "https://tw.news.yahoo.com/%E6%B8%AF%E6%B0%91%E4%B8%BB%E9%BB%A8%E5%8D%80%E8%AD%B0%E5%93%A1-%E9%81%AD%E7%A6%81%E5%85%A5%E5%A2%83%E6%BE%B3%E9%96%80-063720774.html\n",
      "https://tw.news.yahoo.com/%E6%9C%B1%E7%AB%8B%E5%80%AB%E7%88%AD%E5%89%8D%E7%9E%BB-%E5%9B%9E%E5%97%86%E8%B3%80%E9%99%B3%E6%97%A6%E6%A8%99%E6%BA%96%E4%B8%8D-052555247.html\n",
      "https://tw.news.yahoo.com/%E5%8F%B0%E5%A6%B9%E5%97%86-%E6%88%91%E5%BE%88%E6%9C%89%E9%8C%A2-%E9%86%89%E6%AF%86%E6%98%9F%E5%9C%8B%E9%81%8B%E5%B0%87-135700965.html\n",
      "https://tw.news.yahoo.com/%E5%8D%97%E9%9F%93%E5%A4%A7%E9%81%B8%E6%8F%90%E5%89%8D%E6%8A%95%E7%A5%A8%E7%B5%90%E6%9D%9F-1-4%E9%81%B8%E6%B0%91-%E8%B6%85%E9%81%8E%E5%8D%83%E8%90%AC%E4%BA%BA%E5%B7%B2%E6%90%B6%E5%85%88%E5%AE%8C%E6%88%90%E6%8A%95%E7%A5%A8-110600603.html\n",
      "https://tw.news.yahoo.com/%E5%91%82%E7%A7%80%E8%93%AE%E5%B8%8C%E6%9C%9B%E9%96%80%E6%AA%BB%E9%99%8D-%E5%92%8C%E5%B9%B3%E4%B8%AD%E7%AB%8B%E5%85%AC%E6%8A%95%E6%8B%9A%E9%81%8E%E9%97%9C-135030990.html\n",
      "https://tw.news.yahoo.com/%E5%B9%B3%E5%A3%A4%E6%8E%A7%E7%BE%8E%E9%9F%93%E6%93%AC%E4%BB%A5%E7%94%9F%E5%8C%96%E6%AD%A6%E5%99%A8-%E5%AF%86%E8%AC%80%E6%9A%97%E6%AE%BA%E9%87%91%E6%AD%A3%E6%81%A9-112028303.html\n",
      "https://tw.news.yahoo.com/%E5%97%86%E7%BE%8E%E9%9F%93%E6%84%8F%E5%9C%96%E6%9A%97%E6%AE%BA-%E5%8C%97%E9%9F%93%E6%9B%BE%E6%9C%89%E6%8C%87%E6%8E%A7-%E7%B1%AE%E7%AD%90-103025096.html\n",
      "https://tw.news.yahoo.com/%E5%8F%B0%E4%B8%89%E7%B7%9A%E6%B5%AA%E6%BC%AB%E6%97%85%E9%81%8A-%E6%96%B0%E5%8A%A0%E5%9D%A1%E9%81%8A%E5%AE%A2%E9%AB%94%E9%A9%97%E5%AE%A2%E5%AE%B6%E6%96%87%E5%8C%96-172028004.html\n",
      "https://tw.news.yahoo.com/%E6%B3%95%E5%9C%8B%E6%9C%83%E8%AD%B0%E5%93%A1%E7%82%BA%E9%A6%AC%E5%85%8B%E5%AE%8F%E7%AB%99%E5%8F%B0-%E6%98%8F%E5%80%92%E9%80%81%E9%86%AB%E4%B8%8D%E6%B2%BB-132004753.html\n",
      "https://tw.news.yahoo.com/%E9%99%B8%E5%A7%94%E6%9C%83-%E9%99%B8%E6%87%89%E5%BC%B7%E5%8C%96%E5%AE%A3%E5%B0%8E%E7%B4%84%E6%9D%9F%E6%BC%81%E6%B0%91%E9%81%B5%E5%AE%88%E8%A6%8F%E5%AE%9A-130129644.html\n",
      "https://tw.news.yahoo.com/%E5%8F%B0%E4%BB%8D%E6%9C%AA%E6%94%B6%E5%88%B0wha%E9%82%80%E8%AB%8B%E5%87%BD-%E9%99%B3%E6%99%82%E4%B8%AD-%E5%A4%9A%E6%96%B9%E6%A1%88%E6%BA%96%E5%82%99-102019177.html\n",
      "https://tw.news.yahoo.com/%E4%BB%96%E4%BE%86%E8%87%AA%E5%AE%8F%E9%83%BD%E6%8B%89%E6%96%AF-%E6%88%90%E5%9C%8B%E9%98%B2%E5%A4%A7%E5%AD%B8%E9%A6%96%E4%BD%8D%E5%A4%96%E7%B1%8D%E6%8E%8C%E6%97%97%E5%AE%98-051356279.html\n"
     ]
    },
    {
     "name": "stdout",
     "output_type": "stream",
     "text": [
      "https://tw.news.yahoo.com/%E6%B4%AA%E7%A8%B1-%E8%B7%AF%E7%9B%B8%E6%8C%BA-%E8%A8%B1%E6%AD%B7%E8%BE%B2-%E4%BB%A5%E5%89%8D%E6%8C%BA%E6%B4%AA-%E7%8F%BE%E5%9C%A8%E6%8C%BA%E9%83%9D-062033317.html\n",
      "https://tw.news.yahoo.com/-072909340.html\n",
      "https://tw.news.yahoo.com/%E5%8F%B0%E7%81%A3%E6%98%AF%E6%88%91%E6%9C%AA%E4%BE%86%E5%9F%8B%E9%AA%A8%E8%99%95-%E6%B4%AA%E7%A7%80%E6%9F%B1-%E6%88%91%E6%98%AF%E5%8F%B0%E7%81%A3%E4%BA%BA-%E4%B9%9F%E6%98%AF%E4%B8%AD%E5%9C%8B%E4%BA%BA-100000050.html\n",
      "https://tw.news.yahoo.com/%E6%8E%A8%E5%BB%A3%E5%95%86%E5%9C%88-%E6%9F%AF%E6%96%87%E5%93%B2%E9%A8%8E%E9%87%8D%E6%A9%9F%E5%AE%A3%E5%82%B3-115400274.html\n",
      "https://tw.news.yahoo.com/%E8%88%AA%E7%89%B9%E9%83%A8%E7%89%B9%E8%A8%93%E4%B8%AD%E5%BF%83%E6%AD%A5%E6%A7%8D%E7%AB%9F%E4%B8%9F%E4%BA%86-%E9%80%9A%E5%A0%B1%E6%86%B2%E5%85%B5%E5%81%B5%E6%9F%A5-072100781.html\n",
      "https://tw.news.yahoo.com/%E5%BE%9E%E5%8F%B0%E5%A4%A7%E9%80%80%E4%BC%91%E9%A0%9818-%E6%9E%97%E8%90%AC%E5%84%84-%E7%85%A7%E8%A6%8F%E5%AE%9A-111900064.html\n",
      "https://tw.news.yahoo.com/%E6%B4%AA%E7%A7%80%E6%9F%B1%E5%BC%95%E8%94%A3%E7%B6%93%E5%9C%8B%E8%A8%80%E8%AB%96-%E6%8C%91%E6%88%B0%E5%90%B3%E6%95%A6%E7%BE%A9%E5%9C%8B%E6%97%8F%E8%AA%8D%E5%90%8C-064742817.html\n",
      "https://tw.news.yahoo.com/%E6%96%B0%E5%8C%97%E9%98%B2%E7%8B%BC%E5%B8%AB%E7%A5%AD-%E8%89%AF%E6%B0%91%E8%AD%89-%E6%9F%AFp-%E5%8F%B0%E5%8C%97%E5%B8%82%E5%86%8D%E6%83%B3%E6%83%B3-035939184.html\n",
      "https://tw.news.yahoo.com/%E6%97%A5%E5%AA%92%E5%B0%88%E8%A8%AA-%E6%9E%97%E6%A6%AE%E5%9F%BA-%E6%BA%96%E5%82%99%E5%9C%A8%E5%8F%B0%E7%81%A3%E9%96%8B%E6%9B%B8%E5%BA%97-144231249.html\n",
      "https://tw.news.yahoo.com/-155910392.html\n",
      "https://tw.news.yahoo.com/%E7%B2%89%E7%A2%8E%E8%AC%A0%E8%A8%80-%E8%A8%B1%E6%AD%B7%E8%BE%B2%E7%8F%BE%E8%BA%AB%E5%8A%9B%E6%8C%BA%E9%83%9D%E9%BE%8D%E6%96%8C%E7%95%B6%E9%81%B8%E9%BB%A8%E4%B8%BB%E5%B8%AD-035406085.html\n",
      "https://tw.news.yahoo.com/%E4%B8%AD%E5%9C%8B%E5%A4%A7%E9%99%B8%E9%87%91%E8%9E%8D%E5%8E%BB%E6%A7%93%E6%A1%BF-%E5%A4%96%E5%AA%92-%E8%A1%9D%E6%93%8A%E5%B8%82%E5%A0%B4-052419175.html\n",
      "https://tw.news.yahoo.com/%E7%BE%8E%E7%A5%AD%E5%8F%8D%E5%82%BE%E9%8A%B7%E5%88%B6%E8%A3%81-%E4%B8%AD%E9%8B%BC%E7%AD%89%E4%BC%81%E6%A5%AD%E4%B8%8A%E6%A6%9C-134830157.html\n",
      "https://tw.news.yahoo.com/%E8%A0%9F%E7%87%AD%E5%A4%9A%E9%A0%AD%E7%87%92-3%E6%97%8F%E7%BE%A4%E5%AA%BD%E5%AA%BD%E4%BF%9D%E9%9A%AA%E9%9C%80%E6%B1%82%E5%A4%A7%E4%B8%8D%E5%90%8C-%E6%8A%95%E4%BF%9D%E6%92%87%E6%AD%A5%E7%9C%8B%E9%80%99%E8%A3%A1-025400309.html\n",
      "https://tw.news.yahoo.com/%E9%99%B8%E4%B8%AD%E5%9C%8B%E5%8C%96%E5%B7%A5%E4%BD%B5%E8%B3%BC%E7%91%9E%E5%A3%AB%E7%A8%AE%E5%AD%90%E6%A5%AD%E5%B7%A8%E6%93%98-%E6%9C%89%E8%AD%9C%E4%BA%86-092324304--finance.html\n",
      "https://tw.news.yahoo.com/%E9%99%B8%E5%AE%A2%E6%A9%9Fc919-%E9%A6%96%E6%A2%9D%E8%88%AA%E7%B7%9A%E5%B0%87%E4%B8%8A%E6%B5%B7%E9%A3%9B%E5%8C%97%E4%BA%AC-020614821--finance.html\n",
      "https://tw.news.yahoo.com/%E6%A8%82%E9%99%9E%E8%91%A3%E4%BA%8B%E6%9C%83%E9%80%9A%E9%81%8E%E8%B2%A1%E5%A0%B1-%E6%81%A2%E5%BE%A9%E4%BA%A4%E6%98%93%E9%9C%B2%E6%9B%99%E5%85%89-113427797--finance.html\n",
      "https://tw.news.yahoo.com/%E6%9E%97%E8%90%AC%E5%84%84%E6%BB%BF65%E6%AD%B2-%E4%B8%8D%E5%BF%85%E6%AD%B8%E5%BB%BA%E5%B0%B1%E5%8F%AF%E9%80%80%E4%BC%91-050500761.html\n",
      "https://tw.news.yahoo.com/%E5%82%B3%E4%B8%AD%E8%B3%87%E5%A4%A7%E8%B2%B7%E5%A4%A7%E5%90%8C%E8%82%A1%E7%A5%A8-%E9%87%91%E7%AE%A1%E6%9C%83%E5%87%BA%E6%89%8B%E6%93%8B-172028932--finance.html\n",
      "https://tw.news.yahoo.com/10%E5%AE%B6%E4%B8%8A%E5%B8%82%E6%AB%83%E4%BC%81%E6%A5%AD%E5%8E%BB%E5%B9%B4%E7%8D%B2%E5%88%A9-%E4%BB%8A%E5%B9%B4%E4%B8%8D%E8%AA%BF%E8%96%AA-093130716.html\n",
      "https://tw.news.yahoo.com/%E5%95%86%E8%A8%8E%E5%85%B1%E5%90%8C%E9%97%9C%E5%88%87%E8%AD%B0%E9%A1%8C-%E4%B8%AD%E6%97%A5%E9%87%91%E8%9E%8D%E5%B0%8D%E8%A9%B1%E5%B0%87%E7%99%BB%E5%A0%B4-044900263.html\n",
      "https://tw.news.yahoo.com/%E5%8F%B0%E5%A1%91%E4%B8%8B%E9%80%B1%E6%B1%BD%E6%B2%B9%E9%99%8D0-3%E5%85%83-95%E7%84%A1%E9%89%9B%E8%B7%8C%E7%A0%B425%E5%85%83-091323240.html\n",
      "https://tw.news.yahoo.com/%E5%B7%B4%E8%8F%B2%E7%89%B9%E6%85%98%E8%A2%AB%E6%BE%B3%E6%B4%B2%E6%B0%A3%E6%97%8B%E6%8B%96%E7%B4%AF-%E6%B3%A2%E5%85%8B%E5%A4%8F%E9%A6%96%E5%AD%A3%E6%B7%A8%E5%88%A9%E6%BD%A4%E5%B9%B4%E6%AF%94%E5%A4%A7%E6%B8%9B27-014658133.html\n",
      "https://tw.news.yahoo.com/%E6%BB%AC%E6%B7%B1c919%E6%A6%82%E5%BF%B5%E8%82%A1-%E9%9B%86%E9%AB%94%E4%B8%8B%E6%8C%AB-215007990--finance.html\n",
      "https://tw.news.yahoo.com/3d-black-x-design-125910139.html\n",
      "https://tw.news.yahoo.com/%E6%BE%B3%E6%B4%B2%E9%A4%90%E9%A3%B2%E6%9C%88%E8%96%AA70k-%E6%A0%A1%E5%9C%92%E5%BE%B5%E6%89%8D%E5%A5%BD%E5%BF%83%E5%8B%95-1-%E5%9C%96-033501604.html\n",
      "https://tw.news.yahoo.com/%E5%88%A9%E5%A4%9A%E5%87%BA%E7%B1%A0-%E7%BE%8E%E8%82%A1%E6%A8%99%E6%99%AE500%E5%92%8C%E9%82%A3%E6%8C%87%E9%9B%99%E5%89%B5%E6%96%B0%E9%AB%98-220501254.html\n",
      "https://tw.news.yahoo.com/%E9%81%A0%E8%88%AA%E7%A9%BA%E6%9C%8D%E5%93%A1%E9%9B%86%E9%AB%94%E4%BC%91%E5%81%87%E6%B3%A2%E5%8F%8A%E5%9C%8B%E5%85%A7%E7%B7%9A-160000022.html\n",
      "https://tw.news.yahoo.com/%E5%8F%B0%E5%A1%91%E8%AA%BF%E9%99%8D%E4%B8%8B%E9%80%B1%E6%B1%BD%E6%B2%B90-3%E5%85%83-%E6%9F%B4%E6%B2%B90-4%E5%85%83-093052224.html\n",
      "https://tw.news.yahoo.com/%E4%BC%81%E6%A5%AD%E8%8B%A6%E5%90%9E%E9%BE%90%E5%A4%A7%E5%8C%AF%E6%90%8D-%E8%AC%9D%E9%87%91%E6%B2%B3%EF%BC%9A%E8%8E%AB%E5%8F%AF%E5%A5%88%E4%BD%95-090141067.html\n",
      "https://tw.news.yahoo.com/%E6%BE%B3%E6%B4%B2%E9%A4%90%E9%A3%B2%E6%9C%88%E8%96%AA70k-%E6%A0%A1%E5%9C%92%E5%BE%B5%E6%89%8D%E5%A5%BD%E5%BF%83%E5%8B%95-020214435.html\n",
      "https://tw.news.yahoo.com/%E6%97%A5%E9%9F%93%E5%8F%B08%E5%9C%8B%E9%8B%BC%E9%90%B5%E4%BD%8E%E5%83%B9%E9%8A%B7%E7%BE%8E-%E5%B0%87%E5%BE%B5%E5%8F%8D%E5%82%BE%E9%8A%B7%E7%A8%85-123928990.html\n",
      "https://tw.news.yahoo.com/%E7%86%B1%E9%8C%A2%E6%8E%A8%E5%8D%87%E5%8F%B0%E5%B9%A3-%E8%AC%9D%E9%87%91%E6%B2%B3-%E4%BC%81%E6%A5%AD%E5%90%9E%E8%8B%A6%E8%8E%AB%E5%8F%AF%E5%A5%88%E4%BD%95-084523427.html\n",
      "https://tw.news.yahoo.com/%E4%BA%9E%E9%8A%80-%E5%8D%80%E5%9F%9F%E6%88%90%E9%95%B7%E5%8A%A0%E9%80%9F%E6%9C%89%E5%8A%A9%E5%A1%AB%E8%A3%9C%E9%99%B8%E6%B8%9B%E9%80%9F%E7%BC%BA%E5%8F%A3-120828701.html\n",
      "https://tw.news.yahoo.com/%E5%88%A9%E5%A4%9A%E5%87%BA%E7%B1%A0-%E7%BE%8E%E8%82%A1%E6%A8%99%E6%99%AE500%E5%92%8C%E9%82%A3%E6%8C%87%E9%9B%99%E5%89%B5%E6%96%B0%E9%AB%98-215112559.html\n",
      "https://tw.news.yahoo.com/%E5%B7%9D%E6%99%AE%E7%B6%93%E6%BF%9F%E6%88%90%E7%B8%BE%E5%96%AE-%E7%BE%8E%E5%9C%8B4%E6%9C%88%E5%B0%B1%E6%A5%AD%E4%BA%BA%E5%8F%A3%E5%A4%A7%E5%A2%9E21%E8%90%AC-%E5%A4%B1%E6%A5%AD%E7%8E%87%E9%99%8D%E8%87%B310%E5%B9%B4%E6%96%B0%E4%BD%8E-%E7%B4%90%E7%B4%84%E8%82%A1%E5%B8%82%E5%A4%A7%E6%BC%B2-014600030.html\n",
      "https://tw.news.yahoo.com/%E8%96%AA%E8%B3%87%E5%87%8D%E6%BC%B2-%E9%A3%9F%E5%93%81%E8%80%81%E8%91%A3%E7%8E%8B%E7%BE%A9%E9%83%8E%E8%AB%87%E5%89%B5%E6%A5%AD-172028811--finance.html\n",
      "https://tw.news.yahoo.com/%E6%9E%97%E9%8C%AB%E8%80%80%E5%87%BA%E5%B8%AD%E5%B7%A5%E5%95%86%E5%8D%94%E9%80%B2%E6%9C%83%E5%8D%88%E9%A4%90%E6%9C%83-%E5%B9%B4%E9%87%91%E6%94%B9%E9%9D%A9%E6%B1%BA%E5%BF%83%E4%B8%8D%E6%9C%83%E5%8B%95%E6%90%96-080342760.html\n",
      "https://tw.news.yahoo.com/%E5%89%8D%E7%9E%BB-%E5%B9%B4%E9%87%91%E6%AD%A3%E9%8F%96%E6%88%B0-%E6%9E%97%E9%8C%AB%E8%80%80%E5%96%8A%E8%A9%B1%E5%8A%A0%E9%80%9F%E6%94%B9%E9%9D%A9-084525864.html\n",
      "https://tw.news.yahoo.com/%E7%A9%BA%E6%9C%8D%E5%93%A1-%E9%9B%86%E9%AB%94%E8%AB%8B%E5%81%87-%E6%95%88%E6%87%89-%E9%81%A0%E8%88%AA%E7%99%BC%E8%81%B2%E6%98%8E-%E6%AD%A1%E8%BF%8E17%E4%BD%8D%E8%B3%87%E9%81%A3%E7%A9%BA%E6%9C%8D%E5%93%A1%E5%9B%9E%E4%BB%BB-132500985.html\n",
      "https://tw.news.yahoo.com/%E5%9C%B0%E7%8D%84%E6%9C%9D%E9%AE%AE-%E5%8D%97%E9%9F%93%E5%A4%A7%E9%81%B8%E8%83%BD%E5%90%A6%E6%89%AD%E8%BD%89%E9%9D%92%E5%B9%B4%E7%B5%95%E6%9C%9B-235412952.html\n",
      "https://tw.news.yahoo.com/%E6%94%BF%E9%99%A2-%E6%8E%A8%E5%8B%95%E5%B9%B4%E6%94%B9%E7%B5%95%E4%B8%8D%E5%8B%95%E6%90%96-160000837.html\n",
      "https://tw.news.yahoo.com/%E7%A9%BA%E6%9C%8D%E5%93%A1%E9%9B%86%E9%AB%94%E4%BC%91%E5%81%87-%E9%81%A0%E8%88%AA-%E9%9D%9E%E7%BD%B7%E5%B7%A5-%E6%89%BF%E8%AB%BE%E5%8D%94%E5%95%86-102019938.html\n",
      "https://tw.news.yahoo.com/%E6%96%B0%E5%8F%B0%E5%B9%A3%E5%BC%B7%E5%8D%87-%E5%87%BA%E5%8F%A3%E4%BA%AE%E9%BA%97%E8%83%8C%E5%BE%8C%E5%AD%98%E9%9A%B1%E6%86%82-045518225.html\n",
      "https://tw.news.yahoo.com/c919%E5%89%9B%E5%8D%87%E7%A9%BA-c929%E5%B7%B2%E9%96%8B%E5%A7%8B%E7%A0%94%E8%A3%BD-070621637--finance.html\n",
      "https://tw.news.yahoo.com/%E6%BE%B3%E6%B4%B2%E9%A4%90%E9%A3%B2%E6%9C%88%E8%96%AA70k-%E6%A0%A1%E5%9C%92%E5%BE%B5%E6%89%8D%E5%A5%BD%E5%BF%83%E5%8B%95-2-%E5%9C%96-033501860.html\n"
     ]
    },
    {
     "name": "stdout",
     "output_type": "stream",
     "text": [
      "https://tw.news.yahoo.com/%E5%8F%B0%E5%B9%A3%E5%BC%B7%E5%8D%87%E5%87%BA%E5%8F%A3%E4%BA%AE%E9%BA%97%E5%AD%98%E9%9A%B1%E6%86%82-160000815.html\n",
      "https://tw.news.yahoo.com/%E5%A6%82%E6%84%8F%E8%8F%9C-215007321--finance.html\n",
      "https://tw.news.yahoo.com/%E9%A0%AD-%E9%81%AD-%E6%B8%AF%E4%BA%A4%E6%89%80%E6%8E%A8%E9%9B%99%E5%B9%A3%E8%A8%88%E5%83%B9%E9%BB%83%E9%87%91%E5%AF%A6%E7%89%A9%E6%9C%9F%E8%B2%A8-061119269.html\n",
      "https://tw.news.yahoo.com/%E6%B9%9B%E9%8C%A6%E6%BA%90%E7%8D%B2%E9%81%B8%E6%95%B4%E5%85%A8%E6%80%A7%E5%81%A5%E5%BA%B7%E7%AE%A1%E7%90%86%E5%8D%94%E6%9C%83%E7%90%86%E4%BA%8B%E9%95%B7-%E5%9C%96-042701167--finance.html\n",
      "https://tw.news.yahoo.com/%E9%81%A0%E8%88%AA%E9%A1%98%E6%92%A4%E9%8A%B7%E8%B3%87%E9%81%A3%E6%B1%BA%E5%AE%9A-%E6%AD%A1%E8%BF%8E17%E7%A9%BA%E6%9C%8D%E5%93%A1%E5%9B%9E%E4%BB%BB-120528479--finance.html\n",
      "https://tw.news.yahoo.com/%E6%9E%97%E8%90%AC%E5%84%84%E8%BE%A6%E9%80%80%E4%BC%91-%E6%9D%8E%E4%BE%86%E5%B8%8C-%E6%86%91%E4%BB%80%E9%BA%BC-130129950.html\n",
      "https://tw.news.yahoo.com/uber%E5%8F%88%E6%9C%89%E9%BA%BB%E7%85%A9-%E5%88%A9%E7%94%A8app%E5%B0%81%E9%8E%96-%E4%BE%BF%E8%A1%A3-%E8%A2%AB%E6%94%BF%E5%BA%9C%E7%9B%AF%E4%B8%8A-%E8%8B%A5%E5%AE%9A%E7%BD%AA%E9%AB%98%E5%B1%A4%E6%81%90%E5%90%83%E7%89%A2%E9%A3%AF-010000014.html\n",
      "https://tw.news.yahoo.com/%E6%96%AF%E9%87%8C%E8%98%AD%E5%8D%A1%E8%88%AA%E7%A9%BA%E6%94%B6%E8%B3%BC%E6%A1%88%E7%A0%B4%E5%B1%80-%E6%80%A5%E5%B0%8B%E6%96%B0%E8%B2%B7%E5%AE%B6-080502785--finance.html\n",
      "https://tw.news.yahoo.com/%E5%B7%A5%E6%9C%83-%E8%A1%8C%E4%BD%BF%E6%AD%A3%E7%95%B6%E6%AC%8A%E5%88%A9-%E5%85%AC%E5%8F%B8%E4%B8%8D%E5%BE%97%E6%87%B2%E8%99%95-160000595.html\n",
      "https://tw.news.yahoo.com/%E5%9C%8B%E7%94%A2%E5%A4%A7%E5%B0%BA%E5%AF%B83d%E5%88%97%E5%8D%B0%E6%A9%9F%E8%AA%95%E7%94%9F-%E5%8A%A9%E6%94%BB%E8%88%AA%E5%A4%AA%E6%A5%AD-060500613.html\n",
      "https://tw.news.yahoo.com/%E9%81%A0%E8%88%AA%E7%A9%BA%E6%9C%8D%E5%93%A1%E8%AB%8B%E5%81%87-%E5%B7%A5%E6%9C%83-%E5%85%AC%E5%8F%B8%E4%B8%8D%E5%BE%97%E6%87%B2%E8%99%95-031816655.html\n",
      "https://tw.news.yahoo.com/%E6%8A%95%E8%B3%87%E6%94%B6%E7%9B%8A%E4%B8%8B%E6%BB%91-%E6%B3%A2%E5%93%88%E5%85%AC%E5%8F%B8%E7%8D%B2%E5%88%A9%E5%A4%A7%E6%B8%9B-012114966--finance.html\n",
      "https://tw.news.yahoo.com/c919%E5%8F%AA%E8%B2%A0%E8%B2%AC%E9%80%A0%E9%A3%9B%E6%A9%9F%E6%AE%BC-%E5%A4%A7%E9%99%B8%E9%80%99%E6%A8%A3%E5%9B%9E%E6%87%89-061419400--finance.html\n",
      "https://tw.news.yahoo.com/%E6%89%93%E9%80%A0%E7%9C%BE%E4%BA%BA%E9%AB%94%E9%A9%97%E5%AF%A6%E5%A2%83-vr-%E5%A8%9B%E6%A8%82%E5%A0%B4-%E4%BB%8A%E5%B9%B4%E5%85%AD%E6%9C%88%E4%B8%8A%E8%B7%AF-002921979--finance.html\n",
      "https://tw.news.yahoo.com/%E5%81%9A%E5%A5%BD%E9%80%99-%E4%BB%B6%E4%BA%8B-%E8%80%81%E5%BE%8C%E4%BA%BA%E7%94%9F%E4%B8%8D%E6%84%81%E9%8C%A2-081728828.html\n",
      "https://tw.news.yahoo.com/%E6%9D%8E%E4%BE%86%E5%B8%8C-%E6%9E%97%E8%90%AC%E5%84%84%E5%AD%B8%E5%AE%98%E5%85%A9%E6%A3%B2-%E5%8F%AA%E6%9C%83%E6%94%B9%E9%9D%A9%E5%88%A5%E4%BA%BA-050500967.html\n",
      "https://tw.news.yahoo.com/4%E6%9C%88%E7%89%A9%E5%83%B9%E8%B6%A8%E7%B7%A9%E5%B9%B4%E5%A2%9E0.12-%E5%AE%A2%E9%81%8B%E7%A5%A8%E5%83%B9%E5%A4%A7%E6%BC%B215.88-002036449.html\n",
      "https://tw.news.yahoo.com/%E8%A8%93%E7%B7%B4%E9%83%A8%E5%B1%AC-%E7%9B%B4%E6%8E%A5%E6%89%B9%E8%A9%95-%E4%BD%A0-%E4%B8%BB%E7%AE%A1%E5%B0%B1%E6%9C%83%E6%84%88%E5%81%9A%E6%84%88%E5%84%AA%E7%A7%80-%E5%84%AA%E7%A7%80%E4%B8%BB%E7%AE%A1%E7%9A%84%E4%BF%AE%E7%B7%B4-033049888.html\n",
      "https://tw.news.yahoo.com/%E6%A5%AD%E5%8B%99%E9%8A%B7%E5%94%AE%E7%9A%84%E6%88%90%E5%8A%9F%E9%97%9C%E9%8D%B5-%E5%9C%A8%E6%96%BC-%E6%88%90%E4%BA%A4%E5%BE%8C-%E7%9A%84%E6%9C%8D%E5%8B%99-%E5%BC%B5%E8%A1%A8%E6%A0%BC%E6%99%89%E5%8D%87%E8%B6%85%E6%A5%AD-033049149--finance.html\n",
      "https://tw.news.yahoo.com/%E6%8A%8A%E6%95%B8%E5%AD%97%E6%94%BE%E9%80%B2%E7%B0%A1%E5%A0%B1-%E6%8F%90%E6%A1%88%E5%B0%B1%E8%83%BD%E6%88%90%E5%8A%9F%E8%AA%AA%E6%9C%8D-%E9%8C%AF-3-%E5%80%8B%E8%A1%A8%E9%81%94%E8%88%87%E6%80%9D%E8%80%83%E7%9A%84%E9%97%9C%E9%8D%B5-033049353.html\n",
      "https://tw.news.yahoo.com/%E6%B5%99%E6%B1%9F%E5%90%89%E5%88%A9%E9%9B%86%E5%9C%98%E6%94%B6%E8%B3%BC%E4%B8%B9%E9%BA%A5%E7%9B%9B%E5%AF%B6%E9%8A%80%E8%A1%8C%E8%82%A1%E4%BB%BD-032616298--finance.html\n",
      "https://tw.news.yahoo.com/%E5%AC%8C%E7%94%9F%E7%88%BD%E8%BA%AB%E7%B2%89%E6%98%AF%E5%90%A6%E8%87%B4%E7%99%8C-%E7%BE%8E%E9%99%AA%E5%AF%A9%E5%9C%98%E5%86%8D%E5%88%A4%E8%B3%A0-142331410--finance.html\n",
      "https://tw.news.yahoo.com/%E9%84%A7%E9%BA%97%E5%90%9B%E7%BE%8E%E9%BA%97%E9%87%8D%E7%94%9F-%E8%99%9B%E6%93%AC%E4%BA%BA%E5%96%8A%E5%A5%BD%E4%B9%85%E4%B8%8D%E8%A6%8B-%E5%9C%96-135101322.html\n",
      "https://tw.news.yahoo.com/%E9%A6%AC%E5%B9%BC%E8%88%88%E9%81%AD%E8%BE%B1%E8%A8%80%E5%88%A9%E5%88%83%E7%A2%8E%E5%BF%83-%E6%80%A7%E4%BE%B5%E6%A1%88%E6%B4%97%E7%99%BD%E9%85%B8%E6%B0%91%E7%A7%81%E8%A8%8A%E6%B1%82%E5%8E%9F%E8%AB%92-160606071.html\n",
      "https://tw.news.yahoo.com/%E6%8D%A7%E8%91%97%E9%88%94%E7%A5%A8%E4%BE%86%E4%B9%9F%E4%B8%8D%E6%92%AD-cnn%E6%8B%92%E7%B5%95%E5%B7%9D%E6%99%AE%E7%99%BE%E6%97%A5%E6%94%BF%E7%B8%BE%E5%BB%A3%E5%91%8A-133609749.html\n",
      "https://tw.news.yahoo.com/4-61%E6%94%B6%E8%A6%96%E7%8E%87-%E9%80%9A%E9%9D%88%E5%B0%91%E5%A5%B3-%E7%B5%90%E5%B1%80%E5%86%8D%E8%A1%9D%E9%AB%98-215008589.html\n",
      "https://tw.news.yahoo.com/%E6%98%A5%E5%AC%8C%E6%95%91%E5%BF%97%E6%98%8E-%E5%8F%B0%E7%81%A3%E7%A5%A8%E6%88%BF%E7%88%86%E6%A3%9A-%E5%89%B5%E8%BF%91%E5%B9%B4%E9%A6%99%E6%B8%AF%E6%84%9B%E6%83%85%E9%9B%BB%E5%BD%B1%E7%B4%80%E9%8C%84-160000094.html\n",
      "https://tw.news.yahoo.com/%E6%9C%B4%E4%BF%A1%E6%83%A0%E7%88%86%E7%86%B1%E6%88%80%E5%AD%B8%E5%BC%9F%E5%B4%94%E6%B3%B0%E4%BF%8A-%E6%B5%B7%E5%A4%96%E7%B4%84%E6%9C%83%E8%A2%AB%E6%8A%93-045327056.html\n",
      "https://tw.news.yahoo.com/%E5%B0%8F%E7%94%9C%E7%94%9C%E5%B8%83%E8%98%AD%E5%A6%AE-6%E6%9C%88%E9%A6%96%E5%BA%A6%E4%BE%86%E5%8F%B0%E9%96%8B%E5%94%B1-072311717.html\n",
      "https://tw.news.yahoo.com/md-photo-g-dragon%E4%BA%AE%E7%9B%B8%E9%A6%96%E7%88%BE%E6%98%8E%E6%B4%9E%E5%BC%95%E7%B2%89%E7%B5%B2%E5%9C%8D%E8%A7%80-071210574.html\n",
      "https://tw.news.yahoo.com/twice%E5%85%A8%E9%83%A8%E6%88%90%E5%93%A1%E9%A0%90%E5%91%8A%E7%85%A7%E5%85%AC%E9%96%8B-%E6%98%AF%E5%A4%A9%E7%B7%9A%E5%AF%B6%E5%AF%B6%E5%97%8E-011600233.html\n",
      "https://tw.news.yahoo.com/%E9%84%A7%E9%BA%97%E5%90%9B%E5%96%8A%E5%A5%BD%E4%B9%85%E4%B8%8D%E8%A6%8B-%E8%99%9B%E6%93%AC%E4%BA%BA%E7%A7%91%E6%8A%80%E5%86%8D%E9%80%A0%E9%A9%9A%E5%A5%87-134330391.html\n",
      "https://tw.news.yahoo.com/%E6%B3%B0%E6%99%A4%E5%A3%AB%E5%AF%8C%E8%B1%AA%E6%A6%9C-%E6%84%9B%E9%BB%9B%E5%85%92%E5%B9%B4%E9%80%B2%E9%A0%85%E6%9C%80%E9%AB%98-020742990.html\n",
      "https://tw.news.yahoo.com/%E6%8E%A8%E7%89%B9%E8%88%87%E5%BD%AD%E5%8D%9A%E5%90%88%E4%BD%9C-%E6%8E%A8%E4%B8%B2%E6%B5%81%E6%96%B0%E8%81%9E%E9%A0%BB%E9%81%93-013502368--finance.html\n",
      "https://tw.news.yahoo.com/%E7%A6%8F%E6%96%AF%E6%96%B0%E8%81%9E%E9%AB%98%E5%B1%A4%E5%8F%88%E7%95%B0%E5%8B%95-%E5%85%B1%E5%90%8C%E7%B8%BD%E8%A3%81%E4%B8%8B%E5%8F%B0-132003224.html\n",
      "https://tw.news.yahoo.com/%E4%BA%9E%E8%8E%89%E5%AE%89%E5%A8%9C9%E6%9C%88%E8%B8%A9%E8%9B%8B%E9%96%8B%E5%94%B1-215007861.html\n",
      "https://tw.news.yahoo.com/%E6%96%B9%E7%82%AF%E9%91%8C%E9%80%81%E5%90%89%E4%BB%96-%E8%A2%AB%E5%BC%B5%E6%99%BA%E6%88%90%E6%8B%97%E5%85%8D%E8%B2%BB%E6%95%99%E8%99%A7%E5%A4%A7-133729574.html\n",
      "https://tw.news.yahoo.com/%E7%8D%A8-%E9%80%9A%E9%9D%88%E5%B0%91%E5%A5%B3-%E7%8B%BC%E5%B8%AB%E5%B8%AD%E6%8D%B2%E8%AB%87%E8%A9%B1%E6%80%A7%E7%AF%80%E7%9B%AE-%E5%B0%88%E5%AE%B6%E9%80%99%E9%BA%BC%E7%9C%8B-160000398.html\n",
      "https://tw.news.yahoo.com/vixx%E6%9C%AC%E6%9C%8815%E6%97%A5%E5%9B%9E%E6%AD%B8-%E6%96%B0%E5%B0%88%E8%BC%AF%E6%A6%82%E5%BF%B5%E7%85%A7%E5%A5%87%E7%95%B0%E5%85%AC%E9%96%8B-032600033.html\n",
      "https://tw.news.yahoo.com/%E9%80%9A%E9%9D%88%E5%B0%91%E5%A5%B3%E9%A9%9A%E8%B1%94%E4%BA%9E%E6%B4%B2-%E8%A9%B9%E5%A9%B7%E6%80%A1-%E9%9D%9E%E6%9B%87%E8%8A%B1-%E7%8F%BE-044614707.html\n",
      "https://tw.news.yahoo.com/%E5%B0%8Fs%E3%80%8C%E5%A4%A7%E5%A7%8A%E7%BE%8E%E7%85%A7%E3%80%8D%E6%9B%9D%E5%85%89%EF%BC%81%E7%94%9C%E7%BE%8E%E6%B0%A3%E8%B3%AA%E6%A8%A1%E6%A8%A3%E6%92%9E%E8%87%89%E9%99%B3%E5%A6%8D%E5%B8%8C-022317650.html\n",
      "https://tw.news.yahoo.com/%E6%8C%BA%E4%B8%96%E5%A4%A7%E9%81%8B-%E4%B8%AD%E8%8F%AF%E9%9B%BB%E8%B4%8A%E5%8A%A9%E5%84%84%E5%85%83-215007430--finance.html\n",
      "https://tw.news.yahoo.com/%E5%BE%9E%E9%9B%BB%E5%BD%B1%E8%AE%80%E6%96%87%E5%AD%B8-%E9%80%A3%E4%BF%9E%E6%B6%B5%E5%8A%9B%E6%8E%A8%E5%8D%81%E6%97%A5%E8%AB%87-093740350.html\n",
      "https://tw.news.yahoo.com/%E5%93%AD-%E5%90%8C%E5%AD%B8%E8%AE%8A%E8%97%9D%E4%BA%BA-%E5%9C%8B%E4%B8%AD%E5%90%8C%E7%AA%97%E5%91%8A%E7%99%BD%E8%B3%B4%E5%86%A0%E9%9C%96-072500598.html\n"
     ]
    },
    {
     "name": "stdout",
     "output_type": "stream",
     "text": [
      "https://tw.news.yahoo.com/%E5%B0%8F%E7%94%9C%E7%94%9C%E5%B8%83%E8%98%AD%E5%A6%AE-6%E6%9C%88%E9%A6%96%E5%BA%A6%E4%BE%86%E5%8F%B0%E9%96%8B%E5%94%B1-%E5%9C%96-073500778.html\n",
      "https://tw.news.yahoo.com/iu-%E7%9A%84%E5%8A%9B%E9%87%8F-palette-%E7%99%BB%E5%91%8A%E7%A4%BA%E7%89%8C-world-albums-%E6%A6%9C%E5%86%A0%E8%BB%8D%E5%AF%B6%E5%BA%A7-034200218.html\n",
      "https://tw.news.yahoo.com/%E8%BF%8E%E4%B8%96%E5%A4%A7%E9%81%8B-%E5%9C%8B%E9%9A%9B%E6%97%A55%E6%9C%88%E6%8E%A5%E5%8A%9B%E6%9A%96%E5%A0%B4-%E4%B8%BB%E9%A1%8C%E6%A9%AB%E8%B7%A85%E6%B4%B2-%E6%8E%A8%E5%87%BA230%E5%80%8B%E5%B8%82%E9%9B%86-100115640.html\n",
      "https://tw.news.yahoo.com/%E5%8F%B0%E8%A3%94%E5%A5%B3%E6%98%9F%E5%97%86%E8%BE%A3%E6%95%A2%E8%A8%80-%E5%BE%81%E6%9C%8D%E5%A5%BD%E8%90%8A%E5%A1%A2-160000027.html\n",
      "https://tw.news.yahoo.com/%E5%B7%B4%E9%BB%8E%E9%90%B5%E5%A1%94%E6%8E%9B%E6%A8%99%E8%AA%9E-%E7%B6%A0%E8%89%B2%E5%92%8C%E5%B9%B3%E4%B8%8D%E6%8C%BA%E7%91%AA%E7%90%B3%E9%9B%B7%E6%9C%8B-083654627.html\n",
      "https://tw.news.yahoo.com/%E9%80%9A%E9%9D%88%E5%B0%91%E5%A5%B3-%E7%B2%BE%E5%BD%A9%E5%A4%A7%E7%B5%90%E5%B1%80-%E9%83%AD%E6%9B%B8%E7%91%A4-%E8%87%AA%E5%B7%B1%E7%9C%8B%E8%87%AA%E5%B7%B1%E6%BC%94%E9%82%84%E8%83%BD%E5%93%AD%E6%88%90%E9%80%99%E6%A8%A3-%E4%B9%9F%E7%9C%9F%E7%9A%84%E6%98%AF%E9%86%89%E4%BA%86-121310537.html\n",
      "https://tw.news.yahoo.com/%E6%8B%8D%E5%87%BA%E5%9C%A8%E5%9C%B0%E5%85%AC%E8%B7%AF%E9%9B%BB%E5%BD%B1-%E5%8F%B0%E7%81%A3%E6%96%B0%E5%B0%8E%E5%B0%87%E5%89%8D%E9%80%B2%E5%9D%8E%E5%9F%8E-%E5%9C%96-110301598.html\n",
      "https://tw.news.yahoo.com/%E7%A5%9E%E8%80%81%E9%97%86%E5%AB%91%E5%AB%91%E8%B1%AC%E5%93%A1%E5%B7%A5-%E7%9C%8B%E9%9B%BB%E8%A6%96%E5%AD%B8%E7%AE%A1%E7%90%86-%E7%B6%9C%E8%97%9D%E7%AF%80%E7%9B%AE%E9%96%8B%E8%97%A5%E6%96%B9-235100014--finance.html\n",
      "https://tw.news.yahoo.com/%E4%BA%A6%E6%95%B5%E4%BA%A6%E5%8F%8B-iu-hyukoh-%E4%BA%A4%E6%89%8B-%E5%89%8D%E8%80%85%E5%8B%9D%E5%87%BA%E5%BE%81%E6%9C%8D-m-countdown-010800226.html\n",
      "https://tw.news.yahoo.com/%E4%BA%9E%E6%B4%B2%E5%9B%9B%E5%A4%A7%E5%BD%B1%E5%B1%95%E6%8E%A8%E6%89%8B%E9%BD%8A%E8%81%9A%E6%A1%83%E5%9C%92-%E6%97%A5-%E9%9F%93-%E6%B3%B0%E7%B4%80%E9%8C%84%E7%89%87%E6%BF%80%E7%9B%AA%E5%BD%B1%E4%BA%BA%E7%81%AB%E8%8A%B1-015700836.html\n",
      "https://tw.news.yahoo.com/%E9%98%B2%E5%BD%88%E5%B0%91%E5%B9%B4%E5%9C%98%E6%97%A5%E6%96%87%E7%89%88-%E8%A1%80-%E6%B1%97-%E6%B6%99-mv%E9%A0%90%E5%91%8A%E7%89%87%E5%85%AC%E9%96%8B-013700567.html\n",
      "https://tw.news.yahoo.com/%E5%8F%B0%E6%97%85%E8%8B%B1%E9%8B%BC%E7%90%B4%E5%AE%B6%E6%96%B0%E4%BD%9C%E5%B7%A1%E6%BC%94-%E7%8D%B2%E9%AB%98%E8%A9%95%E5%83%B9-005658315.html\n",
      "https://tw.news.yahoo.com/%E5%90%8C%E7%A9%BF%E6%83%85%E4%BE%B6%E8%A3%9D-%E5%B0%8F%E6%A8%82%E5%8D%81%E6%8C%87%E7%B7%8A%E6%89%A3%E9%82%B5%E9%9B%A8%E8%96%87%E8%B6%85%E9%96%83-024700317.html\n",
      "https://tw.news.yahoo.com/%E6%AF%8D%E8%A6%AA%E7%9A%84%E5%BE%AE%E7%AC%91-%E7%8D%BB%E5%85%A8%E5%A4%A9%E4%B8%8B%E5%AA%BD%E5%AA%BD-215011579.html\n",
      "https://tw.news.yahoo.com/md-photo-%E8%96%9B%E6%99%AF%E6%B1%82%E4%BB%BB%E6%99%82%E5%AE%8C%E5%85%A8%E6%85%A7%E7%8F%8D%E7%AD%89%E5%87%BA%E5%B8%AD%E6%96%B0%E7%89%87-%E5%8C%AA%E5%B9%AB-%E5%AA%92%E9%AB%94%E8%A9%A6%E6%98%A0-093432950.html\n",
      "https://tw.news.yahoo.com/%E9%87%91%E6%9B%B2%E7%8D%8E%E6%B4%BB%E5%8B%95%E9%96%8B%E8%B7%91-%E9%9F%8B%E7%A6%AE%E5%AE%89%E6%83%B3%E5%85%A5%E5%9C%8D%E5%B0%88%E8%BC%AF%E7%8D%8E-072645898.html\n",
      "https://tw.news.yahoo.com/%E6%B1%9F%E6%9F%8F%E6%A8%82%E7%B4%A2%E9%9D%9E%E4%BA%9E%E6%8E%80%E8%AB%96%E6%88%B0-%E5%90%B3%E5%AE%97%E6%86%B2-%E5%94%AC%E7%88%9B%E5%95%A6-093200174.html\n",
      "https://tw.news.yahoo.com/%E6%B5%B7%E8%B1%AC%E4%BB%94%E5%9C%8B%E9%9A%9B%E5%BD%B1%E5%B1%95%E5%A5%AA%E9%87%91-%E7%A7%80%E5%8F%B0%E7%81%A3%E6%B5%B7%E6%B4%8B%E6%96%87%E5%8C%96-091649416.html\n",
      "https://tw.news.yahoo.com/laboum-%E5%85%AC%E5%8F%B8%E5%87%BA%E9%9D%A2%E5%9B%9E%E6%87%89-%E5%86%A0%E8%BB%8D%E7%96%91%E9%9B%B2-%E5%90%A6%E8%AA%8D%E5%9B%A4%E8%B2%A8-%E6%98%AF%E5%BB%A3%E5%91%8A%E5%95%86%E5%A4%A7%E9%87%8F%E8%B3%BC%E8%B2%B7-024900712--finance.html\n",
      "https://tw.news.yahoo.com/%E5%AD%AB%E7%BF%A0%E9%B3%B3%E6%AF%8D%E5%A5%B3%E4%BB%A8-%E4%B8%89%E8%A7%92%E6%88%80%E9%A3%86%E6%88%B2-215011917.html\n",
      "https://tw.news.yahoo.com/md-movie-%E6%B2%B3%E6%99%BA%E8%8B%91%E6%9C%B4%E6%B5%B7%E6%97%A5%E7%AD%89%E8%97%9D%E4%BA%BA%E5%87%BA%E5%B8%AD%E5%85%A8%E5%B7%9E%E5%9C%8B%E9%9A%9B%E9%9B%BB%E5%BD%B1%E7%AF%80%E9%96%8B%E5%B9%95%E5%BC%8F-080637376.html\n",
      "https://tw.news.yahoo.com/%E6%9B%BE%E8%BD%9F%E5%8B%95%E5%8F%B0%E6%B8%AF%E6%97%A5%E7%B4%94%E6%84%9B%E5%A4%A7%E7%89%87-%E7%94%B7%E4%B8%BB%E8%A7%92%E7%8F%BE%E5%9C%A8%E8%AE%8A%E9%80%99%E6%A8%A3-063600235.html\n",
      "https://tw.news.yahoo.com/%E9%9B%BB%E5%BD%B1%E7%89%88-%E5%A5%B6%E9%85%AA%E9%99%B7%E9%98%B1-%E7%89%87%E5%A0%B4%E7%85%A7%E5%85%AC%E9%96%8B-%E6%9C%B4%E6%B5%B7%E9%8E%AE-%E6%91%B8%E9%A0%AD%E6%AE%BA-%E8%BF%B7%E5%80%92%E6%9C%B4%E5%9F%BA%E9%9B%84-023800403.html\n",
      "https://tw.news.yahoo.com/%E5%BC%B5%E6%99%BA%E6%88%90%E6%85%B6%E7%94%9F-%E6%96%B9%E7%82%AF%E9%91%8C%E8%B4%88%E6%9C%A8%E5%90%89%E4%BB%96-%E5%9C%96-135101900.html\n",
      "https://tw.news.yahoo.com/md-photo-2pm%E6%88%90%E5%93%A1%E7%8E%89%E6%BE%A4%E6%BC%94%E4%BA%AE%E7%9B%B8%E9%A6%96%E7%88%BE%E6%A3%92%E7%90%83%E5%A0%B4%E8%A7%80%E7%9C%8B%E6%AF%94%E8%B3%BD-065944628.html\n",
      "https://tw.news.yahoo.com/%E6%8B%8D%E5%87%BA%E5%9C%A8%E5%9C%B0%E5%85%AC%E8%B7%AF%E9%9B%BB%E5%BD%B1-%E5%8F%B0%E7%81%A3%E6%96%B0%E5%B0%8E%E5%89%8D%E9%80%B2%E5%9D%8E%E5%9F%8E-103459538.html\n",
      "https://tw.news.yahoo.com/%E5%91%A8%E8%91%A3po%E7%B6%B2%E8%AA%8D%E9%8C%AF-%E4%BD%A0%E5%80%91%E5%BE%88%E8%BE%9B%E8%8B%A6-215007754.html\n",
      "https://tw.news.yahoo.com/%E6%8E%A8%E7%89%B9%E8%88%87%E5%BD%AD%E5%8D%9A%E5%90%88%E4%BD%9C-%E6%8E%A824%E5%B0%8F%E6%99%82%E6%96%B0%E8%81%9E%E9%A0%BB%E9%81%93-004458553--finance.html\n",
      "https://tw.news.yahoo.com/%E5%91%A8%E5%81%B6%E5%83%8F-winner%E5%B1%95%E7%8F%BE%E9%BB%98%E5%A5%91%E5%90%88%E4%BD%9C-%E7%99%BD%E7%99%A1%E7%BE%8E%E7%88%86%E7%99%BC%E7%AC%91%E8%81%B2%E6%B5%B7-005000610.html\n",
      "https://tw.news.yahoo.com/%E9%99%B3%E5%AE%89%E7%A5%A5-%E7%8E%8B%E5%BF%97%E4%BB%81-%E7%82%BA%E6%9D%B1%E6%A3%AE%E8%B3%BC%E7%89%A9%E6%95%88%E5%8A%9B-215008586--finance.html\n",
      "https://tw.news.yahoo.com/md-photo-%E6%9D%8E%E8%A9%A9%E8%8B%B1%E9%A6%96%E7%88%BE%E5%87%BA%E5%B8%AD%E4%BB%A3%E8%A8%80%E5%93%81%E7%89%8C%E5%AE%A3%E5%82%B3%E6%B4%BB%E5%8B%95-064910316.html\n",
      "https://tw.news.yahoo.com/%E7%AD%894%E5%B9%B4%E7%B5%82%E5%87%BA%E9%A0%AD-%E5%BE%90%E6%94%BF%E6%96%8C%E9%A6%96%E5%AE%89%E7%90%83%E9%80%81%E5%A5%B3%E5%85%92-%E5%9C%96-095101505.html\n",
      "https://tw.news.yahoo.com/md-photo-%E9%9F%93%E5%9C%8B%E5%A5%B3%E8%97%9D%E4%BA%BA%E9%9F%93%E8%97%9D%E7%92%83%E5%87%BA%E5%B8%AD%E9%A6%96%E7%88%BE%E5%9C%8B%E9%9A%9B%E5%A5%B3%E6%80%A7%E9%9B%BB%E5%BD%B1%E7%AF%80%E7%99%BC%E4%BD%88%E6%9C%83-073334100.html\n",
      "https://tw.news.yahoo.com/%E9%9F%93%E5%9C%8B%E5%A5%B3%E8%97%9D%E4%BA%BA%E7%94%B3%E6%95%8F%E5%85%92%E4%BB%A3%E8%A8%80%E6%9C%8D%E8%A3%9D%E5%93%81%E7%89%8C%E6%8B%8D%E5%AE%A3%E5%82%B3%E7%85%A7-072729443.html\n",
      "https://tw.news.yahoo.com/%E9%87%8D%E8%BF%94%E9%87%8C%E5%B1%B1-%E4%BC%91%E5%A3%AB%E9%A0%93%E5%BD%B1%E5%B1%95%E6%A6%AE%E7%8D%B2%E7%B4%80%E9%8C%84%E7%89%87%E9%A1%9E%E7%99%BD%E9%87%91%E7%8D%8E-160000856.html\n",
      "https://tw.news.yahoo.com/%E7%88%86%E7%82%B82%E9%95%B7%E7%89%88%E9%A0%90%E5%91%8A-%E4%B8%BB%E9%A1%8C%E6%9B%B2%E8%A9%A2%E5%95%8F%E5%BA%A6%E9%AB%98-100052210.html\n",
      "https://tw.news.yahoo.com/%E6%B5%81%E8%A1%8C%E9%9F%B3%E6%A8%82%E8%B3%87%E6%B7%B1%E5%89%8D%E8%BC%A9%E5%89%8D%E9%80%B2%E6%A0%A1%E5%9C%92-2-%E5%9C%96-064301836.html\n",
      "https://tw.news.yahoo.com/%E7%BE%8E%E5%9C%8B%E9%84%89%E6%9D%91%E9%9F%B3%E6%A8%82%E5%82%B3%E5%A5%87%E4%BA%BA%E7%89%A9%E6%9E%97%E6%81%A9-%E4%B8%AD%E9%A2%A8%E4%BD%8F%E9%99%A2-025200480.html\n",
      "https://tw.news.yahoo.com/md-photo-%E9%9F%93%E5%9C%8B%E5%A5%B3%E8%97%9D%E4%BA%BA%E9%AB%98%E8%B3%A2%E8%B2%9E%E4%BB%BB%E6%A3%92%E7%90%83%E6%AF%94%E8%B3%BD%E9%96%8B%E7%90%83%E5%98%89%E8%B3%93-064543877.html\n",
      "https://tw.news.yahoo.com/%E9%9F%93%E5%9C%8B%E5%A5%B3%E8%97%9D%E4%BA%BA%E6%88%90%E5%AE%A5%E5%88%A9%E9%8C%A2%E5%BF%8D%E5%92%8C%E6%94%9C%E6%89%8B%E6%8B%8D%E9%9B%9C%E8%AA%8C%E5%AF%AB%E7%9C%9F-093742016.html\n",
      "https://tw.news.yahoo.com/%E8%B7%A8%E5%A2%83%E6%BC%94%E5%A5%8F%E6%8A%80%E5%B7%A7%E5%A4%A7pk-%E7%95%B6%E5%82%B3%E7%B5%B1%E8%B6%8A%E5%8D%97-%E6%89%8D%E5%AD%90%E6%A8%82-%E9%81%87%E4%B8%8A%E5%8F%B0%E7%81%A3%E5%9C%8B%E6%A8%82%E5%9C%98-113457099.html\n",
      "https://tw.news.yahoo.com/%E6%BC%94%E5%93%A1%E8%88%87%E9%8B%BC%E7%90%B4%E5%B0%8D%E8%A9%B1-%E5%BC%B5%E5%AE%89%E5%A9%B7%E8%B7%A8%E8%B6%B3%E5%8A%87%E5%A0%B4-215007079.html\n"
     ]
    },
    {
     "name": "stdout",
     "output_type": "stream",
     "text": [
      "https://tw.news.yahoo.com/%E5%91%A8%E6%8F%9A%E9%9D%92%E6%9B%AC%E8%BE%A3%E7%85%A7-%E7%A9%BF%E7%B7%8A%E8%BA%AB%E8%A1%A3%E6%B8%BE%E5%9C%93%E7%BE%8E%E8%83%B8%E5%BD%88%E5%87%BA-011800924.html\n",
      "https://tw.news.yahoo.com/%E9%AB%98%E5%85%AC%E5%B1%80%E7%94%9F%E6%85%8B%E7%B4%80%E9%8C%84%E7%89%87-%E7%8D%B2%E7%BE%8E%E5%9C%8B%E5%BD%B1%E5%B1%95%E7%99%BD%E9%87%91%E7%8D%8E-131659054.html\n",
      "https://tw.news.yahoo.com/vixx%E6%96%B0%E5%B0%88%E8%BC%AF%E7%9A%84%E9%80%A0%E5%9E%8B-kpop%E4%B9%9F%E7%8E%A9%E7%A9%BF%E8%B6%8A%E4%BA%86-021400131.html\n",
      "https://tw.news.yahoo.com/%E5%8E%9F%E8%AB%92%E8%80%81%E5%85%AC%E5%81%B7%E5%90%83%E5%B0%8F%E4%B8%89-%E5%A5%B3%E6%98%9F%E9%A0%86%E5%88%A9%E7%94%A2%E4%B8%8B%E7%94%B7%E5%AC%B0-072600004.html\n",
      "https://tw.news.yahoo.com/%E9%A6%AC%E5%B0%BC%E6%8B%89%E4%BD%9B%E5%85%89%E5%B1%B1-flip%E9%9F%B3%E6%A8%82%E6%9C%83%E6%BC%94%E5%87%BA%E6%88%90%E5%8A%9F-014441731.html\n",
      "https://tw.news.yahoo.com/md-photo-%E5%85%A8%E5%AD%9D%E7%9B%9B%E6%9D%8E%E5%9F%BA%E5%AE%87%E7%AD%89%E5%87%BA%E5%B8%AD%E5%90%B3%E5%B0%9A%E9%8E%AE%E9%87%91%E7%B4%A0%E8%8B%B1%E5%A9%9A%E7%A6%AE-065526030.html\n",
      "https://tw.news.yahoo.com/%E7%99%BE%E6%83%B3%E6%96%B0%E4%BA%BA%E7%8D%8E%E5%87%BA%E7%88%90-%E9%86%9C%E5%B8%A5-%E8%B7%A8%E7%95%8C%E9%80%A3%E8%8E%8A2%E5%B9%B4%E6%9C%80%E5%A8%81-160000789.html\n",
      "https://tw.news.yahoo.com/%E9%98%BFken%E5%8F%8D%E4%B8%B2%E8%A2%AB%E6%91%B8%E8%87%80%E8%A6%96%E4%BD%9C%E8%82%AF%E5%AE%9A-215007698.html\n",
      "https://tw.news.yahoo.com/%E6%B5%81%E8%A1%8C%E9%9F%B3%E6%A8%82%E8%B3%87%E6%B7%B1%E5%89%8D%E8%BC%A9%E5%89%8D%E9%80%B2%E6%A0%A1%E5%9C%92-1-%E5%9C%96-064301985.html\n",
      "https://tw.news.yahoo.com/%E5%9B%9B%E4%BD%8D%E4%BA%9E%E6%B4%B2%E5%BD%B1%E5%B1%95%E6%8E%A8%E6%89%8B-%E9%BD%8A%E8%81%9A%E6%A1%83%E5%9C%92%E9%9B%BB%E5%BD%B1%E7%AF%80-070810609.html\n",
      "https://tw.news.yahoo.com/2017%E9%87%91%E6%9B%B2%E6%B4%BB%E5%8B%95%E8%B5%B7%E8%B7%91-%E5%BC%B7%E5%8C%96%E6%9D%B1%E5%8D%97%E4%BA%9E%E5%9C%B0%E5%8D%80%E4%BA%A4%E6%B5%81-100800004.html\n",
      "https://tw.news.yahoo.com/%E6%83%B3%E4%BD%A0%E4%BA%86%E7%94%B7%E7%A5%9E-%E8%B6%99%E5%AF%85%E6%88%90%E6%9C%89%E6%9C%9B%E5%87%BA%E6%BC%94-happy-together-3-500%E6%9C%9F%E7%89%B9%E8%BC%AF-003700531.html\n",
      "https://tw.news.yahoo.com/av%E5%A5%B3%E5%84%AA%E6%B5%B7%E8%A3%A1%E6%8B%8D%E5%AE%A3%E5%82%B3%E5%BD%B1%E7%89%87-%E6%85%98%E9%81%AD%E9%AF%8A%E9%AD%9A%E7%8B%A0%E5%92%AC-072024202.html\n",
      "https://tw.news.yahoo.com/%E5%BE%9E%E7%AB%B6%E7%88%AD%E5%B0%8D%E6%89%8B%E5%88%B0%E6%9C%8B%E5%8F%8B-h-o-t-%E6%B0%B4%E6%99%B6%E7%94%B7%E5%AD%A9%E5%90%8C%E6%A1%86-20%E5%B9%B4%E5%89%8D%E8%83%BD%E6%83%B3%E8%B1%A1%E5%97%8E-042600637.html\n",
      "https://tw.news.yahoo.com/%E5%9D%8E%E5%9F%8E%E5%BD%B1%E5%B1%95%E4%B8%83%E5%8D%81%E7%9B%9B%E6%9C%83-%E5%8F%B0%E6%96%B0%E9%8A%B3%E5%B0%8E%E6%BC%94%E5%B6%84%E9%9C%B2%E9%A0%AD%E8%A7%92-095500880.html\n",
      "https://tw.news.yahoo.com/%E9%9F%8B%E7%A6%AE%E5%AE%89%E7%9B%A7%E5%BB%A3%E4%BB%B2%E6%9C%89%E5%BF%97-%E5%90%8C-215011661.html\n",
      "https://tw.news.yahoo.com/%E9%80%9A%E9%9D%88%E5%B0%91%E5%A5%B3%E6%9C%80%E7%B5%82%E5%9B%9E%E6%94%B6%E8%A6%964-4-%E5%89%B5%E5%85%AC%E8%A6%96%E6%88%B2%E5%8A%87%E7%B4%80%E9%8C%84-032302927.html\n",
      "https://tw.news.yahoo.com/%E6%8C%87%E5%B7%9D%E6%99%AE%E7%99%BE%E6%97%A5%E6%94%BF%E7%B8%BE%E5%BB%A3%E5%91%8A%E6%98%AF%E5%81%87%E6%96%B0%E8%81%9E-cnn%E6%8B%92%E6%92%AD-120456001--finance.html\n",
      "https://tw.news.yahoo.com/hito%E6%B5%81%E8%A1%8C%E9%9F%B3%E6%A8%82%E7%8D%8E-%E6%9E%97%E4%BF%8A%E5%82%91%E9%96%8B%E5%A0%B4-%E5%9C%96-120300144.html\n",
      "https://tw.news.yahoo.com/hito%E6%B5%81%E8%A1%8C%E9%9F%B3%E6%A8%82%E7%8D%8E-%E6%9E%97%E4%BF%8A%E5%82%91%E9%96%8B%E5%A0%B4%E4%BA%94%E6%9C%88%E5%A4%A9%E5%A3%93%E8%BB%B8-114022856.html\n",
      "https://tw.news.yahoo.com/%E8%B7%9D%E9%9B%A2%E6%BC%94%E5%94%B1%E6%9C%83%E5%89%A96%E5%A4%A9-%E8%94%A1%E7%90%B4%E9%A9%9A%E5%82%B3%E8%B7%8C%E6%96%B7%E8%85%BF-032400965.html\n",
      "https://tw.news.yahoo.com/%E8%B1%AC%E5%93%A5%E4%BA%AE%E7%99%8C%E7%97%87%E8%BD%89%E7%A7%BB%E5%88%B0%E8%82%9D%E5%92%8C%E8%83%83-%E6%9C%80%E5%BE%8C-%E5%80%8B%E9%81%BA%E6%86%BE%E6%98%AF%E9%80%99%E4%BB%B6%E4%BA%8B-160000412.html\n",
      "https://tw.news.yahoo.com/%E9%9F%93%E7%89%87%E6%83%A1%E5%A5%B3%E5%85%A5%E5%9C%8D%E5%9D%8E%E5%9F%8E%E5%BD%B1%E5%B1%95%E9%9D%9E%E7%AB%B6%E8%B3%BD%E5%96%AE%E5%85%83-014459028.html\n",
      "https://tw.news.yahoo.com/%E9%BB%83%E7%A7%8B%E7%94%9F%E7%A7%80%E5%AE%97%E5%B8%AB%E9%A2%A8%E7%AF%84-%E4%BB%A5%E5%BE%B7%E6%9C%8D%E4%BA%BA-%E7%8B%A0%E5%97%86%E6%A0%BC%E9%AC%A5%E7%8B%82%E4%BA%BA-031023627.html\n",
      "https://tw.news.yahoo.com/%E7%8D%B2%E5%B0%81%E5%8D%B0%E5%B0%BC%E5%AE%AE%E5%BB%B7%E8%A6%AA%E7%8E%8B-%E8%94%A1%E5%AE%97%E5%BE%B7%E6%8F%90%E5%8D%97%E5%90%91%E6%94%BF%E7%AD%96%E5%BB%BA%E8%A8%80-024400537.html\n",
      "https://tw.news.yahoo.com/%E9%99%B8%E5%8A%A0%E5%BC%B7%E6%96%B0%E5%AA%92%E9%AB%94%E7%AE%A1%E6%8E%A7-%E5%85%AC%E6%9C%89%E8%B3%87%E6%9C%AC%E6%89%8D%E8%83%BD%E4%BB%8B%E5%85%A5-001831311--finance.html\n",
      "https://tw.news.yahoo.com/%E8%BF%8E%E4%B8%96%E5%A4%A7%E9%81%8B-%E5%9C%8B%E9%9A%9B%E6%97%A55%E6%9C%88%E6%8E%A5%E5%8A%9B%E6%9A%96%E5%A0%B4-%E4%B8%BB%E9%A1%8C%E6%A9%AB%E8%B7%A85%E6%B4%B2-230%E5%80%8B%E5%B8%82%E9%9B%86-081100144.html\n",
      "https://tw.news.yahoo.com/%E7%9B%B4%E6%92%AD%E5%A4%AF-yahoo%E6%95%B8%E4%BD%8D%E6%A3%9A%E9%96%8B%E5%B9%95%E9%BB%83%E5%AD%90%E4%BD%BC%E5%A5%BD%E6%A8%82-063917865.html\n",
      "https://tw.news.yahoo.com/%E6%9F%8F%E6%9E%97%E6%84%9B%E6%A8%82%E5%89%8D%E9%A6%96%E5%B8%AD-%E6%8C%87%E6%8F%AE%E9%A0%98%E5%A5%8Fnso-100754823.html\n",
      "https://tw.news.yahoo.com/%E4%B8%AD%E8%8F%AF%E9%9B%BB%E5%BD%B1%E9%9F%B3%E6%99%BA%E6%85%A7%E7%9C%8B%E6%9D%BF-%E4%BA%BA%E8%87%89%E8%BE%A8%E8%AD%98%E7%B6%B2%E8%B7%AF%E7%9B%B4%E6%92%AD-135134298--finance.html\n",
      "https://tw.news.yahoo.com/md-photo-%E9%9F%93%E5%9C%8B%E6%98%8E%E6%98%9F%E5%A4%AB%E5%A9%A6%E5%90%B3%E5%B0%9A%E9%8E%AE%E9%87%91%E7%B4%A0%E8%8B%B1%E5%89%8D%E5%BE%80%E6%96%B0%E5%8A%A0%E5%9D%A1%E5%BA%A6%E8%9C%9C%E6%9C%88-070300499.html\n",
      "https://tw.news.yahoo.com/%E8%B6%8A%E5%8D%97%E6%AD%8C%E6%98%9F%E5%9C%A8%E5%8F%B0%E6%8B%8Dmv-%E9%BB%9E%E9%96%B1%E7%8E%87%E8%BF%91270%E8%90%AC-035613975.html\n",
      "https://tw.news.yahoo.com/%E9%9F%93%E5%9C%8B%E8%97%9D%E4%BA%BA%E6%9D%8E%E6%9D%B1%E5%81%A5%E5%AE%A3%E4%BD%88%E5%B7%B2%E8%88%87%E4%BA%A4%E5%BE%80%E6%95%B8%E6%9C%88%E5%A5%B3%E5%8F%8B%E8%B6%99%E5%80%AB%E7%86%99%E7%99%BB%E8%A8%98%E7%B5%90%E5%A9%9A-063449638.html\n",
      "https://tw.news.yahoo.com/%E6%88%91%E4%B8%A6%E4%B8%8D%E6%83%B3%E6%B5%81%E6%B5%AA-%E6%96%B0%E7%A7%BB%E6%B0%91%E5%94%B1%E5%87%BA%E7%94%9F%E5%91%BD%E6%95%85%E4%BA%8B-031900872.html\n",
      "https://tw.news.yahoo.com/%E6%B1%9F%E5%8D%97%E5%A4%A7%E5%8F%94psy%E5%8D%B3%E5%B0%87%E6%96%BC5-10%E6%97%A5%E5%B8%B6%E8%91%97%E6%AD%A3%E8%A6%8F8%E8%BC%AF%E5%9B%9E%E6%AD%B8%E6%AD%8C%E8%AC%A0%E7%95%8C%E5%95%A6-014700812.html\n",
      "https://tw.news.yahoo.com/%E9%AB%98%E5%85%AC%E5%B1%80%E7%B4%80%E9%8C%84%E7%89%87-%E7%8D%B2%E7%BE%8E%E4%BC%91%E5%A3%AB%E9%A0%93%E5%9C%8B%E9%9A%9B%E5%BD%B1%E5%B1%95%E7%99%BD%E9%87%91%E7%8D%8E-095700162.html\n",
      "https://tw.news.yahoo.com/triple-h%E7%AC%AC-%E6%94%AFmv%E5%85%AC%E9%96%8B%E4%BA%86-3p-%E8%87%AA%E6%AE%BA%E8%B6%85%E5%A4%A7%E5%B0%BA%E5%BA%A6%E9%9A%B1%E5%96%BB-060800884.html\n",
      "https://tw.news.yahoo.com/%E6%AF%8D%E8%A6%AA%E7%AF%80%E4%B8%AD%E6%B2%B9%E6%8E%A8%E5%BE%AE%E9%9B%BB%E5%BD%B1-%E5%A4%B1%E6%99%BA%E6%AF%8D%E8%88%87%E5%AD%90%E4%BA%92%E5%8B%95%E5%BF%83%E9%85%B8-012024095.html\n",
      "https://tw.news.yahoo.com/%E8%B6%99%E5%AF%85%E6%88%90%E5%8A%A0%E7%9B%9F150%E5%84%84%E5%A4%A7%E8%A3%BD%E4%BD%9C-%E5%AE%89%E5%B8%82%E5%9F%8E-%E8%A9%AE%E9%87%8B%E5%BF%A0%E7%83%88%E5%B0%87%E8%BB%8D-023000497.html\n",
      "https://tw.news.yahoo.com/produce101-%E7%AC%AC%E4%BA%8C%E5%AD%A3%E9%80%A3%E7%BA%8C%E4%B8%89%E5%91%A8%E8%9F%AC%E8%81%AF%E5%85%A7%E5%AE%B9%E5%BD%B1%E9%9F%BF%E5%8A%9B%E6%8C%87%E6%95%B8%E5%86%A0%E8%BB%8D-011000441.html\n",
      "https://tw.news.yahoo.com/7%E6%9C%88%E4%BE%86%E5%8F%B0%E9%96%8B%E5%94%B1eric-nam-215011074.html\n",
      "https://tw.news.yahoo.com/hito%E6%B5%81%E8%A1%8C%E9%9F%B3%E6%A8%82%E7%8D%8E-%E4%BA%94%E6%9C%88%E5%A4%A9%E5%A3%93%E8%BB%B8%E6%BC%94%E5%87%BA-%E5%9C%96-120300023.html\n",
      "https://tw.news.yahoo.com/%E5%8F%B0%E8%B6%8A%E5%82%B3%E7%B5%B1%E6%A8%82%E5%99%A8%E5%90%88%E5%A5%8F-%E6%BC%94%E7%B9%B9%E8%B6%8A%E5%8D%97%E9%9F%B3%E6%A8%82%E7%B9%BD%E7%B4%9B%E4%B8%96%E7%95%8C-090800009.html\n",
      "https://tw.news.yahoo.com/%E6%9D%B1%E6%A3%AE%E8%B3%BC%E7%89%A9%E7%B5%90%E5%90%88%E6%96%B0%E8%81%9E%E9%9B%B2-%E6%89%93%E9%80%A0%E5%85%A7%E5%AE%B9%E9%9B%BB%E5%95%86-053607429.html\n",
      "https://tw.news.yahoo.com/%E6%8E%A8%E7%89%B9%E8%81%AF%E6%89%8B%E5%BD%AD%E5%8D%9A-%E6%8E%A824%E5%B0%8F%E6%99%82%E6%96%B0%E8%81%9E%E9%A0%BB%E9%81%93-022002794--finance.html\n"
     ]
    },
    {
     "name": "stdout",
     "output_type": "stream",
     "text": [
      "https://tw.news.yahoo.com/%E5%9C%8B%E9%9A%9B%E4%B8%8D%E5%86%8D%E6%81%90%E5%90%8C%E6%97%A5-%E5%BC%B5%E6%83%A0%E5%A6%B9%E7%AD%89%E5%85%AB%E5%A4%A7%E5%A4%A9%E5%90%8E%E5%90%88%E5%94%B1-132034080.html\n",
      "https://tw.news.yahoo.com/%E4%B8%AD%E5%A4%AE%E7%A4%BE%E8%88%87%E4%BF%84%E7%BE%85%E6%96%AF%E8%A1%9B%E6%98%9F%E9%80%9A%E8%A8%8A%E7%A4%BE%E6%96%B0%E8%81%9E%E5%90%88%E4%BD%9C-095918671.html\n",
      "https://tw.news.yahoo.com/lamigirls%E6%97%A5%E7%B3%BB%E6%87%89%E6%8F%B4-1-%E5%9C%96-150301690--mlb.html\n",
      "https://tw.news.yahoo.com/%E6%A1%83%E7%8C%BF%E9%83%AD%E5%9A%B4%E6%96%873%E5%88%86%E7%A0%B2-1-%E5%9C%96-135101325--mlb.html\n",
      "https://tw.news.yahoo.com/yokoso%E6%A1%83%E7%8C%BF-%E7%90%83%E8%BF%B7%E6%97%A5%E7%B3%BB%E6%87%89%E6%8F%B4%E9%A2%A8-%E5%9C%96-145101820--mlb.html\n",
      "https://tw.news.yahoo.com/%E6%A1%83%E7%8C%BF%E5%B0%8D%E7%8D%85%E6%89%93%E5%87%BA%E7%81%AB%E6%B0%A3-%E5%85%A9%E5%BA%A6%E6%B8%85%E7%A9%BA%E6%9D%BF%E5%87%B3-1-%E5%9C%96-144301534--mlb.html\n",
      "https://tw.news.yahoo.com/nba-%E8%80%83%E4%BD%9B%E6%8C%BA%E8%BA%AB%E8%80%8C%E5%87%BA-%E5%BE%9E%E8%A9%B9%E7%9A%87%E5%B0%8D%E6%89%8B%E8%AE%8A%E6%9C%80%E4%BD%B3%E5%8A%A9%E6%89%8B-040800974--nba.html\n",
      "https://tw.news.yahoo.com/%E6%A1%83%E7%8C%BF%E5%B0%8D%E7%8D%85%E6%89%93%E5%87%BA%E7%81%AB%E6%B0%A3-%E5%85%A9%E5%BA%A6%E6%B8%85%E7%A9%BA%E6%9D%BF%E5%87%B3-3-%E5%9C%96-144301774--mlb.html\n",
      "https://tw.news.yahoo.com/%E5%9C%8B%E6%B0%91%E9%9A%8A%E5%B0%8F%E5%8F%B2%E5%85%88%E7%99%BC-%E6%95%B2%E5%85%A8%E5%A3%98%E6%89%93%E5%A5%AA%E6%9C%AC%E5%AD%A3%E7%AC%AC%E4%B8%89%E5%8B%9D-172028399--mlb.html\n",
      "https://tw.news.yahoo.com/%E6%A1%83%E7%8C%BF%E9%83%AD%E5%9A%B4%E6%96%873%E5%88%86%E7%A0%B2-2-%E5%9C%96-135101971--mlb.html\n",
      "https://tw.news.yahoo.com/%E6%9E%97%E6%9B%B8%E8%B1%AA%E7%9C%9F%E4%B8%8D%E8%B3%B4%E7%BE%8E%E7%B6%B2%E8%AE%9A%E9%AB%98%E5%83%B9%E5%80%BC-160000869--nba.html\n",
      "https://tw.news.yahoo.com/%E4%B8%AD%E8%8F%AF%E8%81%B7%E6%A3%92-%E7%8B%84%E9%A6%AC%E5%85%8B%E6%8A%93%E7%8B%82%E6%80%92%E7%BD%B5-%E6%B4%AA%E7%B8%BD-%E4%BB%96%E4%B8%8D%E9%81%A9%E5%90%88%E6%93%94%E4%BB%BB%E7%B5%82%E7%B5%90%E8%80%85-131928400.html\n",
      "https://tw.news.yahoo.com/lamigo%E6%A1%83%E7%8C%BF%E5%8B%9D%E7%B5%B1-2-%E5%9C%96-135101117--mlb.html\n",
      "https://tw.news.yahoo.com/%E5%9F%BA%E6%99%AE%E6%9F%AF%E5%90%89%E7%B2%BE%E9%80%B2-%E5%B7%AE%E9%BB%9E%E8%B7%91%E7%A0%B4%E9%A6%AC%E6%8B%89%E6%9D%BE2%E5%B0%8F%E6%99%82%E5%A4%A7%E9%97%9C-131829870.html\n",
      "https://tw.news.yahoo.com/%E6%9B%BE%E9%99%B6%E9%8E%94%E8%B7%A8%E5%A0%B4%E9%80%A34%E6%89%93%E5%B8%AD%E9%96%8B%E8%BD%9F-%E4%B8%AD%E8%81%B7%E5%8F%B2%E7%AC%AC-%E4%BA%BA-103926893.html\n",
      "https://tw.news.yahoo.com/lamigo%E6%A1%83%E7%8C%BF%E5%8B%9D%E7%B5%B1-1-%E5%9C%96-135101723--mlb.html\n",
      "https://tw.news.yahoo.com/%E6%9E%9C%E9%99%80%E7%90%83%E5%A0%B4%E8%88%9E%E5%8F%B0%E5%8A%87%E8%B6%85%E6%8D%B7%E5%8A%8D%E8%81%96-2-%E5%9C%96-144301712--mlb.html\n",
      "https://tw.news.yahoo.com/%E7%94%9F%E6%B6%AF%E9%A6%96%E5%8B%9D%E5%88%B0%E6%89%8B-%E6%9E%97%E6%A8%BA%E6%85%B6-%E5%AE%9A%E8%A6%81%E6%8A%95%E5%87%BA%E6%88%90%E7%B8%BE-134830962--mlb.html\n",
      "https://tw.news.yahoo.com/%E5%85%A8%E5%A4%A7%E9%81%8B%E9%96%8B%E5%B9%95-%E8%81%96%E7%81%AB%E5%86%89%E5%86%89%E5%8D%87%E8%B5%B7-1-%E5%9C%96-121101881--spt.html\n",
      "https://tw.news.yahoo.com/nba-%E5%B8%95%E5%85%8B%E7%BC%BA%E9%99%A3%E9%9B%B7%E7%B4%8D%E5%BE%B7%E6%93%94%E5%A4%A7%E4%BB%BB-%E9%A6%AC%E5%88%BA%E6%90%B6%E5%9B%9E%E4%B8%BB%E5%A0%B4%E5%84%AA%E5%8B%A2-041100982--nba.html\n",
      "https://tw.news.yahoo.com/%E4%B8%AD%E8%8F%AF%E8%81%B7%E6%A3%92-%E7%8E%8B%E6%9F%8F%E8%9E%8D5%E5%AE%89%E6%89%93%E7%8E%87%E5%9B%9E4%E6%88%90-300%E5%AE%89%E5%8F%AA%E5%B7%AE21%E6%94%AF-133438619.html\n",
      "https://tw.news.yahoo.com/%E7%94%9F%E6%B6%AF%E9%A6%96%E5%8B%9D%E5%85%A5%E6%89%8B-%E6%9E%97%E6%A8%BA%E6%85%B6-%E5%AE%9A%E8%A6%81%E6%8A%95%E5%87%BA%E6%88%90%E7%B8%BE-%E5%9C%96-144301166--mlb.html\n",
      "https://tw.news.yahoo.com/%E4%B8%AD%E8%8F%AF%E8%81%B7%E6%A3%92-%E7%8B%84%E9%A6%AC%E5%85%8B%E8%A2%AB%E8%B6%95%E5%87%BA%E5%A0%B4-%E8%94%97%E7%B8%BD%E6%80%92%E6%8C%87%E7%8C%BF%E5%81%B7%E6%9A%97%E8%99%9F-130510789.html\n",
      "https://tw.news.yahoo.com/%E6%9E%97%E6%9B%B8%E8%B1%AA%E8%A1%A8%E7%8F%BE%E4%B8%8D%E8%B3%B4-%E7%BE%8E%E7%B6%B2%E7%AB%99%E8%AE%9A%E6%8F%9A%E9%AB%98%E5%83%B9%E5%80%BC-051655761.html\n",
      "https://tw.news.yahoo.com/%E6%9B%BE%E9%99%B6%E9%8E%942%E5%A0%B45%E8%BD%9F%E7%A0%B4%E7%B4%80%E9%8C%84-%E4%B8%AD%E4%BF%A1%E5%85%84%E5%BC%9F3%E9%80%A3%E5%8B%9D-140430383--mlb.html\n",
      "https://tw.news.yahoo.com/%E6%A1%83%E7%8C%BF%E6%97%A5%E6%9C%AC%E9%A2%A8%E4%B8%BB%E9%A1%8C%E6%97%A5-%E5%85%A8%E7%8C%BF%E4%B8%BB%E5%A0%B4%E7%8E%A9%E6%89%AD%E8%9B%8B-1-%E5%9C%96-144301702--mlb.html\n",
      "https://tw.news.yahoo.com/%E6%9E%9C%E9%99%80%E7%90%83%E5%A0%B4%E8%88%9E%E5%8F%B0%E5%8A%87%E8%B6%85%E6%8D%B7%E5%8A%8D%E8%81%96-1-%E5%9C%96-144301647--mlb.html\n",
      "https://tw.news.yahoo.com/%E6%A1%83%E7%8C%BF%E5%B0%8D%E7%8D%85%E6%89%93%E5%87%BA%E7%81%AB%E6%B0%A3-%E5%85%A9%E5%BA%A6%E6%B8%85%E7%A9%BA%E6%9D%BF%E5%87%B3-2-%E5%9C%96-144301662--mlb.html\n",
      "https://tw.news.yahoo.com/%E7%8E%8B%E6%9F%8F%E8%9E%8D%E5%96%AE%E5%A0%B45%E5%AE%89-%E8%BA%8D%E5%B1%85%E6%89%93%E6%93%8A%E7%8E%8B-140130832--mlb.html\n",
      "https://tw.news.yahoo.com/%E4%B8%AD%E8%8F%AF%E8%81%B7%E6%A3%92-%E5%8F%83%E8%A6%8B%E5%A4%A7%E7%8E%8B-%E7%8E%8B%E6%9F%8F%E8%9E%8D%E9%96%8B%E8%BD%9F5%E5%AE%89-%E6%9E%97%E6%A8%BA%E6%85%B6%E5%A5%AA%E9%A6%96%E5%8B%9D-122353342.html\n",
      "https://tw.news.yahoo.com/yokoso%E6%A1%83%E7%8C%BF-%E8%88%87%E6%97%A5%E6%9C%AC%E7%81%AB%E8%85%BF%E9%9A%8A%E5%90%89%E7%A5%A5%E7%89%A9%E4%BA%92%E5%8B%95-%E5%9C%96-145101566--mlb.html\n",
      "https://tw.news.yahoo.com/%E5%85%A8%E5%A4%A7%E9%81%8B%E9%96%8B%E5%B9%95-%E8%81%96%E7%81%AB%E5%86%89%E5%86%89%E5%8D%87%E8%B5%B7-2-%E5%9C%96-121101911--spt.html\n",
      "https://tw.news.yahoo.com/%E6%AB%BB%E6%A1%83%E5%B0%8F%E4%B8%B8%E5%AD%90%E7%82%BA%E8%81%B7%E6%A3%92%E9%96%8B%E7%90%83-1-%E5%9C%96-142701819--mlb.html\n",
      "https://tw.news.yahoo.com/%E5%85%A8%E5%A4%A7%E9%81%8B-%E9%96%8B%E5%B9%95%E5%85%B8%E7%A6%AE%E8%B6%85%E7%B2%BE%E5%BD%A9-%E6%98%9F%E9%A6%AC%E6%BE%B3%E9%81%B8%E6%89%8B%E4%B9%9F%E5%85%B1%E8%A5%84%E7%9B%9B%E8%88%89-130308083.html\n",
      "https://tw.news.yahoo.com/lamigirls%E6%97%A5%E7%B3%BB%E6%87%89%E6%8F%B4-2-%E5%9C%96-150301425--mlb.html\n",
      "https://tw.news.yahoo.com/%E7%90%83%E5%90%8E%E6%8D%A8%E4%B8%96%E9%8C%A6%E8%B3%BD-%E6%88%B4%E8%B3%87%E7%A9%8E%E7%94%A8%E6%89%93%E4%B8%96%E5%A4%A7%E9%81%8B%E6%84%9B%E5%8F%B0%E7%81%A3-061119288.html\n",
      "https://tw.news.yahoo.com/nba-nba%E5%AD%A3%E5%BE%8C%E8%B3%BD%E4%BB%8A%E6%97%A5%E7%9C%8B%E9%BB%9E-161000384.html\n",
      "https://tw.news.yahoo.com/nba-%E5%B0%91%E4%BA%86%E5%B8%95%E5%85%8B-%E9%A6%AC%E5%88%BA%E9%9D%A0%E5%9C%98%E9%9A%8A%E6%88%B0%E5%8A%9B%E6%90%B6%E4%B8%8B%E5%AE%A2%E5%A0%B4%E9%87%8D%E8%A6%81%E5%8B%9D%E5%88%A9-060544297.html\n",
      "https://tw.news.yahoo.com/hbl-%E4%B8%AD%E8%8F%AF%E8%B6%8A%E6%8C%AB%E8%B6%8A%E5%8B%87-%E6%9C%80%E7%B5%82%E6%88%B0%E6%93%8A%E6%95%97%E7%B4%90%E8%A5%BF%E8%98%AD%E4%BB%A517%E5%90%8D%E4%BD%9C%E6%94%B6-125142774.html\n",
      "https://tw.news.yahoo.com/%E6%A1%83%E7%8C%BF%E6%97%A5%E6%9C%AC%E9%A2%A8%E4%B8%BB%E9%A1%8C%E6%97%A5-%E5%85%A8%E7%8C%BF%E4%B8%BB%E5%A0%B4%E7%8E%A9%E6%89%AD%E8%9B%8B-2-%E5%9C%96-144301440--mlb.html\n",
      "https://tw.news.yahoo.com/nba-%E8%AC%B9%E8%A8%98%E5%89%8D%E8%BB%8A%E4%B9%8B%E9%91%91-%E9%A8%8E%E5%A3%AB%E4%B8%8D%E7%B5%A6%E6%9A%B4%E9%BE%8D%E4%BB%BB%E4%BD%95%E6%A9%9F%E6%9C%83-063853605.html\n",
      "https://tw.news.yahoo.com/mlb-%E9%87%91%E9%B6%AF%E9%BA%A5%E5%88%A9%E6%9C%89%E5%A4%A0%E8%A1%B0-%E9%80%A3%E7%BA%8C%E5%BC%B7%E8%A5%B2%E7%90%83%E8%A2%AB%E6%89%93%E9%80%80%E5%A0%B4-015652426.html\n",
      "https://tw.news.yahoo.com/%E4%B8%AD%E8%8F%AF%E8%81%B7%E6%A3%92-%E6%9E%97%E5%93%B2%E7%91%84%E8%83%9E%E5%BC%9F%E4%B8%96%E5%A4%A7%E9%81%8B%E5%B8%A5%E5%93%A5-%E5%B0%87%E7%82%BA%E5%AF%8C%E9%82%A6%E6%82%8D%E5%B0%87%E9%96%8B%E7%90%83-172006622.html\n",
      "https://tw.news.yahoo.com/%E6%A1%83%E7%8C%BF%E8%88%87%E7%8D%85%E6%89%93%E5%87%BA%E7%81%AB%E6%B0%A3-%E5%85%A9%E5%BA%A6%E6%B8%85%E7%A9%BA%E6%9D%BF%E5%87%B3-133429280--mlb.html\n",
      "https://tw.news.yahoo.com/%E6%AB%BB%E6%A1%83%E5%B0%8F%E4%B8%B8%E5%AD%90%E7%82%BA%E8%81%B7%E6%A3%92%E9%96%8B%E7%90%83-2-%E5%9C%96-142701639--mlb.html\n",
      "https://tw.news.yahoo.com/%E7%8E%8B%E6%9F%8F%E8%9E%8D%E5%96%AE%E5%A0%B45%E5%AE%89-%E8%BA%8D%E5%B1%85%E4%B8%AD%E8%81%B7%E6%89%93%E6%93%8A%E7%8E%8B-%E5%9C%96-144301870--mlb.html\n",
      "https://tw.news.yahoo.com/%E5%B8%83%E9%AD%AF%E6%96%AF%E6%9C%9F%E6%9C%AB%E8%80%83%E8%8B%A5%E5%A4%B1%E5%88%A9-%E6%A9%9F%E6%9C%83%E5%B0%87%E8%AE%93%E6%9C%AC%E5%9C%9F%E6%8A%95%E6%89%8B-%E5%9C%96-135101227--mlb.html\n"
     ]
    },
    {
     "name": "stdout",
     "output_type": "stream",
     "text": [
      "https://tw.news.yahoo.com/101%E7%99%BB%E9%AB%98%E8%B3%BD%E7%B4%80%E9%8C%84%E4%BF%9D%E6%8C%81%E4%BA%BA-%E8%80%81%E5%A9%86%E4%BB%8A%E5%B9%B4%E4%BB%A3%E5%A4%AB%E5%87%BA%E5%BE%81-131409739.html\n",
      "https://tw.news.yahoo.com/%E5%85%A8%E5%A4%A7%E9%81%8B%E9%96%8B%E5%B9%95-%E5%89%AF%E7%B8%BD%E7%B5%B1-%E8%A6%96%E7%82%BA%E4%B8%96%E5%A4%A7%E9%81%8B%E5%89%8D%E5%93%A8%E6%88%B0-122728124--spt.html\n",
      "https://tw.news.yahoo.com/%E4%B8%AD%E8%8F%AF%E8%81%B7%E6%A3%92-%E7%8D%85%E7%8C%BF%E6%9A%97%E8%99%9F%E8%AB%9C%E5%B0%8D%E8%AB%9C-%E6%B1%9F%E8%BE%B0%E6%99%8F%E4%BB%BB%E5%8B%99%E9%87%8D%E5%A4%A7-164638698.html\n",
      "https://tw.news.yahoo.com/yokoso%E6%A1%83%E7%8C%BF-%E7%B2%89%E8%89%B2%E6%B0%A3%E7%90%83%E5%8D%87%E7%A9%BA-%E5%9C%96-142701397--mlb.html\n",
      "https://tw.news.yahoo.com/%E5%85%A8%E5%A4%A7%E9%81%8B-%E4%B8%89%E7%A0%B4%E8%A8%B1%E6%B7%91%E6%B7%A8%E7%B4%80%E9%8C%84-%E9%83%AD%E5%A9%9E%E6%B7%B3%E5%9C%A858%E5%85%AC%E6%96%A4%E7%B4%9A%E8%BC%95%E9%AC%86%E5%A5%AA%E9%87%91-075457265.html\n",
      "https://tw.news.yahoo.com/%E4%B8%AD%E8%8F%AF%E8%81%B7%E6%A3%92-%E6%9B%BE%E9%99%B6%E9%8E%94%E5%86%8D%E7%B9%B3-%E9%9B%99%E9%9F%BF%E7%A0%B2-%E4%B8%AD%E4%BF%A1%E5%A4%A7%E5%8B%9D%E5%AF%8C%E9%82%A6%E5%A5%AA3%E9%80%A3%E5%8B%9D-121750325.html\n",
      "https://tw.news.yahoo.com/lamigirls%E6%97%A5%E7%B3%BB%E6%87%89%E6%8F%B4-3-%E5%9C%96-150301954--mlb.html\n",
      "https://tw.news.yahoo.com/%E5%B0%84%E7%AE%AD-%E5%A4%A2%E6%9C%AA%E4%BA%86-%E7%8E%8B%E6%AD%A3%E9%82%A6%E6%A3%84%E5%85%AC%E8%81%B7%E7%9B%BC%E6%8B%9A%E6%9D%B1%E4%BA%AC%E5%A5%A7%E9%81%8B-135314194.html\n",
      "https://tw.news.yahoo.com/yokoso%E6%A1%83%E7%8C%BF-%E5%A4%A7%E7%8E%8B%E5%BE%A1%E5%AE%88-%E5%9C%96-145101831--mlb.html\n",
      "https://tw.news.yahoo.com/%E5%9F%BA%E6%99%AE%E6%9F%AF%E5%90%89%E7%B2%BE%E9%80%B2-%E5%B7%AE%E9%BB%9E%E8%B7%91%E7%A0%B4%E9%A6%AC%E6%8B%89%E6%9D%BE2%E5%B0%8F%E6%99%82%E5%A4%A7%E9%97%9C-133501284.html\n",
      "https://tw.news.yahoo.com/%E9%AB%98%E7%88%BE%E5%A4%AB-%E5%8F%AA%E8%A6%81%E5%8F%B0%E7%81%A3%E5%A5%BD-%E9%BB%83%E5%AE%B6%E8%81%B2-foremost%E8%B4%8A%E5%8A%A9%E7%84%A1%E9%99%90%E9%87%8F-%E7%84%A1%E6%AD%A2%E5%A2%83-045308312--golf.html\n",
      "https://tw.news.yahoo.com/%E4%B8%AD%E8%8F%AF%E8%81%B7%E6%A3%92-%E4%B8%AD%E4%BF%A1%E8%BF%912%E5%A0%B4%E5%A4%A7%E6%94%BE%E7%85%99%E7%81%AB-%E5%8A%9B%E7%8C%9B%E8%A6%81%E7%89%B9%E5%88%A5%E5%B0%8F%E5%BF%83%E6%9B%BE%E9%99%B6%E9%8E%94-160500916.html\n",
      "https://tw.news.yahoo.com/%E9%AB%98%E7%88%BE%E5%A4%AB-%E9%87%91%E8%8D%B7%E5%A8%9C%E8%8C%A8%E5%9F%8E%E5%A4%A7%E8%B3%BD%E6%8C%91%E6%88%B0%E9%80%A3%E8%8E%8A%E5%8B%9D-%E8%94%A1%E4%BD%A9%E7%A9%8E%E6%9A%AB%E5%B1%85%E7%AC%AC%E4%B8%83-131907891--golf.html\n",
      "https://tw.news.yahoo.com/%E4%B8%AD%E8%8F%AF%E8%81%B7%E6%A3%92-%E7%8C%BF%E7%8D%85%E5%A4%A7%E6%88%B0%E6%9D%BF%E5%87%B3%E6%B8%85%E7%A9%BA-%E8%BF%AA%E9%A6%AC%E5%85%8B%E6%8C%91%E9%87%81%E8%A2%AB%E8%B6%95%E5%87%BA%E5%A0%B4-122410075.html\n",
      "https://tw.news.yahoo.com/mlb-%E5%A4%A7%E9%83%BD%E6%9C%83%E6%93%81%E8%B1%AA%E8%8F%AF%E5%82%B7%E5%85%B5%E6%B2%92%E5%B7%AE-%E6%94%BB%E5%A4%A7%E5%B1%80%E9%80%86%E8%BD%89%E9%A6%AC%E6%9E%97%E9%AD%9A-032300129--mlb.html\n",
      "https://tw.news.yahoo.com/%E6%BE%8E%E6%B9%96%E6%B5%B7%E5%B7%A1%E6%93%8A%E5%82%B7%E9%99%B8%E6%BC%81%E5%B7%A5-%E5%9C%8B%E5%8F%B0%E8%BE%A6-%E4%BB%A4%E4%BA%BA%E6%86%A4%E6%85%A8-102825861.html\n",
      "https://tw.news.yahoo.com/8%E5%9C%8B%E4%B8%AD%E7%94%9F%E5%98%89%E5%8D%97%E5%A4%A7%E5%9C%B3%E6%88%B2%E6%B0%B4-1%E6%BA%BA%E6%96%83-114300564.html\n",
      "https://tw.news.yahoo.com/%E5%8D%B0%E5%B0%BC%E5%A4%A7%E8%B6%8A%E7%8D%84-400%E9%A4%98%E5%9B%9A%E4%BB%8D%E6%9C%89%E5%8D%8A%E6%95%B8%E5%9C%A8%E9%80%83-133129769.html\n",
      "https://tw.news.yahoo.com/%E4%BA%8C%E5%B4%99%E9%84%89%E8%A5%BF%E7%93%9C%E7%AF%80-%E4%B8%8A%E8%90%AC%E5%8F%B0%E6%96%A4%E5%91%B7%E5%85%8D%E9%A9%9A-115600923.html\n",
      "https://tw.news.yahoo.com/%E6%B0%B4%E6%BA%90%E4%BD%BF%E7%94%A8%E5%BC%95%E5%AB%8C%E9%9A%99%E6%AF%86%E6%AD%BB%E8%80%81%E5%8F%8B-%E8%8E%BD%E7%94%B7%E5%88%A4%E5%88%9115%E5%B9%B4-045118232.html\n",
      "https://tw.news.yahoo.com/%E5%85%A7%E8%92%99%E5%8F%A4%E6%A3%AE%E6%9E%97%E5%A4%A7%E7%81%AB-%E9%99%B8%E6%92%A5%E6%AC%BE1-77%E5%84%84%E6%95%91%E7%81%BD-150632271.html\n",
      "https://tw.news.yahoo.com/%E5%BF%AB%E8%AA%8D%E9%A0%98-%E9%88%94%E7%A5%A8%E6%95%A3%E6%BB%BF%E5%9C%B0%E6%89%BE%E5%98%B8%E5%A4%B1%E4%B8%BB-114600629.html\n",
      "https://tw.news.yahoo.com/%E9%A6%AC%E5%85%8B%E5%AE%8F%E9%81%B8%E5%89%8D%E6%96%87%E4%BB%B6%E9%81%AD%E9%A7%AD%E5%A4%96%E6%B4%A9-%E6%B3%95%E9%81%B8%E5%A7%94%E6%9C%83%E8%AD%A6%E5%91%8A-123502292.html\n",
      "https://tw.news.yahoo.com/%E6%B6%89%E6%B4%A9%E6%A8%99%E6%A1%88%E8%A9%95%E5%A7%94%E5%90%8D%E5%96%AE-%E5%89%8D%E9%AB%98%E5%B8%82%E7%92%B0%E4%BF%9D%E5%B1%80%E9%95%B7%E6%9D%8E%E7%A9%86%E7%94%9F%E9%81%AD%E5%88%A4%E5%88%91-062708743.html\n",
      "https://tw.news.yahoo.com/%E8%B1%AC%E8%85%B8%E5%B7%A5%E5%BB%A0%E9%9D%9E%E6%B3%95%E6%8F%90%E7%85%89%E6%8A%97%E5%87%9D%E8%A1%80%E5%8A%91-%E8%BF%BD%E6%98%AF%E5%90%A6%E6%B5%81%E5%B8%82%E9%9D%A2-112028445.html\n",
      "https://tw.news.yahoo.com/20%E5%90%8D%E7%A9%BA%E6%9C%8D%E5%93%A1%E9%9B%86%E9%AB%94-%E4%BC%91%E5%81%87-%E7%9B%A4%E9%BB%9E%E9%81%A0%E8%88%AA%E6%AD%B7%E5%B9%B4%E5%9B%9B%E5%A4%A7%E7%88%AD%E8%AD%B0-070000374.html\n",
      "https://tw.news.yahoo.com/%E9%A6%AC%E5%B0%BC%E6%8B%89%E5%86%8D%E5%82%B3%E7%88%86%E7%82%B8%E6%A1%88-%E8%87%B3%E5%B0%912%E6%AD%BB4%E5%82%B7-121228710.html\n",
      "https://tw.news.yahoo.com/%E8%A1%97%E9%A0%AD%E9%81%87%E9%B4%9B%E9%B4%A6%E5%A4%A7%E7%9B%9C-9%E6%97%AC%E7%BF%81%E6%BF%80%E5%8B%95%E5%BE%9E%E8%BC%AA%E6%A4%85%E7%AB%99%E8%B5%B7-062033677.html\n",
      "https://tw.news.yahoo.com/%E6%9A%96%E5%BF%83%E8%A8%AD%E8%A8%88-%E6%94%B9%E8%89%AF%E8%9A%B5%E4%BB%94%E8%BB%8A%E5%8A%A9%E9%9D%92%E8%9A%B5%E5%AB%82-120100360.html\n",
      "https://tw.news.yahoo.com/%E7%86%B1%E5%B8%B6%E6%B0%A3%E6%97%8B%E5%94%90%E7%B4%8D%E7%99%BC%E5%A8%81-%E5%BC%B7%E9%A2%A8%E4%BE%B5%E8%A5%B2%E5%B3%B6%E5%9C%8B%E8%90%AC%E9%82%A3%E6%9D%9C-160503725.html\n",
      "https://tw.news.yahoo.com/129%E5%90%8D%E7%A7%BB%E6%B0%91%E9%81%87%E5%8A%AB-%E9%81%AD%E6%A3%84%E5%88%A9%E6%AF%94%E4%BA%9E%E5%A4%96%E6%B5%B7-121500323.html\n",
      "https://tw.news.yahoo.com/%E6%93%A6%E6%92%9E%E7%88%86%E6%80%92%E7%81%AB-%E5%89%8D%E9%84%89%E4%BB%A3%E6%89%93%E5%82%B72%E5%A5%B3-114300109.html\n",
      "https://tw.news.yahoo.com/%E8%8B%97%E6%A0%97%E8%BE%B2%E5%A9%A6%E5%89%B2%E5%96%89%E6%A1%88-%E5%89%8D%E7%A7%91%E7%94%B7%E6%B6%89%E6%9C%89%E9%87%8D%E5%AB%8C-1-%E5%9C%96-072701203.html\n",
      "https://tw.news.yahoo.com/%E9%80%9A%E7%B7%9D%E7%8A%AF%E6%B7%B1%E5%A4%9C%E9%81%87%E7%9B%A4%E6%9F%A5-%E8%AD%A6%E8%BA%AB%E6%89%8B%E7%9F%AF%E6%8D%B7%E5%88%A5%E9%80%83-030115399.html\n",
      "https://tw.news.yahoo.com/%E5%A4%96%E7%B1%8D%E5%A5%B3%E9%81%AD%E6%B2%99%E9%9B%95%E5%B8%AB%E7%81%8C%E9%86%89%E6%80%A7%E4%BE%B5-%E6%AA%A2%E6%96%B9%E9%99%90%E5%88%B6%E5%87%BA%E5%A2%83%E5%87%BA%E6%B5%B7-063537755.html\n",
      "https://tw.news.yahoo.com/%E9%99%B8%E7%94%B7%E6%92%BF%E5%88%B0%E5%8D%83%E9%A4%98%E5%85%83%E7%B4%A22%E5%8D%83%E9%85%AC%E9%87%91-%E5%9C%A8%E9%99%B8%E4%B8%8D%E9%81%95%E6%B3%95-150031866.html\n",
      "https://tw.news.yahoo.com/%E5%8D%97%E9%9F%93%E7%B8%BD%E7%B5%B1%E5%A4%A7%E9%81%B8-%E7%94%B7%E6%80%A7%E9%81%B8%E6%B0%91%E7%95%B6%E7%9C%BE%E4%BC%B8%E8%88%8C%E8%A6%81%E8%88%94%E5%80%99%E9%81%B8%E4%BA%BA%E5%A5%B3%E5%85%92%E8%87%89%E8%9B%8B-%E6%80%A7%E9%A8%B7%E6%93%BE%E5%AB%8C%E7%8A%AF%E9%81%AD%E6%B3%95%E8%BE%A6-115200531.html\n",
      "https://tw.news.yahoo.com/%E9%81%A0%E8%88%AA%E8%B3%87%E9%81%A3%E9%A2%A8%E6%B3%A2-21%E5%93%A1%E5%B7%A5%E9%9B%86%E9%AB%94%E8%AB%8B%E5%81%87-115200430.html\n",
      "https://tw.news.yahoo.com/%E6%AF%92%E8%8C%B6%E9%A2%A8%E6%B3%A2-%E4%BC%81%E6%A5%AD%E8%B3%A3%E4%BA%BA%E6%AF%92%E8%8C%B6%E6%B2%92%E4%BA%8B-%E5%8A%A0%E7%9B%9F%E5%95%86%E8%A1%80%E6%9C%AC%E7%84%A1%E6%AD%B8-062600018.html\n",
      "https://tw.news.yahoo.com/2%E5%9C%8B%E4%BA%8C%E7%94%B7%E7%B5%90%E4%BC%B4%E6%88%B2%E6%B0%B4-%E9%AD%82%E6%96%B7%E6%B0%B4%E5%A1%98-114300292.html\n",
      "https://tw.news.yahoo.com/%E9%A8%8E%E5%A3%AB%E6%B2%BF%E8%B7%AF%E6%95%A3%E8%B2%A1-%E5%A5%BD%E5%BF%83%E8%BB%8A%E4%B8%BB%E6%92%BF%E8%B5%B7%E9%80%81%E8%AD%A6%E5%BE%85%E8%AA%8D%E9%A0%98-%E5%9C%96-112701068.html\n",
      "https://tw.news.yahoo.com/%E4%B8%AD%E5%9C%8B%E6%BC%81%E8%88%B9%E8%B6%8A%E7%95%8C%E6%8D%95%E9%AD%9A-%E6%B5%B7%E5%B7%A1%E9%96%8B5%E6%A7%8D%E5%82%B72%E4%BA%BA%E6%9F%A5%E6%89%A3%E6%BC%81%E8%88%B9-094618545.html\n",
      "https://tw.news.yahoo.com/%E8%88%87%E9%99%B3%E6%98%9F%E5%90%88%E5%BD%B1-%E7%99%BD%E7%8B%BC-%E9%82%B1%E6%83%A0%E7%BE%8E%E6%92%87%E6%B8%85%E4%B8%8D%E8%AA%8D%E5%BE%97-054100057.html\n",
      "https://tw.news.yahoo.com/%E9%A0%AD%E4%BB%BD%E5%B7%A5%E5%BB%A0%E5%A4%A7%E7%81%AB-%E5%B0%8B%E7%8D%B2%E7%94%B7%E5%B1%8B%E4%B8%BB%E9%81%BA%E9%AB%94-034517242.html\n"
     ]
    },
    {
     "name": "stdout",
     "output_type": "stream",
     "text": [
      "https://tw.news.yahoo.com/%E8%B7%9F%E9%9B%BB%E5%BD%B1-%E6%A8%A3-%E8%B2%A8%E8%BB%8A%E6%89%93%E6%BB%91%E9%80%86%E6%92%9E2%E8%BB%8A-115200531.html\n",
      "https://tw.news.yahoo.com/%E9%99%B8%E8%88%B9%E8%B6%8A%E7%95%8C%E6%8D%95%E9%AD%9A-%E6%B5%B7%E5%B7%A1%E9%96%8B5%E6%A7%8D%E5%82%B72%E4%BA%BA%E6%9F%A5%E6%89%A3-072000301.html\n",
      "https://tw.news.yahoo.com/%E6%B3%95%E9%81%B8%E5%A7%94%E6%9C%83-%E6%95%A3%E6%92%AD%E9%A6%AC%E5%85%8B%E5%AE%8F%E8%B3%87%E6%96%99%E8%A6%81%E8%B2%A0%E5%88%91%E8%B2%AC-100500018.html\n",
      "https://tw.news.yahoo.com/%E9%A3%9F%E5%93%81%E5%BB%A0%E7%96%91%E8%A3%BD%E6%8A%97%E5%87%9D%E8%A1%80%E5%8A%91%E5%8E%9F%E6%96%99%E6%AA%A2%E8%AA%BF%E5%B0%87%E6%9F%A5-160000725.html\n",
      "https://tw.news.yahoo.com/%E5%8D%B0%E5%BA%A6%E7%93%A6%E6%96%AF%E5%A4%96%E6%B4%A9-%E8%BF%91200%E5%AD%B8%E7%94%9F%E9%80%81%E9%86%AB-093300082.html\n",
      "https://tw.news.yahoo.com/%E8%BA%AB%E9%9A%9C%E7%94%B7%E6%A9%9F%E8%BB%8A%E5%A3%9E%E7%9D%A1%E7%9F%B3%E6%A4%85-%E6%9A%96%E8%AD%A6%E5%8D%B3%E6%99%82%E5%8D%94%E5%8A%A9%E8%BF%94%E5%AE%B6-075336986.html\n",
      "https://tw.news.yahoo.com/%E9%A6%AC%E5%85%8B%E5%AE%8F%E9%81%B8%E5%89%8D%E6%96%87%E4%BB%B6%E9%81%AD%E9%A7%AD%E5%A4%96%E6%B4%A9-%E6%B3%95%E9%81%B8%E5%A7%94%E6%9C%83%E8%AD%A6%E5%91%8A-115927628.html\n",
      "https://tw.news.yahoo.com/%E5%8C%97%E7%BE%8E%E6%9A%B4%E9%9B%A8%E6%88%90%E7%81%BD%E4%B9%9D%E6%AD%BB-%E5%8A%A0%E6%8B%BF%E5%A4%A7%E6%B4%AA%E7%81%BD%E9%80%BE%E5%8D%83%E4%BA%BA%E5%8F%97%E5%BD%B1%E9%9F%BF-105029448.html\n",
      "https://tw.news.yahoo.com/%E8%B7%A8%E9%9B%99%E9%BB%83%E7%B7%9A%E9%81%95%E8%A6%8F-%E5%A4%96%E4%BA%A4%E8%BB%8A%E7%88%86-%E6%83%A1%E6%84%8F%E9%80%BC%E8%BB%8A-133800258.html\n",
      "https://tw.news.yahoo.com/%E8%AD%A6%E6%8C%81%E7%9B%BE%E7%89%8C%E6%94%BB%E5%A0%85-%E6%AF%92%E5%93%81%E9%80%9A%E7%B7%9D%E7%8A%AF%E9%A0%91%E6%8A%97-054300532.html\n",
      "https://tw.news.yahoo.com/%E7%B6%93%E9%A9%97%E4%B8%8D%E8%B6%B3-3%E4%BA%BA%E7%99%BB%E5%B1%B1%E8%BF%B7%E8%B7%AF1%E4%BA%BA%E6%91%94%E5%82%B7%E6%B1%82%E6%8F%B4-024815759.html\n",
      "https://tw.news.yahoo.com/%E6%AF%9B%E5%B0%8F%E5%AD%A9-%E4%BA%82%E7%AB%84%E6%AF%80%E6%8E%89-%E5%80%8B%E5%AE%B6%E5%BA%AD-%E9%A3%BC%E4%B8%BB%E4%BE%9D%E9%81%8E%E5%A4%B1%E7%BD%AA%E5%AB%8C%E5%87%BD%E9%80%81%E6%B3%95%E8%BE%A6-024609911.html\n",
      "https://tw.news.yahoo.com/%E6%AF%92%E8%8C%B6%E9%A2%A8%E6%B3%A2-%E8%A1%B0%E7%94%B7%E9%A0%82%E8%AE%93%E8%8B%B1%E5%9C%8B%E8%97%8D%E6%AF%92%E8%8C%B6-200%E8%90%AC%E9%A0%82%E8%AE%93%E9%87%91%E6%B3%A1%E6%B9%AF-062600548.html\n",
      "https://tw.news.yahoo.com/%E5%82%B3%E9%AB%98%E4%B8%AD%E7%94%9F%E6%90%AD%E6%8D%B7%E9%81%8B%E9%81%AD%E9%87%9D%E7%AD%92%E5%88%BA-%E9%9B%99%E5%8C%97%E8%AD%A6%E5%81%B5%E8%BE%A6-130026464.html\n",
      "https://tw.news.yahoo.com/%E8%8B%97%E6%A0%97%E8%BE%B2%E5%A9%A6%E5%89%B2%E5%96%89%E6%A1%88-%E5%89%8D%E7%A7%91%E7%94%B7%E6%B6%89%E6%9C%89%E9%87%8D%E5%AB%8C-3-%E5%9C%96-072701519.html\n",
      "https://tw.news.yahoo.com/%E5%86%92%E5%85%85%E8%AD%A6%E5%AF%9F%E8%A1%8C%E9%A8%99%E7%99%BE%E8%90%AC-%E5%8F%B0%E7%94%B7%E6%96%B0%E5%8A%A0%E5%9D%A1%E8%A2%AB%E9%80%AE-133729724.html\n",
      "https://tw.news.yahoo.com/%E5%8D%B0%E5%BA%A6%E5%A4%A9%E7%84%B6%E6%B0%A3%E6%A7%BD%E5%A4%96%E6%B4%A9-%E8%BF%91200%E5%AD%B8%E7%94%9F%E9%80%81%E9%86%AB-092003562.html\n",
      "https://tw.news.yahoo.com/%E8%8B%97%E6%A0%97%E8%BE%B2%E5%A9%A6%E5%89%B2%E5%96%89%E6%A1%88-%E5%89%8D%E7%A7%91%E7%94%B7%E6%B6%89%E6%9C%89%E9%87%8D%E5%AB%8C-2-%E5%9C%96-072701761.html\n",
      "https://tw.news.yahoo.com/%E5%A5%B3%E6%86%B6%E6%9B%BE%E8%A2%AB%E6%95%99%E6%8E%88%E6%80%A7%E9%82%80%E7%B4%84-%E4%B9%9F%E8%A2%AB%E9%99%B3%E6%98%9F%E6%93%81%E6%8A%B1%E9%81%8E-054100117.html\n",
      "https://tw.news.yahoo.com/%E9%A0%AD%E5%89%8D%E6%BA%AA%E5%A4%A7%E6%8E%92%E8%AE%8A%E6%BB%BF%E6%B1%9F%E7%B4%85-%E7%96%91%E5%9C%B0%E4%B8%8B%E5%B7%A5%E5%BB%A0%E5%81%B7%E6%8E%92%E5%BB%A2%E6%B0%B4-062033842.html\n",
      "https://tw.news.yahoo.com/%E5%85%AC%E8%BB%8A%E8%89%B2%E7%8B%BC%E9%A8%B7%E6%93%BE%E5%A5%B3%E4%B9%98%E5%AE%A2%E8%A2%AB%E9%80%AE-%E4%B8%8B%E8%B7%AA%E9%81%93%E6%AD%89%E6%B1%82%E9%A5%92-095032973.html\n",
      "https://tw.news.yahoo.com/%E5%AD%B8%E5%93%A1%E7%B7%B4%E4%B8%8A%E5%9D%A1%E9%9A%AA%E7%87%92%E8%BB%8A-%E9%A7%95%E8%A8%93%E7%8F%AD%E7%AB%84%E7%85%99-115400269.html\n",
      "https://tw.news.yahoo.com/oneforty-095909778.html\n",
      "https://tw.news.yahoo.com/%E4%B8%AD%E8%88%B9%E5%8F%88%E8%B6%8A%E7%95%8C%E6%8D%95%E9%AD%9A-%E5%8F%B0%E5%B0%84%E9%9C%87%E6%92%BC%E5%BD%88-2%E5%90%8D%E6%BC%81%E5%B7%A5%E5%8F%97%E5%82%B7-095032211.html\n",
      "https://tw.news.yahoo.com/%E8%A2%AB%E6%8F%90%E9%86%92%E6%8D%B7%E9%81%8B%E5%85%A7%E4%B8%8D%E5%BE%97%E5%9A%BC%E5%8F%A3%E9%A6%99%E7%B3%96-%E7%94%B7%E5%AD%90%E6%9A%B4%E6%80%92-%E5%8F%AA%E6%98%AF%E5%90%AB%E8%91%97%E6%B2%92%E6%9C%89%E5%9A%BC-041333072.html\n",
      "https://tw.news.yahoo.com/%E7%96%91%E9%81%AD%E4%BA%BA%E7%B8%B1%E7%81%AB-%E5%8D%83%E8%90%AC%E8%B6%85%E8%B7%91%E7%87%92%E6%88%90%E5%BB%A2%E9%90%B5-122300016.html\n",
      "https://tw.news.yahoo.com/%E6%96%B0%E5%BE%B7%E9%87%8C%E6%9C%89%E6%AF%92%E6%B0%A3%E9%AB%94%E5%A4%96%E6%B4%A9-310%E5%90%8D%E5%AD%B8%E7%94%9F%E9%80%81%E9%86%AB-110126982.html\n",
      "https://tw.news.yahoo.com/%E9%A6%AC%E8%B7%AF%E6%BB%B2%E5%87%BA%E9%BB%91%E6%B2%B9%E5%AE%B3%E6%91%94%E8%BB%8A-%E5%87%B6%E6%89%8B%E6%98%AF%E4%B8%AD%E6%B2%B9-124300075.html\n",
      "https://tw.news.yahoo.com/%E9%A3%9F%E5%93%81%E5%BB%A0%E6%B6%89%E9%81%95%E6%B3%95%E8%A3%BD%E6%8A%97%E5%87%9D%E8%A1%80%E5%8A%91%E5%8E%9F%E6%96%99-%E7%96%91%E8%BC%B8%E5%BE%80%E5%A4%A7%E9%99%B8-095013665.html\n",
      "https://tw.news.yahoo.com/%E5%85%A7%E8%92%99%E5%8F%A4%E7%8F%BE%E8%A9%AD%E7%95%B0%E5%A4%A9%E6%B0%A3-%E9%99%8D%E4%B8%8B%E7%BD%95%E8%A6%8B%E4%BA%94%E6%9C%88%E9%9B%AA-085030370.html\n",
      "https://tw.news.yahoo.com/%E6%BE%8E%E6%B9%96%E6%B5%B7%E5%B7%A1%E6%9F%A5%E6%89%A3%E9%99%B8%E8%88%B9-%E9%96%8B5%E6%A7%8D%E6%89%93%E5%82%B72%E6%BC%81%E5%B7%A5%E9%80%BC%E5%B0%B1%E7%AF%84-021926780.html\n",
      "https://tw.news.yahoo.com/%E7%B7%AC%E7%94%B8%E7%A7%BB%E6%B0%91%E9%81%AD%E4%B8%9F%E5%8C%85-%E6%B3%B0%E8%AD%A6%E8%BF%BD%E7%B7%9D%E5%81%B7%E6%B8%A1%E9%9B%86%E5%9C%98-072000361.html\n",
      "https://tw.news.yahoo.com/lamigirls%E6%97%A5%E7%B3%BB%E6%87%89%E6%8F%B4-1-%E5%9C%96-150301690--mlb.html\n",
      "https://tw.news.yahoo.com/%E9%99%B8%E8%88%B9%E8%9B%87%E8%A1%8C%E6%8B%92%E6%AA%A2-%E6%BE%8E%E6%B5%B7%E5%B7%A1%E4%BE%9D%E6%B3%95%E4%BD%BF%E7%94%A8%E5%99%A8%E6%A2%B0-141231885.html\n",
      "https://tw.news.yahoo.com/%E9%81%BA%E5%82%B3%E6%80%A7%E9%BB%83%E6%96%91%E9%83%A8%E7%97%85%E8%AE%8A-%E5%AF%84%E6%9C%9B%E8%87%8D%E5%B8%B6%E8%A1%80-152900771.html\n",
      "https://tw.news.yahoo.com/yokoso%E6%A1%83%E7%8C%BF-%E7%90%83%E8%BF%B7%E6%97%A5%E7%B3%BB%E6%87%89%E6%8F%B4%E9%A2%A8-%E5%9C%96-145101820--mlb.html\n",
      "https://tw.news.yahoo.com/%E6%A1%83%E7%8C%BF%E5%B0%8D%E7%8D%85%E6%89%93%E5%87%BA%E7%81%AB%E6%B0%A3-%E5%85%A9%E5%BA%A6%E6%B8%85%E7%A9%BA%E6%9D%BF%E5%87%B3-1-%E5%9C%96-144301534--mlb.html\n",
      "https://tw.news.yahoo.com/%E6%B4%AA%E6%A6%AE%E5%AE%8F%E7%99%BB%E5%8F%B0%E9%96%8B%E5%94%B1-%E5%85%92%E5%A5%B3%E5%8A%A9%E9%99%A3%E6%BC%94%E5%87%BA-%E5%9C%96-142701449.html\n",
      "https://tw.news.yahoo.com/%E6%A1%83%E7%8C%BF%E9%83%AD%E5%9A%B4%E6%96%873%E5%88%86%E7%A0%B2-1-%E5%9C%96-135101325--mlb.html\n",
      "https://tw.news.yahoo.com/%E6%A1%83%E7%8C%BF%E5%B0%8D%E7%8D%85%E6%89%93%E5%87%BA%E7%81%AB%E6%B0%A3-%E5%85%A9%E5%BA%A6%E6%B8%85%E7%A9%BA%E6%9D%BF%E5%87%B3-3-%E5%9C%96-144301774--mlb.html\n",
      "https://tw.news.yahoo.com/%E6%A1%83%E7%8C%BF%E9%83%AD%E5%9A%B4%E6%96%873%E5%88%86%E7%A0%B2-2-%E5%9C%96-135101971--mlb.html\n",
      "https://tw.news.yahoo.com/%E9%B3%B3%E6%A2%A8%E5%A5%BD%E7%AD%8D%E5%AD%A3-%E9%97%9C%E5%BB%9F%E8%BE%A6%E6%A1%8C%E9%A5%97%E5%AE%A2-134300849.html\n",
      "https://tw.news.yahoo.com/%E6%B2%99%E9%9B%95%E5%9F%8E%E5%A0%A1%E7%B3%96%E6%9E%9C%E5%B1%8B-%E7%A6%8F%E9%9A%86%E6%B2%99%E9%9B%95%E8%97%9D%E8%A1%93%E5%AD%A3%E7%99%BB%E5%A0%B4-025915077.html\n",
      "https://tw.news.yahoo.com/lamigo%E6%A1%83%E7%8C%BF%E5%8B%9D%E7%B5%B1-2-%E5%9C%96-135101117--mlb.html\n",
      "https://tw.news.yahoo.com/%E6%BE%8E%E6%B9%96%E8%8A%B1%E7%81%AB%E7%AF%80%E7%A7%BB%E5%B8%AB%E5%90%89%E8%B2%9D%E6%96%BD%E6%94%BE-2-%E5%9C%96-134301841.html\n",
      "https://tw.news.yahoo.com/lamigo%E6%A1%83%E7%8C%BF%E5%8B%9D%E7%B5%B1-1-%E5%9C%96-135101723--mlb.html\n",
      "https://tw.news.yahoo.com/%E6%9E%9C%E9%99%80%E7%90%83%E5%A0%B4%E8%88%9E%E5%8F%B0%E5%8A%87%E8%B6%85%E6%8D%B7%E5%8A%8D%E8%81%96-2-%E5%9C%96-144301712--mlb.html\n",
      "https://tw.news.yahoo.com/%E9%80%B2%E4%BF%AE%E8%8B%A6%E8%AE%8022%E5%B9%B4-%E6%9D%91%E5%B9%B9%E4%BA%8B%E8%AE%8A%E6%A0%A1%E9%95%B7-051718476.html\n",
      "https://tw.news.yahoo.com/%E5%8D%A0%E5%9C%B02400%E5%9D%AA-%E4%B8%96%E5%A4%A7%E9%81%8B%E9%81%B8%E6%89%8B%E6%9D%91%E9%A4%90%E5%BB%B3%E6%9B%9D%E5%85%89-035917765.html\n"
     ]
    },
    {
     "name": "stdout",
     "output_type": "stream",
     "text": [
      "https://tw.news.yahoo.com/%E5%9C%8B%E9%9A%9B%E7%8D%85%E5%AD%90%E6%9C%83%E7%99%BE%E5%B9%B4%E7%99%BE-%E9%A8%8E%E5%87%BA%E5%85%AC%E7%9B%8A-134600430.html\n",
      "https://tw.news.yahoo.com/%E5%8F%B0%E5%8C%97%E6%91%A9%E5%A4%A9%E6%A8%93%E7%99%BB%E9%AB%98%E8%B3%BD-%E6%9F%AFp%E9%B3%B4%E6%A7%8D-160000776.html\n",
      "https://tw.news.yahoo.com/%E7%94%9F%E6%B6%AF%E9%A6%96%E5%8B%9D%E5%85%A5%E6%89%8B-%E6%9E%97%E6%A8%BA%E6%85%B6-%E5%AE%9A%E8%A6%81%E6%8A%95%E5%87%BA%E6%88%90%E7%B8%BE-%E5%9C%96-144301166--mlb.html\n",
      "https://tw.news.yahoo.com/%E9%86%AB%E8%B5%B7%E4%BE%86%E7%95%AB%E7%95%AB-3%E7%89%99%E9%86%AB%E5%B8%AB%E8%81%AF%E5%B1%95-134300499.html\n",
      "https://tw.news.yahoo.com/%E9%99%B8%E7%94%B7%E6%92%BF%E5%88%B0%E5%8D%83%E9%A4%98%E5%85%83%E7%B4%A22%E5%8D%83%E9%85%AC%E9%87%91-%E5%9C%A8%E9%99%B8%E4%B8%8D%E9%81%95%E6%B3%95-150031866.html\n",
      "https://tw.news.yahoo.com/%E6%A1%83%E7%8C%BF%E6%97%A5%E6%9C%AC%E9%A2%A8%E4%B8%BB%E9%A1%8C%E6%97%A5-%E5%85%A8%E7%8C%BF%E4%B8%BB%E5%A0%B4%E7%8E%A9%E6%89%AD%E8%9B%8B-1-%E5%9C%96-144301702--mlb.html\n",
      "https://tw.news.yahoo.com/%E8%A8%AA%E6%B2%99%E5%B4%99%E7%B6%A0%E8%83%BD%E7%A7%91%E5%AD%B8%E5%9F%8E-%E6%9E%97%E5%85%A8%E7%9B%BC%E5%81%9A%E5%87%BA%E6%88%90%E6%9E%9C-043618083.html\n",
      "https://tw.news.yahoo.com/%E6%9E%9C%E9%99%80%E7%90%83%E5%A0%B4%E8%88%9E%E5%8F%B0%E5%8A%87%E8%B6%85%E6%8D%B7%E5%8A%8D%E8%81%96-1-%E5%9C%96-144301647--mlb.html\n",
      "https://tw.news.yahoo.com/%E6%A1%83%E7%8C%BF%E5%B0%8D%E7%8D%85%E6%89%93%E5%87%BA%E7%81%AB%E6%B0%A3-%E5%85%A9%E5%BA%A6%E6%B8%85%E7%A9%BA%E6%9D%BF%E5%87%B3-2-%E5%9C%96-144301662--mlb.html\n",
      "https://tw.news.yahoo.com/%E7%8E%8B%E6%9F%8F%E8%9E%8D%E5%96%AE%E5%A0%B45%E5%AE%89-%E8%BA%8D%E5%B1%85%E6%89%93%E6%93%8A%E7%8E%8B-140130832--mlb.html\n",
      "https://tw.news.yahoo.com/%E9%84%A7%E9%BA%97%E5%90%9B%E5%96%8A%E5%A5%BD%E4%B9%85%E4%B8%8D%E8%A6%8B-%E8%99%9B%E6%93%AC%E4%BA%BA%E7%A7%91%E6%8A%80%E5%86%8D%E9%80%A0%E9%A9%9A%E5%A5%87-134330391.html\n",
      "https://tw.news.yahoo.com/yokoso%E6%A1%83%E7%8C%BF-%E8%88%87%E6%97%A5%E6%9C%AC%E7%81%AB%E8%85%BF%E9%9A%8A%E5%90%89%E7%A5%A5%E7%89%A9%E4%BA%92%E5%8B%95-%E5%9C%96-145101566--mlb.html\n",
      "https://tw.news.yahoo.com/%E6%AB%BB%E6%A1%83%E5%B0%8F%E4%B8%B8%E5%AD%90%E7%82%BA%E8%81%B7%E6%A3%92%E9%96%8B%E7%90%83-1-%E5%9C%96-142701819--mlb.html\n",
      "https://tw.news.yahoo.com/lamigirls%E6%97%A5%E7%B3%BB%E6%87%89%E6%8F%B4-2-%E5%9C%96-150301425--mlb.html\n",
      "https://tw.news.yahoo.com/%E9%AB%98%E7%A2%A9%E6%B3%B0%E6%8A%95%E6%9B%B8%E8%8F%AF%E6%99%82%E7%B1%B2%E7%B4%8D%E5%8F%B0%E5%8F%83%E8%88%87wha-160000636.html\n",
      "https://tw.news.yahoo.com/%E9%81%A0%E8%88%AA%E7%A9%BA%E6%9C%8D%E8%AB%8B%E5%81%87-%E8%88%AA%E7%8F%AD%E5%96%8A%E5%8D%A1-160000799.html\n",
      "https://tw.news.yahoo.com/%E6%BE%8E%E6%B9%96%E8%8A%B1%E7%81%AB%E7%AF%80%E7%A7%BB%E5%B8%AB%E5%90%89%E8%B2%9D%E6%96%BD%E6%94%BE-1-%E5%9C%96-134301040.html\n",
      "https://tw.news.yahoo.com/%E6%A1%83%E7%8C%BF%E6%97%A5%E6%9C%AC%E9%A2%A8%E4%B8%BB%E9%A1%8C%E6%97%A5-%E5%85%A8%E7%8C%BF%E4%B8%BB%E5%A0%B4%E7%8E%A9%E6%89%AD%E8%9B%8B-2-%E5%9C%96-144301440--mlb.html\n",
      "https://tw.news.yahoo.com/%E9%87%91%E9%96%80-%E6%B9%96%E5%8F%A3-%E6%B2%99%E9%B9%BF%E5%8F%8A%E9%9B%B2%E5%98%89%E5%8D%97%E6%A9%98%E8%89%B2%E6%8F%90%E9%86%92-024012353.html\n",
      "https://tw.news.yahoo.com/%E4%B8%AD%E4%BF%A1%E5%85%84%E5%BC%9F%E6%9B%BE%E9%99%B6%E9%8E%942%E5%A0%B45%E8%BD%9F%E7%A0%B4%E7%B4%80%E9%8C%84-%E5%9C%96-142701320.html\n",
      "https://tw.news.yahoo.com/%E9%A3%9F%E5%93%81%E5%BB%A0%E7%96%91%E8%A3%BD%E6%8A%97%E5%87%9D%E8%A1%80%E5%8A%91%E5%8E%9F%E6%96%99%E6%AA%A2%E8%AA%BF%E5%B0%87%E6%9F%A5-160000725.html\n",
      "https://tw.news.yahoo.com/%E5%A4%A7%E5%AD%B8%E6%95%99%E5%B8%AB%E8%BB%8A%E7%A6%8D%E9%81%8E%E4%B8%96-%E5%AE%B6%E4%BA%BA%E6%8D%90%E8%82%A1%E7%A5%A8%E9%81%BA%E6%84%9B-010413237.html\n",
      "https://tw.news.yahoo.com/%E6%A1%83%E7%8C%BF%E8%88%87%E7%8D%85%E6%89%93%E5%87%BA%E7%81%AB%E6%B0%A3-%E5%85%A9%E5%BA%A6%E6%B8%85%E7%A9%BA%E6%9D%BF%E5%87%B3-133429280--mlb.html\n",
      "https://tw.news.yahoo.com/%E6%94%BF%E9%99%A2-%E6%8E%A8%E5%8B%95%E5%B9%B4%E6%94%B9%E7%B5%95%E4%B8%8D%E5%8B%95%E6%90%96-160000837.html\n",
      "https://tw.news.yahoo.com/%E7%8E%8B%E6%9F%8F%E8%9E%8D%E5%96%AE%E5%A0%B45%E5%AE%89-%E8%BA%8D%E5%B1%85%E4%B8%AD%E8%81%B7%E6%89%93%E6%93%8A%E7%8E%8B-%E5%9C%96-144301870--mlb.html\n",
      "https://tw.news.yahoo.com/%E6%AB%BB%E6%A1%83%E5%B0%8F%E4%B8%B8%E5%AD%90%E7%82%BA%E8%81%B7%E6%A3%92%E9%96%8B%E7%90%83-2-%E5%9C%96-142701639--mlb.html\n",
      "https://tw.news.yahoo.com/%E4%B8%AD%E5%9C%8B%E6%8E%A7%E7%84%A1%E7%AB%AF%E6%8A%93%E6%89%A3%E9%99%B8%E8%88%B9-%E6%B5%B7%E5%B7%A1%E7%BD%B2-%E5%9A%B4%E6%AD%A3%E5%9F%B7%E6%B3%95-142031521.html\n",
      "https://tw.news.yahoo.com/%E5%B8%83%E9%AD%AF%E6%96%AF%E6%9C%9F%E6%9C%AB%E8%80%83%E8%8B%A5%E5%A4%B1%E5%88%A9-%E6%A9%9F%E6%9C%83%E5%B0%87%E8%AE%93%E6%9C%AC%E5%9C%9F%E6%8A%95%E6%89%8B-%E5%9C%96-135101227--mlb.html\n",
      "https://tw.news.yahoo.com/%E6%9D%B1%E5%8D%80%E6%89%B6%E8%BC%AA%E7%A4%BE50%E6%AD%B2-%E9%97%9C%E6%87%B7%E5%B0%8F%E5%85%92%E9%BA%BB%E7%97%BA%E6%82%A3-134700369.html\n",
      "https://tw.news.yahoo.com/%E5%8C%97%E6%8A%95%E5%B8%82%E5%A0%B4%E7%A9%BA%E8%AA%BF%E6%95%85%E9%9A%9C-%E5%8C%97%E5%B8%82%E5%BA%9C-%E6%9C%88%E5%BA%95%E4%BF%AE%E5%BE%A9-024815860.html\n",
      "https://tw.news.yahoo.com/yokoso%E6%A1%83%E7%8C%BF-%E7%B2%89%E8%89%B2%E6%B0%A3%E7%90%83%E5%8D%87%E7%A9%BA-%E5%9C%96-142701397--mlb.html\n",
      "https://tw.news.yahoo.com/%E5%8F%B0%E5%B9%A3%E5%BC%B7%E5%8D%87%E5%87%BA%E5%8F%A3%E4%BA%AE%E9%BA%97%E5%AD%98%E9%9A%B1%E6%86%82-160000815.html\n",
      "https://tw.news.yahoo.com/%E5%91%82%E7%A7%80%E8%93%AE%E5%B8%8C%E6%9C%9B%E9%96%80%E6%AA%BB%E9%99%8D-%E5%92%8C%E5%B9%B3%E4%B8%AD%E7%AB%8B%E5%85%AC%E6%8A%95%E6%8B%9A%E9%81%8E%E9%97%9C-135030990.html\n",
      "https://tw.news.yahoo.com/%E5%8F%B0%E4%B8%89%E7%B7%9A%E6%B5%AA%E6%BC%AB%E6%97%85%E9%81%8A-%E6%96%B0%E5%8A%A0%E5%9D%A1%E9%81%8A%E5%AE%A2%E9%AB%94%E9%A9%97%E5%AE%A2%E5%AE%B6%E6%96%87%E5%8C%96-172028004.html\n",
      "https://tw.news.yahoo.com/%E5%85%A9%E5%B2%B8%E5%B0%91%E5%85%92%E7%BE%8E%E8%A1%93%E5%A4%A7%E5%B1%95-%E5%8F%B0%E5%8C%97%E9%A6%96%E5%A0%B4%E6%8F%AD%E5%B9%95-%E5%9C%96-151101549.html\n",
      "https://tw.news.yahoo.com/lamigirls%E6%97%A5%E7%B3%BB%E6%87%89%E6%8F%B4-3-%E5%9C%96-150301954--mlb.html\n",
      "https://tw.news.yahoo.com/%E5%B7%A5%E6%9C%83-%E8%A1%8C%E4%BD%BF%E6%AD%A3%E7%95%B6%E6%AC%8A%E5%88%A9-%E5%85%AC%E5%8F%B8%E4%B8%8D%E5%BE%97%E6%87%B2%E8%99%95-160000595.html\n",
      "https://tw.news.yahoo.com/%E6%BE%8E%E6%B9%96%E8%8A%B1%E7%81%AB%E7%AF%80%E7%A7%BB%E5%B8%AB%E5%90%89%E8%B2%9D%E6%96%BD%E6%94%BE-3-%E5%9C%96-134301417.html\n",
      "https://tw.news.yahoo.com/yokoso%E6%A1%83%E7%8C%BF-%E5%A4%A7%E7%8E%8B%E5%BE%A1%E5%AE%88-%E5%9C%96-145101831--mlb.html\n",
      "https://tw.news.yahoo.com/%E9%A0%AD%E5%89%8D%E6%BA%AA%E5%A4%A7%E6%8E%92%E8%AE%8A%E6%BB%BF%E6%B1%9F%E7%B4%85-%E7%96%91%E5%9C%B0%E4%B8%8B%E5%B7%A5%E5%BB%A0%E5%81%B7%E6%8E%92%E5%BB%A2%E6%B0%B4-062033842.html\n",
      "https://tw.news.yahoo.com/%E7%A4%A6%E5%B7%A5%E5%85%92%E5%AD%90%E5%9F%BA%E9%87%91%E6%9C%83-%E9%82%8065%E5%AE%B6%E8%82%B2%E5%B9%BC%E9%99%A2%E5%85%92%E7%AB%A5%E7%A7%80%E6%89%8D%E8%97%9D-172028494.html\n",
      "https://tw.news.yahoo.com/%E6%A1%83%E5%9C%92a8%E8%97%9D%E6%96%87%E4%B8%AD%E5%BF%83%E5%95%9F%E7%94%A8-%E9%84%AD%E5%B8%82%E9%95%B7-%E5%B1%95%E7%8F%BE%E5%9C%B0%E6%96%B9%E4%BA%BA%E6%96%87%E7%89%B9%E8%89%B2-025800719.html\n",
      "https://tw.news.yahoo.com/%E5%8F%97%E5%88%91%E4%BA%BA-%E8%82%9D%E6%B2%BB%E7%99%92%E7%8E%87%E9%80%BE9%E6%88%90-153000955.html\n",
      "https://tw.news.yahoo.com/%E5%8A%A0%E5%BC%B7%E7%81%8C%E6%BA%89%E7%AF%80%E6%B0%B4-%E5%8D%97%E6%B0%B4%E5%B1%80%E6%8E%A8%E6%B0%B4%E8%B3%87%E6%BA%90%E6%99%BA%E6%85%A7%E7%AE%A1%E7%90%86-013814253.html\n",
      "https://tw.news.yahoo.com/%E6%96%87%E5%9C%A8%E5%AF%85%E5%B1%A5%E8%A1%8C%E6%89%BF%E8%AB%BE-%E5%BC%98%E5%A4%A7%E8%A1%97%E9%A0%AD%E8%88%87%E6%94%AF%E6%8C%81%E8%80%85%E7%9B%B8%E6%93%81-132629833.html\n",
      "https://tw.news.yahoo.com/%E6%96%87%E5%9C%A8%E5%AF%85%E5%B1%A5%E8%A1%8C%E6%89%BF%E8%AB%BE-%E5%BC%98%E5%A4%A7%E8%A1%97%E9%A0%AD%E8%88%87%E4%BD%A0%E7%9B%B8%E6%93%81-%E5%9C%96-144301673.html\n",
      "https://tw.news.yahoo.com/%E5%95%86%E8%A8%8E%E5%85%B1%E5%90%8C%E9%97%9C%E5%88%87%E8%AD%B0%E9%A1%8C-%E4%B8%AD%E6%97%A5%E9%87%91%E8%9E%8D%E5%B0%8D%E8%A9%B1%E5%B0%87%E7%99%BB%E5%A0%B4-044900263.html\n",
      "https://tw.news.yahoo.com/%E6%97%A5%E8%B2%A1%E7%9B%B8%E4%BA%9E%E9%8A%80%E5%B9%B4%E6%9C%83%E7%99%BC%E8%A8%80-%E5%85%81%E6%8D%904000%E8%90%AC%E7%BE%8E%E5%85%83-%E5%9C%96-131101017.html\n",
      "https://tw.news.yahoo.com/%E5%B7%9D%E6%99%AE%E6%9C%AA%E6%B1%BA%E5%AE%9A%E9%80%80%E5%87%BA%E5%B7%B4%E9%BB%8E%E5%8D%94%E5%AE%9A-%E7%BE%8E%E4%BB%8D%E5%B0%87%E5%87%BA%E5%B8%ADun%E6%B0%A3%E5%80%99%E6%9C%83%E8%AB%87-080700798.html\n"
     ]
    },
    {
     "name": "stdout",
     "output_type": "stream",
     "text": [
      "https://tw.news.yahoo.com/%E8%94%A1%E7%B8%BD%E7%B5%B1-%E6%94%BF%E6%B2%BB%E5%8A%9B%E7%84%A1%E6%B3%95%E9%98%BB%E6%93%8B%E5%8F%B0%E7%81%A3%E8%BB%9F%E5%AF%A6%E5%8A%9B-043418772.html\n",
      "https://tw.news.yahoo.com/%E8%8F%B2%E5%9C%8B%E5%8D%97%E6%B5%B7%E4%B8%BB%E5%BC%B5%E9%9B%BB%E5%AD%90%E6%9B%B8-%E5%B0%87%E6%8E%A8%E5%87%BA%E4%B8%AD%E6%96%87%E7%89%88-103625641.html\n",
      "https://tw.news.yahoo.com/%E5%A4%96%E4%BA%A4%E9%83%A8%E8%A3%BD%E7%9F%AD%E7%89%87-%E5%85%A8%E7%90%83%E5%81%A5%E5%BA%B7%E9%9C%80%E5%8F%B0%E7%81%A3%E7%9B%BC%E5%8F%83%E8%88%87who-032000190.html\n",
      "https://tw.news.yahoo.com/%E8%8F%B2%E5%AA%92%E5%A0%B1%E5%B0%8E%E8%94%A1%E7%B8%BD%E7%B5%B1%E5%BC%B7%E8%AA%BF%E5%8F%B0%E7%81%A3%E6%87%89%E5%8F%83%E8%88%87%E5%8D%97%E6%B5%B7%E5%8D%94%E5%95%86-052319255.html\n",
      "https://tw.news.yahoo.com/%E8%87%BA%E7%81%A3%E8%8C%B6%E6%96%87%E5%8C%96%E7%99%BB%E4%B8%8A%E5%80%AB%E6%95%A6%E5%B7%A5%E8%97%9D%E9%80%B1-%E5%9C%8B%E9%9A%9B%E8%BF%B4%E9%9F%BF-081304978.html\n",
      "https://tw.news.yahoo.com/%E5%AE%8F%E7%A2%81%E9%9B%BB%E7%AB%B6%E7%94%A2%E5%93%81-%E7%8D%B2%E8%8B%B1%E7%89%B9%E7%88%BE%E6%A5%B5%E9%99%90%E9%AB%98%E6%89%8B%E7%9B%83%E9%9D%92%E7%9D%9E-030615941.html\n",
      "https://tw.news.yahoo.com/%E5%93%88%E7%91%AA%E6%96%AF%E6%96%B0%E6%94%BF%E7%AD%96%E5%B0%8D%E4%BB%A5%E8%BB%9F%E5%8C%96-%E8%81%96%E6%88%B0%E7%B5%84%E7%B9%94%E4%B8%8D%E6%8E%A5%E5%8F%97-142004105.html\n",
      "https://tw.news.yahoo.com/%E5%8C%97%E7%BE%8E%E6%9A%B4%E9%9B%A8%E6%88%90%E7%81%BD%E4%B9%9D%E6%AD%BB-%E5%8A%A0%E6%8B%BF%E5%A4%A7%E6%B4%AA%E7%81%BD%E9%80%BE%E5%8D%83%E4%BA%BA%E5%8F%97%E5%BD%B1%E9%9F%BF-105029448.html\n",
      "https://tw.news.yahoo.com/%E5%8D%B0%E5%AA%92-%E5%8C%97%E4%BA%AC%E4%B8%8D%E6%87%89%E5%8F%8D%E5%B0%8D%E6%96%B0%E5%8D%97%E5%90%91%E6%94%BF%E7%AD%96-094924353.html\n",
      "https://tw.news.yahoo.com/%E5%A4%96%E4%BA%A4%E6%94%BF%E7%AD%96-%E9%9B%B7%E6%9C%8B%E8%88%87%E9%A6%AC%E5%85%8B%E5%AE%8F%E5%85%A9%E4%BA%BA%E9%96%93%E6%9C%80%E5%A4%A7%E9%B4%BB%E6%BA%9D-060501335.html\n",
      "https://tw.news.yahoo.com/%E7%BE%8E%E5%9C%8B%E5%8F%B2%E4%B8%8A%E6%AD%B7%E6%99%82%E6%9C%80%E4%B9%85%E7%9A%84%E6%AD%A7%E8%A6%96%E6%B3%95%E6%A1%88-%E6%8E%92%E8%8F%AF%E6%B3%95%E6%A1%88-135%E5%91%A8%E5%B9%B4-%E5%9C%A8%E7%BE%8E%E8%8F%AF%E4%BA%BA%E7%9B%BC%E6%AD%A7%E8%A6%96%E4%B8%8D%E5%86%8D%E9%87%8D%E6%BC%94-130000864.html\n",
      "https://tw.news.yahoo.com/%E6%B8%AF%E6%B0%91%E4%B8%BB%E9%BB%A8%E5%8D%80%E8%AD%B0%E5%93%A1-%E9%81%AD%E7%A6%81%E5%85%A5%E5%A2%83%E6%BE%B3%E9%96%80-063720774.html\n",
      "https://tw.news.yahoo.com/%E8%8B%B1%E5%9C%B0%E6%96%B9%E8%AD%B0%E6%9C%83%E6%94%B9%E9%81%B8-%E6%A2%85%E4%BC%8A%E7%9A%84%E4%BF%9D%E5%AE%88%E9%BB%A8%E5%A4%A7%E5%8B%9D-070502298.html\n",
      "https://tw.news.yahoo.com/%E6%95%98%E5%88%A9%E4%BA%9E%E5%AE%89%E5%85%A8%E5%8D%80%E5%8D%94%E8%AD%B0%E7%94%9F%E6%95%88-%E7%A0%B2%E7%81%AB%E6%9A%AB%E6%AD%87-123504954.html\n",
      "https://tw.news.yahoo.com/%E5%8F%B0%E4%B8%89%E7%B7%9A%E6%B5%AA%E6%BC%AB%E6%97%85%E9%81%8A-%E6%96%B0%E5%8A%A0%E5%9D%A1%E9%81%8A%E5%AE%A2%E9%AB%94%E9%A9%97%E5%AE%A2%E5%AE%B6%E6%96%87%E5%8C%96-172028004.html\n",
      "https://tw.news.yahoo.com/cia%E5%AF%86%E8%AC%80%E6%9A%97%E6%AE%BA%E9%87%91%E6%AD%A3%E6%81%A9-%E9%9B%A3%E9%81%93%E8%A6%81%E5%90%8D%E5%98%B4%E5%87%BA%E4%BB%BB%E5%8B%99-045718957.html\n",
      "https://tw.news.yahoo.com/%E6%97%A5%E5%AA%92%E5%B0%88%E8%A8%AA-%E6%9E%97%E6%A6%AE%E5%9F%BA-%E6%BA%96%E5%82%99%E5%9C%A8%E5%8F%B0%E7%81%A3%E9%96%8B%E6%9B%B8%E5%BA%97-144231249.html\n",
      "https://tw.news.yahoo.com/%E5%8F%B0%E9%A7%90%E6%B8%AF%E6%A9%9F%E6%A7%8B%E6%AF%8D%E8%A6%AA%E7%AF%80%E5%9C%92%E9%81%8A%E6%9C%83-%E6%96%87%E5%89%B5%E7%BE%8E%E9%A3%9F%E9%AB%94%E9%A9%97-062320381.html\n",
      "https://tw.news.yahoo.com/pk%E7%B6%AD%E5%9F%BA-%E9%99%B8%E8%A6%81%E6%8E%A8%E5%87%BA%E8%87%AA%E5%B7%B1%E7%9A%84%E7%B6%B2%E8%B7%AF%E7%99%BE%E7%A7%91%E5%85%A8%E6%9B%B8-045418258.html\n",
      "https://tw.news.yahoo.com/%E6%BE%8E%E6%B9%96%E6%B5%B7%E5%B7%A1%E6%93%8A%E5%82%B7%E9%99%B8%E6%BC%81%E5%B7%A5-%E5%9C%8B%E5%8F%B0%E8%BE%A6-%E4%BB%A4%E4%BA%BA%E6%86%A4%E6%85%A8-102825861.html\n",
      "https://tw.news.yahoo.com/%E4%B8%AD%E5%9C%8B%E5%A4%A7%E9%99%B8%E9%87%91%E8%9E%8D%E5%8E%BB%E6%A7%93%E6%A1%BF-%E5%A4%96%E5%AA%92-%E8%A1%9D%E6%93%8A%E5%B8%82%E5%A0%B4-052419175.html\n",
      "https://tw.news.yahoo.com/%E7%A5%9E%E9%A0%90%E8%A8%80-%E6%96%87%E5%9C%A8%E5%AF%85%E8%BA%8D%E4%B8%8A%E6%99%82%E4%BB%A3%E9%9B%9C%E8%AA%8C%E5%B0%81%E9%9D%A2-184800067.html\n",
      "https://tw.news.yahoo.com/%E8%BF%8E%E5%A8%B6%E6%96%B0%E5%A8%98%E5%97%A8%E9%81%8E%E9%A0%AD-%E6%8E%A8%E6%96%B7%E6%AC%84%E6%9D%867%E4%BA%BA%E5%A2%9C%E6%A8%93-054600419.html\n",
      "https://tw.news.yahoo.com/%E6%9D%8E%E5%A4%A7%E7%B6%AD%E5%B7%B4%E6%8B%BF%E9%A6%AC%E8%A1%AB%E5%8F%97%E8%AE%9A%E8%B3%9E-%E5%9C%96-123501331.html\n",
      "https://tw.news.yahoo.com/%E5%B7%B4%E8%A5%BF%E7%9F%B3%E6%B2%B9%E8%B2%AA%E7%80%86%E6%A1%88-%E5%89%8D%E7%B8%BD%E7%B5%B1%E9%AD%AF%E6%8B%89%E8%A2%AB%E6%8E%A7%E8%97%8F%E9%8F%A1%E4%BA%BA-142003619.html\n",
      "https://tw.news.yahoo.com/%E4%B8%8D%E7%94%A9%E6%96%B0%E8%81%9E%E8%87%AA%E7%94%B1%E8%A9%95%E6%AF%94-%E4%B8%AD%E5%9C%8B%E9%A0%92%E5%B8%83%E6%96%B0%E6%B3%95%E7%9B%A3%E6%8E%A7%E7%B6%B2%E8%B7%AF%E5%AA%92%E9%AB%94-043100393.html\n",
      "https://tw.news.yahoo.com/%E9%A6%AC%E5%B0%BC%E6%8B%89%E5%86%8D%E5%82%B3%E7%88%86%E7%82%B8%E6%A1%88-%E8%87%B3%E5%B0%912%E6%AD%BB4%E5%82%B7-121228710.html\n",
      "https://tw.news.yahoo.com/%E6%A8%82%E6%96%BD%E6%9C%83-%E9%9D%9E%E6%B4%B2%E8%87%AA%E7%94%B1%E9%81%AD%E5%A3%93%E5%88%B6%E8%BF%AB%E4%BD%BF%E7%A7%BB%E6%B0%91%E5%87%BA%E8%B5%B0-041500128.html\n",
      "https://tw.news.yahoo.com/%E6%83%85%E4%BE%B6%E8%A2%AB%E6%94%94%E6%AA%A2%E9%80%BC%E8%B7%AA-%E7%AB%9F%E5%96%9C%E8%BF%8E-%E7%84%A1%E6%9C%9F%E5%BE%92%E5%88%91-135800538.html\n",
      "https://tw.news.yahoo.com/%E8%94%A1%E7%B8%BD%E7%B5%B1-%E5%8F%B0%E6%98%9F%E9%97%9C%E4%BF%82%E7%A9%A9%E5%AE%9A%E8%89%AF%E5%A5%BD-%E7%9B%BC%E6%9B%B4%E7%A9%8D%E6%A5%B5%E4%B8%BB%E5%8B%95-044218668.html\n",
      "https://tw.news.yahoo.com/%E6%95%98%E5%88%A9%E4%BA%9E%E5%AE%89%E5%85%A8%E5%8D%80%E5%8D%94%E8%AD%B0%E7%94%9F%E6%95%88-%E7%A0%B2%E7%81%AB%E6%9A%AB%E6%AD%87-122728508.html\n",
      "https://tw.news.yahoo.com/%E5%BC%B5%E5%8D%A1%E8%A2%AB%E7%9B%9C-1%E5%84%843500%E8%90%AC%E4%BA%BA%E5%80%8B%E8%B3%87%E8%A2%AB%E7%9C%8B%E5%85%89%E5%85%89-050152311.html\n",
      "https://tw.news.yahoo.com/%E5%8F%B0%E7%81%A3%E5%8F%AF%E4%BB%A5%E5%B9%AB%E5%8A%A9%E9%A6%99%E6%B8%AF%E7%A8%AE%E4%B8%8B%E6%96%B0%E6%80%9D%E6%83%B3%E7%9A%84%E7%A8%AE%E5%AD%90-%E9%8A%85%E9%91%BC%E7%81%A3%E6%9B%B8%E5%BA%97%E5%B0%87%E5%9C%A8%E5%8F%B0%E9%87%8D%E6%96%B0%E9%96%8B%E5%BC%B5-085000267.html\n",
      "https://tw.news.yahoo.com/%E6%8B%89%E7%BE%8E%E5%8A%A0%E5%8B%92%E6%AF%94%E6%B5%B7%E5%98%89%E5%B9%B4%E8%8F%AF-%E6%BC%94%E7%B9%B9%E5%82%B3%E7%B5%B1%E6%96%87%E5%8C%96%E8%97%9D%E8%A1%93-114527751.html\n",
      "https://tw.news.yahoo.com/%E6%96%87%E5%9C%A8%E5%AF%85%E7%AC%91%E9%80%90%E9%A1%8F%E9%96%8B%E6%84%9F%E8%AC%9D%E6%94%AF%E6%8C%81%E8%80%85-%E5%9C%96-144301699.html\n",
      "https://tw.news.yahoo.com/%E8%87%BA%E7%81%A3%E7%A0%94%E7%A9%B6%E8%AB%96%E6%96%87%E7%8D%8E%E5%AD%B8%E9%87%91-%E9%96%8B%E6%94%BE%E6%96%B0%E5%8A%A0%E5%9D%A1%E5%AD%B8%E7%94%9F%E7%94%B3%E8%AB%8B-034217002.html\n",
      "https://tw.news.yahoo.com/%E9%A6%AC%E5%85%8B%E5%AE%8F%E9%81%B8%E5%89%8D%E6%96%87%E4%BB%B6%E9%81%AD%E9%A7%AD%E5%A4%96%E6%B4%A9-%E6%B3%95%E9%81%B8%E5%A7%94%E6%9C%83%E8%AD%A6%E5%91%8A-115927628.html\n",
      "https://tw.news.yahoo.com/%E4%B8%96%E8%B6%8A%E8%99%9F%E8%88%B9%E9%AB%94%E6%B2%89%E6%B2%92%E6%B5%B7%E5%9F%9F%E7%99%BC%E7%8F%BE%E4%BA%BA%E9%AA%A8%E9%91%91%E5%AE%9A%E4%B8%AD-062642986.html\n",
      "https://tw.news.yahoo.com/%E5%8D%97%E9%9F%93%E5%A4%A7%E9%81%B8%E6%8F%90%E5%89%8D%E6%8A%95%E7%A5%A8%E7%B5%90%E6%9D%9F-1-4%E9%81%B8%E6%B0%91-%E8%B6%85%E9%81%8E%E5%8D%83%E8%90%AC%E4%BA%BA%E5%B7%B2%E6%90%B6%E5%85%88%E5%AE%8C%E6%88%90%E6%8A%95%E7%A5%A8-110600603.html\n",
      "https://tw.news.yahoo.com/%E6%B3%95%E5%9C%8B%E6%9C%83%E8%AD%B0%E5%93%A1%E7%82%BA%E9%A6%AC%E5%85%8B%E5%AE%8F%E7%AB%99%E5%8F%B0-%E6%98%8F%E5%80%92%E9%80%81%E9%86%AB%E4%B8%8D%E6%B2%BB-132004753.html\n",
      "https://tw.news.yahoo.com/%E4%B8%8A%E7%B6%B2%E8%B2%BC%E6%96%87%E8%A6%81%E6%9A%97%E6%AE%BA%E6%96%87%E5%9C%A8%E5%AF%85-%E7%94%B7%E5%AD%90%E8%87%AA%E9%A6%96-025915769.html\n",
      "https://tw.news.yahoo.com/%E9%9B%B7%E6%9C%8B%E9%A6%AC%E5%85%8B%E5%AE%8F%E5%AD%B0%E5%8B%9D-%E6%B3%95%E5%9C%8B%E5%A4%96%E4%BA%A4%E6%9C%83%E5%B7%AE%E5%BE%88%E5%A4%A7-054019749.html\n",
      "https://tw.news.yahoo.com/%E5%8D%97%E9%9F%93%E6%8A%92%E6%83%85%E6%AD%8C%E5%90%8E%E6%9D%8E%E6%81%A9%E7%BE%8E%E7%82%BA%E6%96%87%E5%9C%A8%E5%AF%85%E7%AB%99%E5%8F%B0-%E5%9C%96-144301194.html\n",
      "https://tw.news.yahoo.com/%E5%8C%97%E6%9C%9D%E9%AE%AE%E6%8E%A7cia%E8%88%87%E5%8D%97%E9%9F%93%E5%90%88%E4%BD%9C-%E4%BC%81%E5%9C%96%E6%9A%97%E6%AE%BA%E9%87%91%E6%AD%A3%E6%81%A9-042033780.html\n"
     ]
    },
    {
     "name": "stdout",
     "output_type": "stream",
     "text": [
      "https://tw.news.yahoo.com/%E7%BE%8E%E8%81%AF%E7%A4%BE-%E5%B0%88%E8%A8%AA-%E5%8B%92%E6%BD%98-%E7%84%A1%E8%AB%96%E5%8B%9D%E6%95%97-%E6%88%91%E6%94%B9%E8%AE%8A%E4%BA%86%E6%B3%95%E5%9C%8B-051000943.html\n",
      "https://tw.news.yahoo.com/c919%E5%8F%AA%E8%B2%A0%E8%B2%AC%E9%80%A0%E9%A3%9B%E6%A9%9F%E6%AE%BC-%E5%A4%A7%E9%99%B8%E9%80%99%E6%A8%A3%E5%9B%9E%E6%87%89-061419400--finance.html\n",
      "https://tw.news.yahoo.com/%E5%9C%A8%E5%8F%B0%E5%8C%97%E4%B9%9F%E5%8F%AF%E4%BB%A5%E7%92%B0%E9%81%8A%E6%AD%90%E6%B4%B2-16%E5%9C%8B-50%E5%80%8B%E6%94%A4%E4%BD%8D-%E4%BB%8A%E6%98%8E-%E5%90%8C%E6%AD%A1%E6%85%B6%E6%AD%90%E7%9B%9F%E7%94%9F%E6%97%A5%E8%B6%B4-044900328.html\n",
      "https://tw.news.yahoo.com/%E7%B4%90%E7%B4%84%E5%8C%86%E5%8C%86-%E6%9C%83-%E6%BE%B3%E7%B8%BD%E7%90%86-%E5%B7%9D%E6%99%AE%E5%BE%85%E4%BB%96%E5%A6%82%E5%AE%B6%E4%BA%BA-094924581.html\n",
      "https://tw.news.yahoo.com/%E8%94%A1%E7%B8%BD%E7%B5%B1-%E7%9B%BC%E5%8A%A0%E5%BC%B7%E8%88%87%E6%B3%B0%E5%9C%8B%E7%AD%89%E6%9D%B1%E5%8D%94%E5%9C%8B%E5%AE%B6%E4%BA%A4%E6%B5%81-083823700.html\n",
      "https://tw.news.yahoo.com/%E5%8D%B0%E5%BA%A6%E7%93%A6%E6%96%AF%E5%A4%96%E6%B4%A9-%E5%AD%B8%E7%94%9F%E7%96%8F%E6%95%A3%E7%99%BE%E4%BA%BA-30%E4%BA%BA%E9%80%81%E9%86%AB-063500866.html\n",
      "https://tw.news.yahoo.com/%E6%B3%95%E5%A4%A7%E9%81%B8%E6%98%8E%E7%99%BB%E5%A0%B4-%E5%82%B3%E9%A6%AC%E5%85%8B%E5%AE%8F%E9%99%A3%E7%87%9F%E9%81%AD%E9%A7%AD%E5%AE%A2%E5%85%A5%E4%BE%B5-062009432.html\n",
      "https://tw.news.yahoo.com/%E6%B3%95%E5%9C%8B%E5%A4%A7%E9%81%B8%E5%89%8D%E5%A4%95-%E9%A6%AC%E5%85%8B%E5%AE%8F%E5%9C%98%E9%9A%8A%E9%81%AD%E9%A7%AD%E5%AE%A2%E5%85%A5%E4%BE%B5-9gb%E5%85%A7%E9%83%A8%E4%BF%A1%E4%BB%B6%E5%85%A8%E4%B8%8A%E7%B6%B2-061000271.html\n",
      "https://tw.news.yahoo.com/%E6%B2%99%E5%A1%B5%E6%9A%B4%E6%89%8D%E8%B5%B0-%E5%8C%97%E4%BA%AC%E5%8F%88%E7%99%BC%E5%A4%A7%E9%A2%A8%E9%A0%90%E8%AD%A6-042417910.html\n",
      "https://tw.news.yahoo.com/%E6%96%87%E5%9C%A8%E5%AF%85%E5%BC%98%E5%A4%A7%E8%A1%97%E9%A0%AD%E8%88%87%E4%BD%A0free-hug%E4%B8%A6%E9%BD%8A%E6%AD%A1%E5%94%B1-%E5%9C%96-144301741.html\n",
      "https://tw.news.yahoo.com/%E6%BD%98%E5%9F%BA%E6%96%87-%E9%9F%93%E6%96%B0%E6%94%BF%E5%BA%9C%E9%A6%96%E8%A6%81%E8%AA%B2%E9%A1%8C%E6%98%AF%E8%A7%A3%E6%B1%BA%E5%8C%97%E6%A0%B8%E5%95%8F%E9%A1%8C-073059812.html\n",
      "https://tw.news.yahoo.com/%E7%86%B1%E9%8C%A2%E6%8E%A8%E5%8D%87%E5%8F%B0%E5%B9%A3-%E8%AC%9D%E9%87%91%E6%B2%B3-%E4%BC%81%E6%A5%AD%E5%90%9E%E8%8B%A6%E8%8E%AB%E5%8F%AF%E5%A5%88%E4%BD%95-084523427.html\n",
      "https://tw.news.yahoo.com/%E6%B3%95%E5%9C%8B%E6%96%B0%E8%A6%8F%E4%B8%8A%E8%B7%AF-%E8%B7%9F%E7%B4%99%E7%89%87%E4%BA%BA%E6%A8%A1%E7%89%B9%E5%85%92%E8%AA%AA%E6%8E%B0-153232455.html\n",
      "https://tw.news.yahoo.com/bbc%E5%A6%99%E8%81%9E-%E8%80%83%E7%94%9F%E5%A2%9E%E5%BC%B7%E8%A8%98%E6%86%B6-%E8%81%9E%E8%BF%B7%E8%BF%AD%E9%A6%99%E6%9C%89%E5%B9%AB%E5%8A%A9-050518528.html\n",
      "https://tw.news.yahoo.com/%E6%B3%95%E5%9C%8B%E7%B8%BD%E7%B5%B1%E9%81%B8%E6%83%85%E6%88%B2%E5%8A%87%E5%8C%96-%E7%BA%8F%E9%AC%A5%E6%95%B8%E5%9B%9E%E6%84%88%E8%B6%A8%E6%98%8E%E6%9C%97-025517411.html\n",
      "https://tw.news.yahoo.com/%E7%BE%8E%E4%BF%84%E5%A4%96%E9%95%B7%E8%A8%8E%E8%AB%96%E6%95%98%E5%88%A9%E4%BA%9E%E8%A1%9D%E7%AA%81%E5%95%8F%E9%A1%8C-033501258.html\n",
      "https://tw.news.yahoo.com/%E9%99%B8%E5%9C%8B%E4%BC%81%E6%93%AC%E6%94%B6%E8%B3%BC%E7%B7%AC%E7%94%B8%E7%9A%8E%E6%BC%82%E6%B8%AF-%E7%94%A8%E4%BE%86%E8%BC%B8%E5%85%A5%E7%9F%B3%E6%B2%B9-095325494.html\n",
      "https://tw.news.yahoo.com/%E7%BE%8E%E5%9C%8B%E6%9D%B1%E5%8D%94%E5%A4%96%E9%95%B7%E6%9C%83%E8%AD%B0-%E8%B6%8A%E5%8D%97%E6%86%82%E5%8D%97%E6%B5%B7%E5%B1%80%E5%8B%A2-050718623.html\n",
      "https://tw.news.yahoo.com/%E8%94%A1%E7%B8%BD%E7%B5%B1%E5%96%8A%E8%A9%B1%E5%8F%83%E8%88%87%E5%8D%97%E6%B5%B7%E5%8D%94%E5%95%86-%E8%8F%B2%E6%A8%A1%E7%B3%8A%E5%9B%9E%E6%87%89-130029136.html\n",
      "https://tw.news.yahoo.com/%E5%8F%B0%E5%A6%B9%E5%97%86-%E6%88%91%E5%BE%88%E6%9C%89%E9%8C%A2-%E9%86%89%E6%AF%86%E6%98%9F%E5%9C%8B%E9%81%8B%E5%B0%87-135700965.html\n",
      "https://tw.news.yahoo.com/%E7%A7%80%E8%82%8C%E8%82%89-%E9%99%B8%E6%9C%80%E5%A4%A7%E6%B5%B7%E8%AD%A6%E8%88%B9%E9%A6%96%E5%B7%A1%E5%8D%97%E6%B5%B7%E7%99%BB15%E5%B3%B6-135230164.html\n",
      "https://tw.news.yahoo.com/%E6%88%91%E6%B5%B7%E5%B7%A1%E9%9A%8A%E6%93%8A%E5%82%B7%E4%B8%AD%E5%9C%8B%E6%BC%81%E6%B0%91-%E5%9C%8B%E5%8F%B0%E8%BE%A6%E7%99%BC%E8%A8%80%E4%BA%BA-%E4%BB%A4%E4%BA%BA%E6%86%A4%E6%85%A8-%E5%8F%B0%E6%96%B9%E6%87%89%E7%AB%8B%E5%8D%B3%E5%9A%B4%E8%82%85%E6%9F%A5%E8%99%95-120000526.html\n",
      "https://tw.news.yahoo.com/8-075910965.html\n",
      "https://tw.news.yahoo.com/%E8%94%A1%E7%B8%BD%E7%B5%B1-%E5%8D%B0%E5%B0%BC%E7%A7%BB%E5%B7%A5%E5%B0%8D%E5%8F%B0%E7%B6%93%E6%BF%9F%E7%99%BC%E5%B1%95%E8%B2%A2%E7%8D%BB%E7%84%A1%E5%83%B9-082722897.html\n",
      "https://tw.news.yahoo.com/%E8%94%A1%E7%B8%BD%E7%B5%B1-%E6%96%B0%E5%8A%A0%E5%9D%A1%E5%8F%AF%E4%BB%A5%E5%8D%94%E5%8A%A9%E5%8F%B0%E7%81%A3%E6%9B%B4%E7%9E%AD%E8%A7%A3%E6%9D%B1%E5%8D%94-064120507.html\n",
      "https://tw.news.yahoo.com/%E5%8F%B0%E8%83%9E%E8%AD%89%E8%87%AA%E5%8A%A9%E5%A0%B1%E5%88%B0-%E9%99%B8%E6%A9%9F%E5%A0%B4%E5%8D%87%E7%B4%9A%E5%8D%83%E5%8F%B0%E6%A9%9F%E5%99%A8-121328495.html\n",
      "https://tw.news.yahoo.com/%E6%93%8B%E4%B8%8D%E4%BD%8F%E7%9A%84%E5%91%B3%E8%95%BE%E8%AA%98%E6%83%91-%E5%8F%B0%E7%81%A3%E8%8C%B6%E8%B5%B4%E5%80%AB%E6%95%A6pk%E8%A5%BF%E6%96%B9%E7%B4%85%E8%8C%B6-064101888.html\n",
      "https://tw.news.yahoo.com/%E7%A5%9D%E6%AD%90%E7%9B%9F%E7%94%9F%E6%97%A5%E5%BF%AB%E6%A8%82-%E6%AD%90%E6%B4%B2%E8%BE%A6%E4%BA%8B%E8%99%95%E8%BE%A6%E6%AD%90%E6%B4%B2%E7%AF%80-102425874.html\n",
      "https://tw.news.yahoo.com/%E9%A6%AC%E5%85%8B%E5%AE%8F%E9%81%B8%E5%89%8D%E6%96%87%E4%BB%B6%E9%81%AD%E9%A7%AD%E5%A4%96%E6%B4%A9-%E6%B3%95%E9%81%B8%E5%A7%94%E6%9C%83%E8%AD%A6%E5%91%8A-123502292.html\n",
      "https://tw.news.yahoo.com/%E6%B3%95%E5%9C%8B%E6%9C%83%E8%AD%B0%E5%93%A1%E7%82%BA%E9%A6%AC%E5%85%8B%E5%AE%8F%E7%AB%99%E5%8F%B0-%E6%98%8F%E5%80%92%E9%80%81%E9%86%AB%E4%B8%8D%E6%B2%BB-130729628.html\n",
      "https://tw.news.yahoo.com/%E5%8F%83%E7%85%A7%E9%99%B8%E6%B0%91%E5%BE%85%E9%81%87-%E9%99%B8%E7%A4%BE%E7%A7%91%E5%9F%BA%E9%87%91%E9%96%8B%E6%94%BE%E5%8F%B0%E4%BA%BA%E7%94%B3%E5%A0%B1-073221047.html\n",
      "https://tw.news.yahoo.com/%E5%8D%B0%E5%BA%A6%E6%94%BF%E5%BA%9C%E9%81%AD%E9%A7%AD-1-35%E5%84%84%E4%BA%BA%E8%B3%87%E6%96%99%E5%A4%96%E6%B4%A9-032216010.html\n",
      "https://tw.news.yahoo.com/%E7%82%BA%E6%A0%B8%E8%A9%A6%E9%A9%97%E6%89%BE%E8%97%89%E5%8F%A3-%E5%8C%97%E9%9F%93%E5%AE%98%E6%96%B9%E6%8E%A7%E8%A8%B4%E7%BE%8E%E9%9F%93%E5%AF%86%E8%AC%80%E8%AC%80%E6%AE%BA%E9%87%91%E6%AD%A3%E6%81%A9-031000501.html\n",
      "https://tw.news.yahoo.com/%E5%A7%94%E5%85%A7%E7%91%9E%E6%8B%89%E5%8B%95%E4%BA%82%E8%87%B3%E5%B0%9136%E6%AD%BB-%E9%83%A8%E5%88%86%E5%9F%8E%E5%B8%82%E6%90%B6%E5%8A%AB%E9%A0%BB%E5%82%B3-032002903.html\n",
      "https://tw.news.yahoo.com/%E8%8B%B1%E5%9C%8B%E5%9C%B0%E6%96%B9%E9%81%B8%E8%88%89-%E6%A2%85%E4%BC%8A%E6%89%80%E5%B1%AC%E4%BF%9D%E5%AE%88%E9%BB%A8%E5%A4%A7%E7%8D%B2%E5%85%A8%E5%8B%9D-082025479.html\n",
      "https://tw.news.yahoo.com/%E6%B3%95%E7%B8%BD%E7%B5%B1%E5%A4%A7%E9%81%B8%E5%89%8D%E5%A4%95-%E4%BF%84%E7%BE%85%E6%96%AF%E9%99%B0%E5%BD%B1%E5%A3%9F%E7%BD%A9-035632387.html\n",
      "https://tw.news.yahoo.com/-082910669.html\n",
      "https://tw.news.yahoo.com/%E6%B3%95%E5%9C%8B%E5%A4%A7%E9%81%B8%E5%89%8D%E5%A4%95-%E9%A6%AC%E5%85%8B%E5%AE%8F%E5%9C%98%E9%9A%8A%E9%81%AD%E9%A7%AD%E5%AE%A2%E5%85%A5%E4%BE%B5-9gb%E5%85%A7%E9%83%A8%E6%A9%9F%E5%AF%86%E6%96%87%E4%BB%B6%E5%85%A8%E4%B8%8A%E7%B6%B2-073120820.html\n",
      "https://tw.news.yahoo.com/%E6%B3%95%E5%A4%A7%E9%81%B8%E6%9C%80%E5%BE%8C%E6%B0%91%E8%AA%BF-%E9%9B%B7%E6%9C%8B%E6%90%9E%E7%A0%B8%E8%BE%AF%E8%AB%96%E5%86%8D%E5%A4%B1%E5%88%86-%E5%9C%96-054300313.html\n",
      "https://tw.news.yahoo.com/%E4%BA%9E%E9%8A%80-%E5%8D%80%E5%9F%9F%E6%88%90%E9%95%B7%E5%8A%A0%E9%80%9F%E6%9C%89%E5%8A%A9%E5%A1%AB%E8%A3%9C%E9%99%B8%E6%B8%9B%E9%80%9F%E7%BC%BA%E5%8F%A3-120828701.html\n",
      "https://tw.news.yahoo.com/%E9%99%B8%E5%AA%92-%E6%B1%9F%E6%BE%A4%E6%B0%91%E9%80%81%E8%8A%B1%E5%9C%88%E5%93%80%E6%82%BC%E8%80%81%E5%90%8C%E4%BA%8B-025015477.html\n",
      "https://tw.news.yahoo.com/c919%E5%89%9B%E5%8D%87%E7%A9%BA-c929%E5%B7%B2%E9%96%8B%E5%A7%8B%E7%A0%94%E8%A3%BD-070621637--finance.html\n",
      "https://tw.news.yahoo.com/%E9%A6%AC%E5%B0%BC%E6%8B%89%E9%80%A3%E7%92%B0%E7%88%86-%E8%AD%A6%E6%96%B9%E7%A0%94%E5%88%A4%E7%96%91%E5%AE%B6%E6%97%8F%E7%81%AB%E6%8B%9A-133730805.html\n",
      "https://tw.news.yahoo.com/%E5%A4%8F%E5%AD%A3%E6%97%85%E5%B1%95%E7%AC%AC2%E5%A4%A9-%E6%97%A5%E6%9C%AC%E8%B2%B7%E6%B0%A3%E4%BE%9D%E8%88%8A%E6%97%BA-104926269.html\n"
     ]
    },
    {
     "name": "stdout",
     "output_type": "stream",
     "text": [
      "https://tw.news.yahoo.com/%E9%99%B8%E6%97%A5%E9%87%91%E8%9E%8D%E5%B0%8D%E8%A9%B1-%E5%95%86%E4%BF%9D%E8%AD%B7%E4%B8%BB%E7%BE%A9%E5%92%8C%E5%8C%97%E9%9F%93%E7%AD%89%E9%A2%A8%E9%9A%AA-060219777.html\n",
      "https://tw.news.yahoo.com/%E5%A7%94%E5%85%A7%E7%91%9E%E6%8B%89%E5%8B%95%E4%BA%82%E5%A2%9E%E8%87%B3%E9%80%BE36%E6%AD%BB-%E6%90%B6%E5%8A%AB%E5%9B%9B%E8%B5%B7-030115166.html\n",
      "https://tw.news.yahoo.com/%E6%B3%95%E5%9C%8B%E6%96%B0%E8%A6%8F%E4%B8%8A%E8%B7%AF-%E8%B7%9F%E7%B4%99%E7%89%87%E4%BA%BA%E6%A8%A1%E7%89%B9%E5%85%92%E8%AA%AA%E6%8E%B0-155002264.html\n",
      "https://tw.news.yahoo.com/%E4%BA%BA%E9%81%93%E8%80%83%E9%87%8F-%E5%9F%83%E5%8F%8A%E9%87%8D%E9%96%8B%E6%8B%89%E6%B3%95%E7%A9%BF%E8%B6%8A%E7%AB%993%E5%A4%A9-143502824.html\n",
      "https://tw.news.yahoo.com/%E5%86%92%E5%85%85%E8%AD%A6%E5%AF%9F%E8%A1%8C%E9%A8%99%E7%99%BE%E8%90%AC-%E5%8F%B0%E7%94%B7%E6%96%B0%E5%8A%A0%E5%9D%A1%E8%A2%AB%E9%80%AE-133729724.html\n",
      "https://tw.news.yahoo.com/%E9%99%B8%E5%BC%95%E9%80%B2%E8%98%87%E6%84%B735-%E5%88%86%E6%9E%90-%E6%AA%A2%E9%A9%97%E6%AE%B220%E6%80%A7%E8%83%BD-082622910.html\n",
      "https://tw.news.yahoo.com/%E9%A0%AD-%E9%81%AD-%E6%B8%AF%E4%BA%A4%E6%89%80%E6%8E%A8%E9%9B%99%E5%B9%A3%E8%A8%88%E5%83%B9%E9%BB%83%E9%87%91%E5%AF%A6%E7%89%A9%E6%9C%9F%E8%B2%A8-061119269.html\n",
      "https://tw.news.yahoo.com/%E5%97%86%E7%BE%8E%E9%9F%93%E6%84%8F%E5%9C%96%E6%9A%97%E6%AE%BA-%E5%8C%97%E9%9F%93%E6%9B%BE%E6%9C%89%E6%8C%87%E6%8E%A7-%E7%B1%AE%E7%AD%90-103025096.html\n",
      "https://tw.news.yahoo.com/%E9%99%B8%E5%A7%94%E6%9C%83-%E9%99%B8%E6%87%89%E5%BC%B7%E5%8C%96%E5%AE%A3%E5%B0%8E%E7%B4%84%E6%9D%9F%E6%BC%81%E6%B0%91%E9%81%B5%E5%AE%88%E8%A6%8F%E5%AE%9A-130129644.html\n",
      "https://tw.news.yahoo.com/%E4%BA%BA%E9%81%93%E8%80%83%E9%87%8F-%E5%9F%83%E5%8F%8A%E9%87%8D%E9%96%8B%E6%8B%89%E6%B3%95%E7%A9%BF%E8%B6%8A%E7%AB%993%E5%A4%A9-143504490.html\n",
      "https://tw.news.yahoo.com/%E8%94%A1%E7%B8%BD%E7%B5%B1%E8%AB%87%E6%96%B0%E5%8D%97%E5%90%91-%E9%99%B8%E5%AA%92%E9%97%9C%E6%B3%A8%E7%A8%B1%E5%A4%A7%E9%99%B8%E7%82%BA%E4%B8%AD%E5%9C%8B-092924001.html\n",
      "https://tw.news.yahoo.com/%E7%BE%8E%E5%89%8D%E9%A7%90%E9%99%B8%E5%A4%A7%E4%BD%BF%E9%A7%B1%E5%AE%B6%E8%BC%9D%E5%A6%BB-%E8%AD%89%E5%AF%A6%E5%B7%B2%E9%9B%A2%E5%A9%9A%E6%95%B8%E5%B9%B4-110426257.html\n",
      "https://tw.news.yahoo.com/%E6%B2%B9%E5%83%B9%E6%9F%A5%E8%A9%A2-%E5%8F%B0%E5%A1%91%E5%8C%96%E4%B8%8B%E9%80%B1%E6%B1%BD%E6%B2%B9%E9%99%8D0-3%E5%85%83-%E6%9F%B4%E6%B2%B9%E9%99%8D0-4%E5%85%83-170700547.html\n",
      "https://tw.news.yahoo.com/%E7%B7%AC%E7%94%B8%E7%A7%BB%E6%B0%91%E9%81%AD%E4%B8%9F%E5%8C%85-%E6%B3%B0%E8%AD%A6%E8%BF%BD%E7%B7%9D%E5%81%B7%E6%B8%A1%E9%9B%86%E5%9C%98-072000361.html\n",
      "https://tw.news.yahoo.com/%E6%AF%8D%E8%A6%AA%E7%AF%80%E5%A4%A7%E9%A4%90%E5%A4%AF-%E4%BA%94%E6%9C%88%E9%80%B1%E6%9C%AB%E9%A4%90%E5%BB%B3%E8%A8%82%E4%BD%8D%E5%B7%B2%E4%B9%9D%E6%88%90%E6%BB%BF-102029362.html\n",
      "https://tw.news.yahoo.com/100-092910120.html\n",
      "https://tw.news.yahoo.com/%E6%BA%AB%E9%A6%A8%E4%BA%94%E6%9C%88%E5%A4%A9-%E5%8D%97%E6%8A%95%E5%AE%B6%E6%89%B6%E8%87%AA%E5%BC%B7%E6%AF%8D%E8%A6%AA%E8%A1%A8%E6%8F%9A%E6%9A%A8%E8%A6%AA%E5%AD%90%E6%B4%BB%E5%8B%95-102321366.html\n",
      "https://tw.news.yahoo.com/%E5%82%B7%E5%BF%83%E6%AF%8D%E8%A6%AA%E7%AF%80-%E7%A9%BA%E8%BC%AA%E6%A4%85%E4%BB%A3%E9%A0%98%E5%82%91%E5%87%BA%E6%84%9B%E5%BF%83%E5%AA%BD%E5%AA%BD%E7%8D%8E-%E5%9C%96-123501901.html\n",
      "https://tw.news.yahoo.com/%E4%B8%80%E5%88%86%E9%90%98%E5%A0%B1%E6%B0%A3%E8%B1%A1%EF%BC%8F%E5%91%A8%E6%97%A5507%E9%8B%92%E9%9D%A2%E6%8E%A0%E9%81%8E-%E5%8C%97%E9%83%A8%E7%A8%8D%E4%B8%8D%E7%A9%A9%E5%AE%9A-115521480.html\n",
      "https://tw.news.yahoo.com/%E5%B7%9D%E6%99%AE%E6%9C%AA%E6%B1%BA%E5%AE%9A%E9%80%80%E5%87%BA%E5%B7%B4%E9%BB%8E%E5%8D%94%E5%AE%9A-%E7%BE%8E%E4%BB%8D%E5%B0%87%E5%87%BA%E5%B8%ADun%E6%B0%A3%E5%80%99%E6%9C%83%E8%AB%87-080700798.html\n",
      "https://tw.news.yahoo.com/%E9%98%B2%E8%A3%9C%E6%95%99%E7%8B%BC%E5%B8%AB%E6%B5%81%E7%AB%84-%E6%96%B0%E5%8C%97%E8%A8%AD%E5%B9%B3%E5%8F%B0%E6%8F%AA%E4%B8%8D%E9%81%A9%E4%BB%BB-124128963.html\n",
      "https://tw.news.yahoo.com/%E9%8B%92%E9%9D%A2%E5%BD%B1%E9%9F%BF%E5%8C%97-%E6%9D%B1%E7%9F%AD%E6%9A%AB%E9%99%A3%E9%9B%A8-%E9%AB%98%E6%BA%AB27-29%E5%BA%A6%E6%B3%A8%E6%84%8F%E9%98%B2%E6%9B%AC-054500103.html\n",
      "https://tw.news.yahoo.com/%E6%97%A5%E6%9C%AC%E8%97%A5%E5%A6%9D%E9%80%9A%E8%B7%AF%E9%A6%96%E5%BA%A6%E6%8F%92%E6%97%97%E5%8F%B0%E7%81%A3-%E7%A9%8D%E6%A5%B5%E6%90%B6%E9%80%B2%E5%8F%B0%E5%8C%97%E8%BB%8A%E7%AB%99-081700964.html\n",
      "https://tw.news.yahoo.com/%E4%B8%83%E5%85%AB%E5%B9%B4%E7%B4%9A%E7%94%9F%E7%9A%84%E5%9B%9E%E6%86%B6-%E4%BD%A0%E7%94%A8%E9%81%8E%E9%80%99%E4%BA%9B%E9%9F%B3%E6%A8%82%E6%92%AD%E6%94%BE%E5%99%A8%E5%97%8E-090000659.html\n",
      "https://tw.news.yahoo.com/%E6%AF%8D%E8%A6%AA%E7%AF%80%E5%B9%AB%E5%AA%BD%E5%AA%BD%E6%8C%91%E9%9A%BB%E6%89%8B%E6%A9%9F-%E7%88%B6%E6%AF%8D%E6%89%8B%E6%A9%9F%E9%81%B8%E8%B3%BC4%E5%A4%A7%E6%8C%87%E5%8D%97-080000754.html\n",
      "https://tw.news.yahoo.com/%E5%8F%B0%E7%81%A3%E5%A4%A7%E8%B3%A3%E5%A0%B4%E5%B7%A7%E5%A6%99%E8%A8%AD%E8%A8%88-%E8%8B%B1%E5%AA%92%E9%A9%9A%E5%91%86%EF%BC%9A%E5%A4%A7%E9%96%8B%E7%9C%BC%E7%95%8C-010221990.html\n",
      "https://tw.news.yahoo.com/%E6%BE%8E%E6%B9%96%E8%8A%B1%E7%81%AB%E7%AF%80%E7%A7%BB%E5%B8%AB%E5%90%89%E8%B2%9D%E6%96%BD%E6%94%BE-1-%E5%9C%96-134301040.html\n",
      "https://tw.news.yahoo.com/%E7%9B%B4%E8%85%B8%E8%84%AB%E5%9E%82-%E4%BB%A5%E7%82%BA-%E7%97%94%E7%98%A1-%E5%BB%B6%E8%AA%A4%E5%B0%B1%E9%86%AB%E5%B0%8E%E8%87%B4%E5%A4%B1%E7%A6%81-084347843.html\n",
      "https://tw.news.yahoo.com/%E6%88%91%E5%BE%9E%E4%B8%8D%E5%8F%8D%E5%B0%8D%E5%B9%B4%E8%BC%95%E4%BA%BA%E6%89%93%E5%B7%A5%E5%BA%A6%E5%81%87-%E6%88%91%E5%8F%8D%E5%B0%8D%E4%BB%96%E5%80%91%E5%A4%AA%E6%99%9A%E5%8E%BB%E6%89%93%E5%B7%A5%E5%BA%A6%E5%81%87-060500196.html\n",
      "https://tw.news.yahoo.com/%E7%94%B7%E5%AC%B0%E6%89%8B%E6%8F%A1%E9%81%BF%E5%AD%95%E5%99%A8-%E5%AF%B6%E5%AF%B6%E9%9C%B8%E6%B0%A3%E8%AA%95%E7%94%9F%E7%9C%9F%E7%9B%B8%E6%9B%9D%E5%85%89%E4%BA%86-083122790.html\n",
      "https://tw.news.yahoo.com/%E6%B8%AF%E6%B0%91%E4%B8%BB%E9%BB%A8%E5%8D%80%E8%AD%B0%E5%93%A1-%E9%81%AD%E7%A6%81%E5%85%A5%E5%A2%83%E6%BE%B3%E9%96%80-063720774.html\n",
      "https://tw.news.yahoo.com/%E9%81%A0%E8%88%AA%E5%8B%9E%E8%B3%87%E7%88%AD%E8%AD%B0%E5%81%9C%E9%A3%9B-%E9%99%B8%E5%AE%A2-%E7%AC%AC-%E6%AC%A1%E8%81%BD%E8%AA%AA-071021213.html\n",
      "https://tw.news.yahoo.com/%E5%8F%B0%E4%B8%89%E7%B7%9A%E6%B5%AA%E6%BC%AB%E6%97%85%E9%81%8A-%E6%96%B0%E5%8A%A0%E5%9D%A1%E9%81%8A%E5%AE%A2%E9%AB%94%E9%A9%97%E5%AE%A2%E5%AE%B6%E6%96%87%E5%8C%96-172028004.html\n",
      "https://tw.news.yahoo.com/%E8%BE%B2%E5%A9%A6%E5%89%B2%E5%96%89%E6%A1%88-%E8%AD%A6%E9%80%AE%E6%B6%89%E9%87%8D%E5%AB%8C%E7%94%B7%E5%AD%90-114100950.html\n",
      "https://tw.news.yahoo.com/%E5%AE%8F%E9%83%BD%E6%8B%89%E6%96%AF%E7%94%9F-%E5%9C%8B%E9%98%B2%E5%A4%A7%E5%AD%B8%E9%A6%96%E4%BD%8D%E5%A4%96%E7%B1%8D%E6%8E%8C%E6%97%97%E5%AE%98-054719508.html\n",
      "https://tw.news.yahoo.com/%E6%96%B0%E5%BE%B7%E9%87%8C%E6%9C%89%E6%AF%92%E6%B0%A3%E9%AB%94%E5%A4%96%E6%B4%A9-310%E5%90%8D%E5%AD%B8%E7%94%9F%E9%80%81%E9%86%AB-110126982.html\n",
      "https://tw.news.yahoo.com/%E7%8B%97%E5%85%92%E6%84%9B%E4%BA%82%E5%90%83-3%E6%AD%A5%E9%A9%9F%E6%94%B9%E6%8E%89%E5%A3%9E%E7%BF%92%E6%85%A3-061500027.html\n",
      "https://tw.news.yahoo.com/%E5%8F%B0%E5%A4%A7%E5%90%8D%E9%86%AB%E9%96%8B-%E9%80%99%E8%97%A5-%E8%AE%93%E6%82%A3%E8%80%85%E6%80%92%E5%91%8A%E6%AE%BA%E4%BA%BA-130000856.html\n",
      "https://tw.news.yahoo.com/%E4%BA%9E%E6%B4%B2%E6%96%B0%E4%BA%BA%E6%84%9B%E8%B7%91%E6%97%A5%E6%9C%AC%E6%8B%8D%E5%A9%9A%E7%B4%97-%E4%BD%A0%E7%9A%84%E5%90%8D%E5%AD%97%E5%A0%B4%E6%99%AF%E5%BF%85%E6%8B%8D-075320413.html\n",
      "https://tw.news.yahoo.com/%E4%B8%96%E7%95%8C%E8%99%9F%E9%83%B5%E8%BC%AA%E9%A6%96%E6%B3%8A%E8%8A%B1%E8%93%AE%E6%B8%AF-2-%E5%9C%96-072701043.html\n",
      "https://tw.news.yahoo.com/%E7%94%A8%E6%84%9B%E5%92%8C%E5%B0%88%E6%A5%AD%E5%AE%88%E8%AD%B7%E6%82%A3%E8%80%8521%E5%B9%B4-%E9%83%AD%E5%98%89%E7%90%AA%E7%8D%B22017%E5%B9%B4%E5%8D%97%E4%B8%81%E6%A0%BC%E7%88%BE%E7%8D%8E-075323870.html\n",
      "https://tw.news.yahoo.com/%E8%BF%8E%E4%B8%96%E5%A4%A7%E9%81%8B-%E5%9C%8B%E9%9A%9B%E6%97%A55%E6%9C%88%E6%8E%A5%E5%8A%9B%E6%9A%96%E5%A0%B4-%E4%B8%BB%E9%A1%8C%E6%A9%AB%E8%B7%A85%E6%B4%B2-%E6%8E%A8%E5%87%BA230%E5%80%8B%E5%B8%82%E9%9B%86-100115640.html\n",
      "https://tw.news.yahoo.com/%E8%98%87%E8%8A%B1%E6%94%B9%E4%B8%8D%E6%8E%A5%E5%9C%8B%E4%BA%94-%E5%AE%9C%E8%98%AD%E7%B8%A3%E9%95%B7%E6%80%A8%E8%98%87%E6%BE%B3%E5%A1%9E%E7%88%86-003200571.html\n",
      "https://tw.news.yahoo.com/%E6%95%99%E8%82%B2%E9%83%A8%E4%BF%AE%E6%AD%A3%E7%99%BC%E5%B8%83%E5%B0%88%E7%A7%91%E4%BB%A5%E4%B8%8A%E5%AD%B8%E6%A0%A1%E5%85%BC%E4%BB%BB%E6%95%99%E5%B8%AB%E8%81%98%E4%BB%BB%E8%BE%A6%E6%B3%95-160000216.html\n",
      "https://tw.news.yahoo.com/%E6%8B%89%E7%BE%8E%E5%8A%A0%E5%8B%92%E6%AF%94%E6%B5%B7%E5%98%89%E5%B9%B4%E8%8F%AF-%E5%B1%95%E7%95%B0%E5%9C%8B%E9%A2%A8%E6%83%85-%E5%9C%96-122701900.html\n",
      "https://tw.news.yahoo.com/106%E5%B9%B4%E7%AB%B9%E5%B1%B1%E6%A8%A1%E7%AF%84%E6%AF%8D%E8%A6%AA%E8%A1%A8%E6%8F%9A-%E6%A1%83%E5%A4%AA%E9%83%8E%E6%9D%91%E7%86%B1%E9%AC%A7%E8%88%89%E8%BE%A6-080349276.html\n"
     ]
    },
    {
     "name": "stdout",
     "output_type": "stream",
     "text": [
      "https://tw.news.yahoo.com/%E6%AD%A1%E6%85%B6%E4%BA%94%E4%BA%94-%E5%B1%8F%E6%9D%B1%E8%88%9E%E5%A4%8F%E8%97%9D%E8%A1%93%E7%AF%80%E7%99%BB%E5%A0%B4-070100129.html\n",
      "https://tw.news.yahoo.com/%E8%A1%97%E9%A0%AD%E9%81%87%E9%B4%9B%E9%B4%A6%E5%A4%A7%E7%9B%9C-9%E6%97%AC%E7%BF%81%E6%BF%80%E5%8B%95%E5%BE%9E%E8%BC%AA%E6%A4%85%E7%AB%99%E8%B5%B7-062033677.html\n",
      "https://tw.news.yahoo.com/%E5%A4%96%E5%9F%94%E5%8D%80%E5%90%84%E7%95%8C%E6%AD%A1%E6%85%B6%E6%AF%8D%E8%A6%AA%E7%AF%80-%E8%A1%A8%E6%8F%9A%E6%A8%A1%E7%AF%84%E6%AF%8D%E8%A6%AA%E8%88%87%E5%AD%9D%E5%AD%90-075526524.html\n",
      "https://tw.news.yahoo.com/%E7%89%B9%E6%AE%8A%E6%95%99%E8%82%B2%E5%AD%B8%E7%94%9F%E6%8C%91%E6%88%B0%E6%97%A5-%E6%9C%B1-%E6%8C%91%E6%88%B0%E8%87%AA%E6%88%91-%E8%BF%8E%E5%90%91%E6%9C%AA%E4%BE%86-095841664.html\n",
      "https://tw.news.yahoo.com/%E4%BB%8A%E5%BD%A9539%E9%A0%AD%E7%8D%8E-2%E6%B3%A8%E4%B8%AD%E7%8D%8E-140630261.html\n",
      "https://tw.news.yahoo.com/%E9%83%AD%E5%A9%9E%E6%B7%B3%E5%86%8D%E7%A0%B4%E7%B4%80%E9%8C%84-%E6%94%BE%E7%9C%BC%E4%B8%96%E5%A4%A7%E9%81%8B-120500565.html\n",
      "https://tw.news.yahoo.com/%E7%A9%BA%E6%9C%8D%E5%93%A1%E9%9B%86%E9%AB%94%E8%AB%8B%E5%81%87%E5%BD%B1%E9%9F%BF%E8%88%AA%E7%8F%AD-%E6%B0%91%E8%88%AA%E5%B1%80%E7%B1%B2%E9%81%A0%E8%88%AA%E7%A9%8D%E6%A5%B5%E6%BA%9D%E9%80%9A-102700049.html\n",
      "https://tw.news.yahoo.com/%E9%81%A0%E8%88%AA%E7%A9%BA%E6%9C%8D%E8%AB%8B%E5%81%87-%E8%88%AA%E7%8F%AD%E5%96%8A%E5%8D%A1-160000799.html\n",
      "https://tw.news.yahoo.com/%E9%81%AD%E8%B3%87%E9%81%A3%E7%A9%BA%E6%9C%8D%E5%93%A1-%E9%81%A0%E8%88%AA-%E6%AD%A1%E8%BF%8E%E4%B8%8B%E5%91%A8%E5%9B%9E%E5%85%AC%E5%8F%B8%E4%B8%8A%E7%8F%AD-121432114.html\n",
      "https://tw.news.yahoo.com/%E7%B6%A0%E5%8D%9A%E5%A0%B1%E6%82%A8%E7%9F%A5-%E5%85%A8%E7%90%83%E6%AF%8F%E5%B9%B4%E6%B5%AA%E8%B2%BB%E7%B3%A7%E9%A3%9F%E5%92%8C%E6%8C%A8%E9%A4%93%E4%BA%BA%E5%8F%A3%E7%AB%9F%E6%9C%89-092053928.html\n",
      "https://tw.news.yahoo.com/%E4%BB%8A%E5%BD%A9539%E9%96%8B%E7%8D%8E-124128318.html\n",
      "https://tw.news.yahoo.com/%E5%BE%97%E7%BD%AA%E7%87%88%E5%85%89%E5%B8%AB-%E7%94%B7%E5%90%8C%E5%AD%B8%E7%AB%9F%E4%B8%8A%E6%BC%94-%E8%AE%8A%E8%87%89%E7%A7%80-064900456.html\n",
      "https://tw.news.yahoo.com/%E7%8D%A8%E5%89%B5%E5%90%BB%E4%BB%94%E9%AD%9A%E9%A6%99%E8%94%A5%E6%8A%AB%E8%96%A9-%E5%A5%B3%E4%B8%BB%E5%BB%9A%E7%8D%B2%E5%89%B5%E6%84%8F%E5%86%A0%E8%BB%8D-062033230.html\n",
      "https://tw.news.yahoo.com/%E9%AB%98%E9%BD%A1%E5%8C%96%E7%A4%BE%E6%9C%83%E4%BE%86%E4%BA%86-%E5%B0%BF%E5%B8%83%E5%A5%B6%E7%B2%89%E9%8A%B7%E5%94%AE%E9%9C%B2%E7%AB%AF%E5%80%AA-042717435.html\n",
      "https://tw.news.yahoo.com/%E9%81%8B%E5%8B%95%E5%81%A5%E5%BA%B7%E6%9B%B4%E7%BE%8E%E9%BA%97-%E8%88%92%E6%B4%BB%E7%86%9F%E9%BD%A1%E8%BA%AB%E5%BF%83%E6%B4%BB%E5%8A%9B%E7%99%BB%E5%A0%B4-090428780.html\n",
      "https://tw.news.yahoo.com/%E6%BA%AA%E9%A0%AD%E9%81%BF%E6%9A%91%E4%BA%AB%E6%A3%AE%E6%9E%97%E6%B5%B4-%E6%BA%AA%E9%A0%AD%E7%B1%B3%E5%A0%A4%E5%AA%BD%E5%AA%BD%E9%81%8A-%E7%BE%8E%E9%BA%97-072800455.html\n",
      "https://tw.news.yahoo.com/%E6%8B%8C%E9%A3%AF-%E7%83%A4%E8%82%89%E7%AB%AF%E4%B8%8A%E6%A1%8C-%E9%9F%93%E9%A3%9F%E9%AD%85%E5%8A%9B%E5%A4%A7-115400917.html\n",
      "https://tw.news.yahoo.com/%E7%A4%A6%E5%B7%A5%E5%85%92%E5%AD%90%E5%9F%BA%E9%87%91%E6%9C%83-%E9%82%8065%E5%AE%B6%E8%82%B2%E5%B9%BC%E9%99%A2%E5%85%92%E7%AB%A5%E7%A7%80%E6%89%8D%E8%97%9D-172028494.html\n",
      "https://tw.news.yahoo.com/%E9%98%BF%E9%87%8C%E5%B1%B1%E6%A3%AE%E9%90%B5%E7%AB%AF%E5%8D%88%E5%8A%A0%E9%96%8B%E7%8F%AD%E6%AC%A1-%E5%B0%8D%E8%99%9F%E5%BA%A7%E4%BD%8D12%E6%97%A5%E4%B8%8A%E5%8D%88%E9%96%8B%E8%B3%A3-072559525.html\n",
      "https://tw.news.yahoo.com/%E5%B0%8D%E6%B5%81%E9%9B%B2%E7%B3%BB%E6%97%BA%E7%9B%9B-%E5%8D%88%E5%BE%8C%E6%9C%89%E5%B1%80%E9%83%A8%E5%A4%A7%E9%9B%A8-045800124.html\n",
      "https://tw.news.yahoo.com/%E6%83%B3%E5%90%83%E6%B5%B7%E8%91%A1%E8%90%84%E5%85%8D%E8%B5%B4%E6%97%A5-%E6%BE%8E%E6%B9%96%E5%90%83%E5%BE%97%E5%88%B0-053300226.html\n",
      "https://tw.news.yahoo.com/%E5%8D%B0%E5%BA%A6%E7%93%A6%E6%96%AF%E5%A4%96%E6%B4%A9-%E5%AD%B8%E7%94%9F%E7%96%8F%E6%95%A3%E7%99%BE%E4%BA%BA-30%E4%BA%BA%E9%80%81%E9%86%AB-063500866.html\n",
      "https://tw.news.yahoo.com/%E6%BE%8E%E6%B9%96%E8%8A%B1%E7%81%AB%E7%AF%80%E7%A7%BB%E5%B8%AB%E5%90%89%E8%B2%9D%E6%96%BD%E6%94%BE-2-%E5%9C%96-134301841.html\n",
      "https://tw.news.yahoo.com/%E5%B0%8D%E6%AD%BB%E5%8E%BB%E7%9A%84%E5%AD%A9%E5%AD%90%E6%84%A7%E7%96%9A-%E5%AA%BD%E5%AA%BD%E5%BF%85%E5%81%9A%E7%9A%84%E5%93%80%E5%82%B7%E8%BC%94%E5%B0%8E-110826665.html\n",
      "https://tw.news.yahoo.com/%E8%AB%8B%E9%A0%98%E5%8B%9E%E4%BF%9D%E5%B9%B4%E9%87%91-%E6%98%8E%E5%B9%B4%E5%BB%B6%E5%BE%8C%E8%87%B361%E6%AD%B2-052900496.html\n",
      "https://tw.news.yahoo.com/%E9%82%81%E5%85%A5%E8%B6%85%E9%AB%98%E9%BD%A1%E7%A4%BE%E6%9C%83-%E5%B1%85%E5%AE%B6%E8%AD%B7%E7%90%86%E5%B8%AB%E5%88%B0%E5%AE%85%E6%94%AF%E6%8F%B4%E9%A0%90%E9%98%B2%E5%A4%B1%E8%83%BD-084308700.html\n",
      "https://tw.news.yahoo.com/2017%E5%8D%97%E6%8A%95%E6%A2%85%E5%AD%90%E7%AF%80-%E6%B0%B4%E9%87%8C%E7%B5%82%E5%A0%B4%E6%B4%BB%E5%8B%95%E9%81%8A%E5%AE%A2%E7%86%B1%E6%83%85%E5%8F%83%E8%88%87-100433244.html\n",
      "https://tw.news.yahoo.com/%E5%BE%9E%E7%84%A1%E5%88%B0%E6%9C%89%E8%A6%AA%E6%89%8B%E6%89%93%E9%80%A0-%E6%B8%85%E5%A4%A72%E8%99%9F%E8%B3%BD%E8%BB%8A%E4%BA%AE%E7%9B%B8-084023434.html\n",
      "https://tw.news.yahoo.com/%E5%A4%A7%E9%80%86%E8%BD%89-%E9%81%A0%E6%9D%B1%E8%88%AA%E7%A9%BA%E5%9B%9E%E8%81%9817%E5%90%8D%E7%A9%BA%E6%9C%8D%E5%93%A1-8%E6%97%A5%E5%9B%9E%E5%85%AC%E5%8F%B8%E5%A0%B1%E5%88%B0-121223826.html\n",
      "https://tw.news.yahoo.com/%E7%82%BA%E6%AF%8D%E8%A6%AA%E5%81%9A%E4%BB%B6%E5%A5%BD%E4%BA%8B-%E7%9B%A7%E7%A7%80%E7%87%95%E5%9C%92%E9%81%8A%E6%9C%83%E5%85%AC%E7%9B%8A%E5%8B%9F%E6%AC%BE-%E5%9C%96-112701039.html\n",
      "https://tw.news.yahoo.com/%E5%AF%84%E9%A4%8A%E5%AE%B6%E5%BA%AD%E6%88%90%E6%85%88%E5%AD%9D%E6%A5%B7%E6%A8%A1-%E5%9C%96-085101231.html\n",
      "https://tw.news.yahoo.com/%E5%AF%B5%E7%89%A9%E9%99%AA%E7%9D%A1%E5%A5%BD%E8%99%95%E5%A4%9A-%E5%8A%A9%E7%9C%A0%E5%8F%88%E9%99%8D%E8%A1%80%E5%A3%93-053600991.html\n",
      "https://tw.news.yahoo.com/%E8%B2%A9%E5%94%AE%E9%80%BE%E6%9C%9F%E8%82%89%E5%93%81-%E4%B8%AD%E5%B8%82%E9%87%8D%E7%BD%B0%E5%8A%9B%E5%8B%A4600%E8%90%AC-044410478.html\n",
      "https://tw.news.yahoo.com/%E4%B8%96%E7%95%8C%E8%99%9F%E9%83%B5%E8%BC%AA%E9%A6%96%E6%B3%8A%E8%8A%B1%E8%93%AE%E6%B8%AF-1-%E5%9C%96-072701800.html\n",
      "https://tw.news.yahoo.com/%E9%81%A0%E8%88%AA%E5%8B%9E%E8%B3%87%E7%88%AD%E8%AD%B0%E5%81%9C%E9%A3%9B-%E9%99%B8%E5%AE%A2-%E9%A6%96%E6%AC%A1%E8%81%BD%E8%AA%AA-%E5%9C%96-072701093.html\n",
      "https://tw.news.yahoo.com/%E6%A0%A1%E5%9C%92%E5%A4%A7%E5%B0%8F%E4%BA%8B-%E6%84%9B%E6%83%85%E6%88%90%E5%BF%85%E4%BF%AE%E5%AD%B8%E5%88%86-%E6%95%99%E9%83%A8%E6%8E%A8%E5%BB%A3%E6%84%9F%E6%83%85%E6%95%99%E8%82%B2-110000035.html\n",
      "https://tw.news.yahoo.com/%E5%A4%A7%E7%A6%8F%E5%BD%A9%E9%96%8B%E7%8D%8E-125228936.html\n",
      "https://tw.news.yahoo.com/%E5%92%96%E5%95%A1%E9%A2%A8%E5%91%B3%E5%A4%A7%E4%B8%8D%E5%90%8C-%E5%B0%88%E5%AE%B6%E5%A0%B1%E4%BD%A0%E7%9F%A5-031916682.html\n",
      "https://tw.news.yahoo.com/%E9%98%B2%E8%A3%9C%E6%95%99%E7%8B%BC%E5%B8%AB-%E6%96%B0%E5%8C%97%E8%A8%AD%E5%B9%B3%E5%8F%B0%E6%8F%AA%E4%B8%8D%E9%81%A9%E4%BB%BB-%E5%9C%96-123501062.html\n",
      "https://tw.news.yahoo.com/-082910478.html\n",
      "https://tw.news.yahoo.com/%E8%91%89%E4%BF%8A%E6%A6%AE%E8%A8%AA%E7%AB%B9%E5%AD%90%E6%B9%96-%E7%AA%BA%E8%93%AC%E8%90%8A%E7%B1%B3%E7%99%BC%E6%BA%90%E5%9C%B0-160000877.html\n",
      "https://tw.news.yahoo.com/%E8%A1%8C%E5%8B%95%E5%BA%A6%E5%81%87%E8%B1%AA%E5%AE%85-%E4%B8%96%E7%95%8C%E8%99%9F%E9%83%B5%E8%BC%AA%E9%A6%96%E6%B3%8A%E8%8A%B1%E8%93%AE%E6%B8%AF-070621557.html\n",
      "https://tw.news.yahoo.com/%E6%84%9F%E5%8F%97%E9%AC%BC%E6%80%AA-%E8%95%8E%E9%BA%A5%E7%94%B0-%E7%B2%89%E7%B5%B2%E7%98%8B%E6%9C%9D%E8%81%96-114800734.html\n",
      "https://tw.news.yahoo.com/%E9%81%A0%E8%88%AA%E7%A9%BA%E6%9C%8D%E5%93%A1%E9%9B%86%E9%AB%94%E4%BC%91%E5%81%87-%E9%A3%9B%E5%93%88%E7%88%BE%E6%BF%B1%E7%8F%AD%E6%A9%9F%E5%8F%96%E6%B6%88-042033785.html\n",
      "https://tw.news.yahoo.com/-095909845.html\n",
      "https://tw.news.yahoo.com/%E7%8B%BC%E5%B8%AB%E4%BE%86%E4%BA%86-%E9%99%B3%E8%8F%8A%E5%91%BC%E7%B1%B2%E5%AE%B6%E9%95%B7%E5%8B%87%E6%96%BC%E8%88%89%E7%99%BC-081625693.html\n",
      "https://tw.news.yahoo.com/%E7%BE%8E%E8%A5%BF%E5%8D%97%E8%88%AA%E7%A9%BA%E6%A9%9F%E9%95%B7%E6%BA%AB%E9%A6%A8%E6%84%9F%E8%AC%9D%E7%AC%AC100%E8%90%AC%E5%90%8D%E4%B9%98%E5%AE%A2-061820583.html\n",
      "https://tw.news.yahoo.com/%E4%BE%BF%E5%88%A9%E5%95%86%E5%BA%97%E5%89%AA%E7%8B%97%E6%AF%9B%E6%BB%BF%E5%A4%A9%E9%A3%9B-%E7%B6%B2%E6%80%92%EF%BC%9A%E4%BA%BA%E4%B8%8D%E8%A6%81%E8%87%89%E5%A4%A9%E4%B8%8B%E7%84%A1%E6%95%B5-052310808.html\n"
     ]
    },
    {
     "name": "stdout",
     "output_type": "stream",
     "text": [
      "https://tw.news.yahoo.com/%E8%BF%8E%E4%B8%96%E5%A4%A7%E9%81%8B-%E5%9C%8B%E9%9A%9B%E6%97%A55%E6%9C%88%E6%8E%A5%E5%8A%9B%E6%9A%96%E5%A0%B4-%E4%B8%BB%E9%A1%8C%E6%A9%AB%E8%B7%A85%E6%B4%B2-230%E5%80%8B%E5%B8%82%E9%9B%86-081100144.html\n",
      "https://tw.news.yahoo.com/%E5%8F%B0%E8%83%9E%E8%AD%89%E8%87%AA%E5%8A%A9%E5%A0%B1%E5%88%B0-%E9%99%B8%E6%A9%9F%E5%A0%B4%E5%8D%87%E7%B4%9A%E5%8D%83%E5%8F%B0%E6%A9%9F%E5%99%A8-121328495.html\n",
      "https://tw.news.yahoo.com/-122909443.html\n",
      "https://tw.news.yahoo.com/%E6%9C%8D%E5%8B%99%E8%B2%BB%E5%85%A8%E5%85%A5%E8%80%81%E9%97%86%E5%8F%A3%E8%A2%8B-%E6%97%A5%E6%9C%AC%E4%BA%BA%E9%BB%9E%E5%87%BA%E7%9B%B2%E9%BB%9E-100500195.html\n",
      "https://tw.news.yahoo.com/%E5%A4%A7%E5%AD%B8%E7%94%9F%E7%A7%9F%E5%B1%8B-%E4%BA%A4%E5%B1%8B%E5%89%8D%E6%87%89%E8%A9%B2%E7%9F%A5%E9%81%93%E7%9A%845%E4%BB%B6%E4%BA%8B-042700257.html\n",
      "https://tw.news.yahoo.com/%E4%B8%8D%E5%BF%8D%E5%AD%A9%E5%AD%90%E8%A2%AB%E5%AE%B6%E6%9A%B4-%E5%AF%84%E9%A4%8A%E7%88%B6%E6%AF%8D%E6%85%88%E6%84%9B%E6%88%90%E6%A5%B7%E6%A8%A1-073021400.html\n",
      "https://tw.news.yahoo.com/%E6%82%A0%E9%81%8A%E5%8D%A1%E5%81%9A%E5%85%AC%E7%9B%8A-%E6%88%B4%E8%B3%87%E7%A9%8E%E5%8B%89%E5%8F%97%E8%B4%88%E8%80%85%E4%BF%9D%E7%86%B1%E6%83%85-052219696.html\n",
      "https://tw.news.yahoo.com/%E8%B1%AC%E8%85%B8%E5%B7%A5%E5%BB%A0%E9%9D%9E%E6%B3%95%E6%8F%90%E7%85%89%E6%8A%97%E5%87%9D%E8%A1%80%E5%8A%91-%E8%BF%BD%E6%98%AF%E5%90%A6%E6%B5%81%E5%B8%82%E9%9D%A2-112028445.html\n",
      "https://tw.news.yahoo.com/%E9%81%A0%E8%88%AA%E6%97%A5%E7%99%BC%E5%8D%83%E5%85%83%E7%8D%8E%E9%87%91%E7%9B%BC%E7%A9%A9%E5%AE%9A%E8%88%AA%E7%8F%AD-%E7%A9%BA%E6%9C%8D%E5%93%A1-%E9%A0%98%E4%B8%8D%E9%A0%98%E7%9A%84%E5%88%B0%E8%AA%B0%E7%9F%A5%E9%81%93-081225456.html\n",
      "https://tw.news.yahoo.com/-100027583.html\n",
      "https://tw.news.yahoo.com/%E9%9F%93%E5%9C%8B%E6%89%8B%E9%81%8A%E9%80%B2%E8%BB%8D%E5%8F%B0%E7%81%A3-%E9%82%80%E5%AE%A5%E5%8B%9D%E4%BB%A3%E8%A8%80%E9%BB%91%E6%9A%97%E7%B2%BE%E9%9D%88-172028504.html\n",
      "https://tw.news.yahoo.com/%E9%81%A0%E8%88%AA%E7%A9%BA%E6%9C%8D%E5%93%A1%E8%BF%91%E5%8D%8A%E4%BC%91%E5%81%87-%E5%9C%8B%E5%85%A7%E8%88%AA%E7%8F%AD%E4%B9%9F%E5%8F%97%E5%BD%B1%E9%9F%BF-042920512.html\n",
      "https://tw.news.yahoo.com/%E5%AE%A3%E6%8F%9A%E5%AA%BD%E7%A5%96%E6%96%87%E5%8C%96-%E9%97%9C%E6%B8%A1%E5%AE%AE%E9%A6%96%E5%89%B5%E5%A4%AA%E9%BC%93%E5%9C%98-172028449.html\n",
      "https://tw.news.yahoo.com/%E7%BC%BA%E5%BE%B7-%E5%A5%A7%E5%AE%A2%E4%BD%94%E8%B6%85%E5%95%86%E7%94%A8%E9%A4%90%E5%8D%80-%E5%89%83%E7%8B%97%E6%AF%9B-092600568.html\n",
      "https://tw.news.yahoo.com/%E5%8D%88%E5%BE%8C%E7%9F%AD%E6%9A%AB%E9%9B%A8-%E5%8C%97%E9%83%A8%E6%BA%AB%E6%9A%96%E8%88%92%E9%81%A9-120200711.html\n",
      "https://tw.news.yahoo.com/%E7%A6%8F%E9%9A%86%E6%B2%99%E9%9B%95%E5%AD%A3-%E8%9C%98%E8%9B%9B%E4%BA%BA%E9%A9%9A%E8%89%B7%E7%99%BB%E5%A0%B4-120500641.html\n",
      "https://tw.news.yahoo.com/%E7%B5%B1%E6%B8%AC%E7%AC%AC-%E5%A4%A9-%E7%BC%BA%E8%80%83%E7%8E%87%E6%9C%80%E9%AB%985-98-103525166.html\n",
      "https://tw.news.yahoo.com/%E8%81%B2%E6%8F%B4%E8%A2%AB%E8%B3%87%E9%81%A3%E5%90%8C%E4%BB%81-%E9%81%A0%E8%88%AA21%E4%BD%8D%E7%A9%BA%E5%A7%90%E9%9B%86%E9%AB%94%E8%AB%8B%E5%81%87-%E5%A4%9A%E7%8F%AD%E6%AC%A1%E8%88%AA%E7%8F%AD%E8%A2%AB%E8%BF%AB%E5%8F%96%E6%B6%88-%E5%BB%B6%E8%AA%A4-053700579.html\n",
      "https://tw.news.yahoo.com/%E5%A4%8F%E5%AD%A3%E6%97%85%E5%B1%95%E7%AC%AC2%E5%A4%A9-%E6%97%A5%E6%9C%AC%E8%B2%B7%E6%B0%A3%E4%BE%9D%E8%88%8A%E6%97%BA-104926269.html\n",
      "https://tw.news.yahoo.com/%E6%AF%8D%E8%A6%AA%E7%AF%80%E5%95%86%E6%A9%9F-%E9%80%81%E7%A6%AE%E6%8C%87%E5%8D%97%E5%87%BA%E7%88%90-%E5%85%A9%E5%A4%A7%E8%B3%BC%E7%89%A9%E7%B6%B2%E7%B5%B1%E8%A8%88%E9%80%99%E4%BA%9B%E5%95%86%E5%93%81%E6%9C%80%E5%8F%97%E6%AD%A1%E8%BF%8E-062254825.html\n",
      "https://tw.news.yahoo.com/%E5%AD%95%E5%A9%A6%E5%90%83-%E7%99%BD-%E9%A3%9F-%E5%AF%B6%E5%AF%B6%E8%86%9A%E8%89%B2%E6%9B%B4%E7%99%BD-114800511.html\n",
      "https://tw.news.yahoo.com/%E5%B0%8D%E6%AD%BB%E5%8E%BB%E5%AD%A9%E5%AD%90%E6%84%A7%E7%96%9A-%E5%AA%BD%E5%AA%BD%E5%BF%85%E5%81%9A%E7%9A%84%E5%93%80%E5%82%B7%E8%BC%94%E5%B0%8E-%E5%9C%96-112701972.html\n",
      "https://tw.news.yahoo.com/%E4%B8%96%E7%95%8C%E8%99%9F%E9%83%B5%E8%BC%AA%E9%A6%96%E6%B3%8A%E8%8A%B1%E8%93%AE%E6%B8%AF-3-%E5%9C%96-072702635.html\n",
      "https://tw.news.yahoo.com/%E5%B9%B8-%E5%AD%95-%E5%A5%B3%E7%A5%9E%E8%B5%B0%E7%A7%80%E6%AF%94%E8%B3%BD-%E5%AA%BD%E5%92%AA%E5%80%91%E5%B1%95%E9%AD%85%E5%8A%9B-045015989.html\n",
      "https://tw.news.yahoo.com/%E5%9B%9E%E8%81%9817%E5%90%8D%E9%81%AD%E8%B3%87%E9%81%A3%E7%A9%BA%E6%9C%8D%E5%93%A1-%E9%81%A0%E8%88%AA-%E4%B8%8D%E6%8E%92%E9%99%A4-062502845.html\n",
      "https://tw.news.yahoo.com/%E5%8F%B0%E5%8C%97%E6%8D%B7%E9%81%8Bgo-app%E5%85%A8%E6%96%B0%E6%94%B9%E7%89%88-%E7%84%A1%E7%B8%AB%E6%8E%A5%E8%BB%8C%E6%A1%83%E6%8D%B7-%E9%AB%98%E6%8D%B7-%E9%AB%98%E9%90%B5%E8%B3%87%E8%A8%8A-040000092.html\n",
      "https://tw.news.yahoo.com/%E6%BE%8E%E6%B9%96%E8%8A%B1%E7%81%AB%E7%AF%80%E7%A7%BB%E5%B8%AB%E5%90%89%E8%B2%9D%E6%96%BD%E6%94%BE-3-%E5%9C%96-134301417.html\n",
      "https://tw.news.yahoo.com/%E9%A0%AD%E5%89%8D%E6%BA%AA%E5%A4%A7%E6%8E%92%E8%AE%8A%E6%BB%BF%E6%B1%9F%E7%B4%85-%E7%96%91%E5%9C%B0%E4%B8%8B%E5%B7%A5%E5%BB%A0%E5%81%B7%E6%8E%92%E5%BB%A2%E6%B0%B4-062033842.html\n",
      "https://tw.news.yahoo.com/%E9%81%A0%E8%88%AA%E5%8B%9E%E8%B3%87%E7%88%AD%E8%AD%B0%E5%81%9C%E9%A3%9B-%E9%83%A8%E5%88%86%E6%97%85%E5%AE%A2%E8%BD%89%E6%90%AD%E5%8D%97%E8%88%AA-%E5%9C%96-072701266.html\n",
      "https://tw.news.yahoo.com/%E7%A6%8F%E9%9A%86%E5%9C%8B%E9%9A%9B%E6%B2%99%E9%9B%95%E8%97%9D%E8%A1%93%E5%AD%A3-%E4%BB%8A-6-%E6%97%A5%E9%96%8B%E5%B9%95-080000711.html\n",
      "https://tw.news.yahoo.com/%E5%9C%9F%E8%80%B3%E5%85%B6%E8%88%AA%E7%A9%BA%E9%A3%9B%E8%8B%B1%E7%BE%8E%E7%8F%AD%E6%A9%9F-%E5%95%86%E5%8B%99%E8%89%99%E5%8F%AF%E7%94%A8%E7%AD%86%E9%9B%BB-125002604.html\n",
      "https://tw.news.yahoo.com/%E5%90%8D-%E9%86%AB-%E5%95%8F-%E8%A8%BA-%E9%A0%90%E9%98%B2%E9%AB%98%E8%A1%80%E8%84%82%E9%A3%B2%E9%A3%9F-215007832--finance.html\n",
      "https://tw.news.yahoo.com/%E7%AB%AF%E5%8D%88%E5%89%8D%E8%B1%AC%E5%83%B9%E8%A0%A2%E5%8B%95-%E8%BE%B2%E5%A7%94%E6%9C%83%E5%91%BC%E7%B1%B2%E8%B1%AC%E8%BE%B2%E6%8C%89%E5%BA%8F%E5%87%BA%E8%B1%AC-103225138.html\n",
      "https://tw.news.yahoo.com/217-213-%E7%BE%8E%E7%9C%BE%E9%99%A2%E5%BB%A2%E6%AD%90%E8%A8%98%E5%81%A5%E4%BF%9D-215007346.html\n",
      "https://tw.news.yahoo.com/%E6%8C%87%E7%94%B2%E8%A3%A1%E9%95%B7%E7%97%A3-%E6%98%AF%E9%BB%91%E7%94%B2%E7%97%87%E9%82%84%E6%98%AF%E7%9A%AE%E8%86%9A%E7%99%8C-052300152.html\n",
      "https://tw.news.yahoo.com/%E7%B6%AD%E7%94%9F%E7%B4%A0d%E7%BC%BA%E4%B9%8F-%E4%B8%AD%E8%80%81%E5%B9%B4%E5%A4%B1%E6%99%BA%E9%A2%A8%E9%9A%AA%E5%A4%A7%E5%A2%9E-043818548.html\n",
      "https://tw.news.yahoo.com/%E6%88%90%E5%8A%9F%E6%8E%A7%E5%88%B6h5n6%E7%A6%BD%E6%B5%81%E6%84%9F%E7%96%AB%E6%83%85-%E7%81%BD%E5%AE%B3%E6%87%89%E8%AE%8A%E4%B8%AD%E5%BF%83%E9%81%94%E9%99%A3-160000333.html\n",
      "https://tw.news.yahoo.com/%E8%BA%BA%E8%91%97%E6%99%83%E6%99%83%E6%89%8B%E8%85%B3%E5%B0%B1%E8%83%BD%E5%B9%B4%E8%BC%95%E5%8D%81%E6%AD%B2-%E7%9C%BC%E7%9D%9B%E7%96%B2%E5%8B%9E-%E4%BD%B5%E7%B7%A9%E8%A7%A3-010000164.html\n",
      "https://tw.news.yahoo.com/%E5%A4%A2%E6%83%B3%E8%AC%9B%E5%A0%82%E9%96%8B%E8%AC%9B-%E6%B6%82%E9%86%92%E5%93%B2%E8%87%AA%E8%AA%8D%E6%98%AF%E5%81%A5%E5%BA%B7%E5%9F%8E%E5%B8%82%E5%84%AA%E5%8B%A2-141118723.html\n",
      "https://tw.news.yahoo.com/%E9%95%B7%E6%9C%9F%E7%8D%BB%E8%BA%AB%E5%85%AC%E7%9B%8A-%E8%AB%BE%E8%8F%AF%E9%97%9C%E6%B3%A8%E7%A4%BE%E6%9C%83%E5%BC%B1%E5%8B%A2%E5%9B%9E%E9%A5%8B%E5%9C%A8%E5%9C%B0%E7%A4%BE%E5%8D%80-095800945.html\n",
      "https://tw.news.yahoo.com/%E4%B9%85%E5%9D%90%E8%85%B0%E7%97%A0%E7%97%9B-5%E5%AF%A6%E7%94%A8%E7%A9%B4%E4%BD%8D%E5%8A%A9%E8%88%92%E7%B7%A9-081109989.html\n",
      "https://tw.news.yahoo.com/%E6%95%B4%E5%85%A8%E6%80%A7%E5%81%A5%E5%BA%B7%E7%AE%A1%E7%90%86-%E4%BB%A5%E4%BA%BA%E7%82%BA%E4%B8%AD%E5%BF%83%E5%95%9F%E5%8B%95%E8%87%AA%E7%99%92-011813364.html\n",
      "https://tw.news.yahoo.com/%E5%8F%B0%E7%81%A3%E4%B9%B3%E7%99%8C%E6%82%A3%E8%80%85%E6%AF%94%E6%AD%90%E7%BE%8E%E5%B0%8F10%E6%AD%B2-%E5%B9%B4%E8%BC%95%E5%A5%B3%E6%80%A7%E9%81%A9%E5%90%88%E8%B6%85%E9%9F%B3%E6%B3%A2%E6%AA%A2%E6%9F%A5-084100422.html\n",
      "https://tw.news.yahoo.com/%E6%96%B0%E7%A0%94%E7%A9%B6-%E6%97%A5%E6%94%9D%E5%8F%96800%E5%85%AC%E5%85%8B%E8%94%AC%E8%8F%9C%E5%92%8C%E6%B0%B4%E6%9E%9C-%E5%8F%AF%E9%99%8D%E7%96%BE%E7%97%85%E6%AD%BB%E4%BA%A1%E9%A2%A8%E9%9A%AA-030207802.html\n",
      "https://tw.news.yahoo.com/%E5%9D%90%E8%91%97%E6%8A%B1%E5%B0%8F%E8%85%BF30%E7%A7%92-%E8%BC%95%E9%AC%86%E7%9A%84%E9%AB%96%E9%97%9C%E7%AF%80%E8%AE%93%E5%BE%AA%E7%92%B0%E6%B4%BB%E5%8C%96-060000441.html\n",
      "https://tw.news.yahoo.com/%E7%98%A6%E8%BA%AB%E7%9A%84%E8%85%A6%E5%85%A7%E9%9D%A9%E5%91%BD-%E6%B8%9B%E9%87%8D%E8%A6%81%E5%85%88%E6%8A%8A%E9%BA%B5%E5%8C%85%E6%89%94-%E9%82%8A-020204448.html\n"
     ]
    },
    {
     "name": "stdout",
     "output_type": "stream",
     "text": [
      "https://tw.news.yahoo.com/%E7%BF%B9%E8%87%80%E5%B0%B1%E5%BE%97%E7%B7%B4%E6%B7%B1%E8%B9%B2-%E6%8F%9B%E5%81%9A-%E6%A9%8B%E5%BC%8F-%E8%BC%95%E9%AC%86%E4%B8%8A%E6%89%8B-003209994.html\n",
      "https://tw.news.yahoo.com/%E5%A4%A7%E4%BF%9D%E9%A4%8A%E8%A6%81%E5%81%9A%E5%A5%BD-%E6%89%8D%E8%83%BD%E6%9C%89%E6%95%88%E6%8A%97%E8%A1%B0%E8%80%81-081124112.html\n",
      "https://tw.news.yahoo.com/%E7%AB%B9%E5%B8%82%E7%99%8C%E7%97%87%E7%AF%A9%E6%AA%A2%E9%96%8B%E8%B7%91-%E9%A1%A7%E5%81%A5%E5%BA%B7%E6%8A%BD%E8%90%AC%E9%87%91-215007079.html\n",
      "https://tw.news.yahoo.com/22%E5%91%A8%E6%97%A9%E7%94%A2%E5%85%92-%E5%B7%B4%E6%8E%8C%E4%BB%99%E5%AD%90%E6%AD%A1%E5%96%9C%E5%87%BA%E9%99%A2-215007954.html\n",
      "https://tw.news.yahoo.com/%E9%81%BA%E5%82%B3%E6%80%A7%E9%BB%83%E6%96%91%E9%83%A8%E7%97%85%E8%AE%8A-%E6%89%BE%E5%88%B0%E8%A7%A3%E6%96%B9-160000107.html\n",
      "https://tw.news.yahoo.com/%E6%83%B3%E6%B8%9B%E8%82%A5-%E9%80%999%E7%A8%AE%E9%AB%98%E8%9B%8B%E7%99%BD%E9%A3%9F%E7%89%A9%E4%B8%8D%E5%8F%AF%E5%B0%91-010000327.html\n",
      "https://tw.news.yahoo.com/%E6%87%B7%E5%AD%95%E4%BA%86-%E5%AE%9A%E8%A6%81%E5%90%91%E5%B7%A6%E5%81%B4%E7%9D%A1-%E5%BC%B5%E5%9C%96%E5%91%8A%E8%A8%B4%E4%BD%A0%E6%80%8E%E9%BA%BC%E7%9D%A1%E6%9C%80%E5%A5%BD-000000510.html\n",
      "https://tw.news.yahoo.com/%E6%A4%8D%E8%90%83%E7%9A%82%E7%B2%89%E6%AD%A3%E5%A4%AF-%E5%A4%A9%E7%84%B6%E6%BD%94%E6%B7%A8%E5%8A%9B-%E7%84%A1%E6%B7%BB%E5%8A%A0-%E5%AC%B0%E5%B9%BC%E5%85%92%E8%A1%A3%E7%89%A9%E4%B9%9F%E9%81%A9%E7%94%A8-100000920.html\n",
      "https://tw.news.yahoo.com/%E6%AF%8F%E5%A4%A9%E8%B7%AA%E8%91%97%E6%8A%AC%E6%89%8B%E8%87%82-%E6%B4%BB%E5%8B%95%E8%82%A9%E8%83%9B%E9%AA%A8-%E7%87%83%E8%84%82%E6%9B%B4%E6%9C%89%E6%95%88%E7%8E%87-080000932.html\n",
      "https://tw.news.yahoo.com/%E8%A1%93%E5%89%8D%E5%90%83omega-3%E9%A3%B2%E9%A3%9F-%E6%81%90%E8%A1%80%E6%B5%81%E4%B8%8D%E6%AD%A2-070500481.html\n",
      "https://tw.news.yahoo.com/%E6%9B%B4%E5%B9%B4%E6%9C%9F%E5%A5%B3%E6%80%A7%E6%9B%B4%E6%98%93%E5%BE%97%E7%B3%96%E5%B0%BF%E7%97%85-%E5%B7%A7%E5%85%8B%E5%8A%9B%E9%80%99%E6%A8%A3%E5%90%83%E9%99%8D%E7%99%BC%E7%97%85%E7%8E%87-050000040.html\n",
      "https://tw.news.yahoo.com/%E6%94%9D%E8%AD%B7%E8%85%BA%E8%82%A5%E5%A4%A7%E6%82%A3%E8%80%85%E5%90%83%E6%84%9F%E5%86%92%E8%97%A5-%E5%B0%8F%E5%BF%83%E6%80%A5%E6%80%A7%E5%B0%BF%E6%B6%B2%E6%BB%AF%E7%95%99-081700771.html\n",
      "https://tw.news.yahoo.com/%E7%99%BB%E9%9D%A9%E7%86%B1%E8%82%86%E8%99%90%E5%85%A8%E7%90%83-%E5%87%BA%E5%9C%8B%E6%B0%91%E7%9C%BE%E8%A6%81%E7%89%B9%E5%88%A5%E5%B0%8F%E5%BF%83-031852507.html\n",
      "https://tw.news.yahoo.com/%E6%89%8B%E9%80%99%E6%A8%A3%E6%8A%96%E3%80%80%E5%8F%AF%E8%83%BD%E7%BD%B9%E6%82%A3%E5%B7%B4%E9%87%91%E6%A3%AE%E6%B0%8F%E7%97%87-040015402.html\n",
      "https://tw.news.yahoo.com/%E5%AC%B0%E5%B9%BC%E5%85%92%E9%80%81%E6%89%98%E6%80%8E%E9%BA%BC%E9%81%B8-%E7%88%B8%E5%AA%BD%E6%8E%8C%E6%8F%A14%E5%A4%A7%E9%87%8D%E9%BB%9E%E5%A5%BD%E5%AE%89%E5%BF%83-010207733.html\n",
      "https://tw.news.yahoo.com/%E8%BB%8A%E7%A6%8D%E5%B0%8E%E8%87%B4%E5%87%BA%E8%A1%80%E6%80%A7%E8%85%A6%E4%B8%AD%E9%A2%A8-%E4%B8%AD%E9%86%AB%E9%87%9D%E7%81%B8%E6%B2%BB%E7%99%82%E6%98%8E%E9%A1%AF%E6%94%B9%E5%96%84-001200812.html\n",
      "https://tw.news.yahoo.com/%E9%BB%83%E6%96%91%E9%83%A8%E7%97%85%E8%AE%8A%E5%BD%B1%E9%9F%BF%E5%B9%BC%E7%AB%A5-%E5%8F%B0%E7%A0%94%E7%A9%B6%E5%9C%98%E9%9A%8A%E6%89%BE%E8%A7%A3%E6%96%B9-041417716.html\n",
      "https://tw.news.yahoo.com/%E4%BD%8E%E8%A1%80%E7%B3%96%E5%88%A5%E5%90%83%E5%B7%A7%E5%85%8B%E5%8A%9B-%E9%BA%B5%E5%8C%85-%E6%95%91%E6%80%A5%E9%A3%9F%E7%89%A9%E9%80%99%E6%A8%A3%E5%90%83-021603144.html\n",
      "https://tw.news.yahoo.com/%E6%89%BE%E5%88%B0%E8%82%BA%E7%82%8E%E6%8A%97%E8%97%A5%E6%80%A7%E5%8E%9F%E5%9B%A0-%E9%98%B2%E5%A0%B5%E8%B6%85%E7%B4%9A%E7%B4%B0%E8%8F%8C%E8%AA%95%E7%94%9F-052018075.html\n",
      "https://tw.news.yahoo.com/%E7%B3%96%E5%B0%BF%E7%97%85%E5%90%83%E6%B0%B4%E6%9E%9C3%E8%A8%A3%E7%AB%85-%E4%BD%8E%E5%8D%87%E7%B3%96%E8%8A%AD%E6%A8%82-%E8%98%8B%E6%9E%9C%E5%AE%89%E5%BF%83%E5%90%83-021604593.html\n",
      "https://tw.news.yahoo.com/%E7%9B%8A%E7%94%9F%E8%8F%8C%E5%90%83%E9%81%8E%E9%87%8F-%E9%80%99%E4%BA%9B%E6%83%85%E5%BD%A2%E8%A6%81%E6%B3%A8%E6%84%8F-072500052.html\n",
      "https://tw.news.yahoo.com/%E9%BC%BE%E8%81%B2%E5%A6%82%E9%9B%B7%E7%9D%A1%E4%B8%8D%E5%A5%BD-%E9%96%8B%E5%88%80%E9%87%8D%E6%8B%BE%E5%A5%BD%E7%9C%A0-021700976.html\n",
      "https://tw.news.yahoo.com/%E7%B4%85%E5%BF%83%E8%8A%AD%E6%A8%82%E9%99%8D%E8%A1%80%E7%B3%96-%E6%8E%A7%E9%86%A3%E7%A7%98%E8%A8%A3-%E5%85%88%E5%AD%B8%E6%9C%83%E6%9B%BF%E6%8F%9B%E9%A3%9F%E7%89%A9-011606109.html\n",
      "https://tw.news.yahoo.com/%E7%AB%8B%E5%A4%8F%E9%AB%98%E6%BA%AB%E6%BD%AE%E6%BF%95%E9%87%8D%E9%A4%8A%E5%BF%83-%E7%B4%85%E8%B1%86-%E8%98%8B%E6%9E%9C%E9%82%84%E8%83%BD%E8%A3%9C%E8%A1%80%E6%B6%88%E8%84%82-040000287.html\n",
      "https://tw.news.yahoo.com/%E4%BF%AE%E5%BE%A9%E8%85%A6%E7%B4%B0%E8%83%9E-%E4%BF%9D%E8%AD%B7%E8%85%A6%E8%A1%80%E7%AE%A1-%E8%B1%86%E6%BC%BF-%E9%80%99%E5%85%A9%E6%A8%A3%E6%9B%B4%E8%83%BD%E9%98%B2%E5%A4%B1%E6%99%BA-020000468.html\n",
      "https://tw.news.yahoo.com/%E6%B8%9B%E8%82%A5%E5%81%9C%E6%BB%AF%E6%9C%9F-6%E6%8B%9B%E7%AA%81%E7%A0%B4%E6%B8%9B%E8%82%A5%E5%A4%A7%E6%95%B5-004000552.html\n",
      "https://tw.news.yahoo.com/%E7%9C%8B%E4%B8%8D%E8%A6%8B%E7%9A%84%E5%8F%AF%E6%80%95%E6%AE%BA%E6%89%8B-%E4%BA%8C%E6%89%8B%E8%8F%B8-%E4%B8%89%E6%89%8B%E8%8F%B8%E5%9D%87%E6%98%AF%E8%87%B4%E7%99%8C%E7%89%A9-005200312.html\n",
      "https://tw.news.yahoo.com/%E5%81%A5%E8%BA%AB%E5%99%A8%E6%9D%90%E8%B6%85%E5%99%81-%E6%AF%94%E9%A6%AC%E6%A1%B6%E9%AB%92362%E5%80%8D-050200967.html\n",
      "https://tw.news.yahoo.com/%E5%9C%8B%E7%97%85-%E5%A4%A7%E8%85%B8%E7%9B%B4%E8%85%B8%E7%99%8C-%E9%80%A39%E5%B9%B4%E7%99%8C%E7%97%87%E6%A6%9C%E9%A6%96-103400625.html\n",
      "https://tw.news.yahoo.com/%E5%8F%AA%E6%95%B7%E8%87%89%E5%B0%B1%E5%A4%AA%E5%8F%AF%E6%83%9C-%E5%B0%8F%E9%BB%83%E7%93%9C%E4%BF%83%E6%8E%92%E5%BB%A2%E5%8F%88%E8%83%BD%E6%8A%91%E5%88%B6%E8%84%82%E8%82%AA%E5%9B%A4%E7%A9%8D-030000453.html\n",
      "https://tw.news.yahoo.com/%E6%89%8B%E6%8C%87%E6%8C%89%E5%A3%93%E7%9A%AE%E8%86%9A%E5%BD%88%E4%B8%8D%E5%9B%9E%E5%87%B9%E9%99%B7%E4%BA%86%E3%80%80%E5%B0%8F%E5%BF%83%EF%BC%81%E5%8F%AF%E8%83%BD%E8%82%9D%E6%9C%89%E5%95%8F%E9%A1%8C-070017536.html\n",
      "https://tw.news.yahoo.com/%E5%B7%9D%E6%99%AE%E9%87%8D%E5%A4%A7%E5%8B%9D%E5%88%A9-%E6%96%B0%E5%81%A5%E4%BF%9D%E6%B3%95%E5%8F%96%E4%BB%A3%E6%AD%90%E8%A8%98%E5%81%A5%E4%BF%9D-105400395.html\n",
      "https://tw.news.yahoo.com/%E8%BC%AA%E6%A4%85%E8%B6%8A%E5%A4%A7%E8%B6%8A%E7%A9%A9-4%E9%81%B8%E8%B3%BC%E9%87%8D%E9%BB%9E%E5%BF%AB%E8%A8%98%E4%B8%8B%E4%BE%86-073800677.html\n",
      "https://tw.news.yahoo.com/%E5%81%9A%E5%A5%BD%E9%80%99-%E4%BB%B6%E4%BA%8B-%E8%80%81%E5%BE%8C%E4%BA%BA%E7%94%9F%E4%B8%8D%E6%84%81%E9%8C%A2-081728828.html\n",
      "https://tw.news.yahoo.com/%E5%81%A5%E5%BA%B7%E6%8B%89%E8%AD%A6%E5%A0%B1-%E4%B8%8A%E7%8F%AD%E6%97%8F%E5%9B%9B%E6%88%90%E8%B6%85%E9%87%8D-%E4%BA%94%E6%88%90%E9%81%8B%E5%8B%95%E4%B8%8D%E8%B6%B3-013200120.html\n",
      "https://tw.news.yahoo.com/%E8%97%A5%E5%93%81%E7%95%B6%E5%8C%96%E5%A6%9D%E5%93%81-%E7%B6%B2%E5%A4%AF%E6%B3%B0%E5%9C%8B%E9%99%A4%E6%AF%9B%E8%86%8F%E9%81%AD%E4%B8%8B%E6%9E%B6%E5%9B%9E%E6%94%B6-113005962.html\n",
      "https://tw.news.yahoo.com/%E8%82%BA%E7%82%8E%E7%B4%B0%E8%8F%8C%E6%8A%97%E8%97%A5%E6%80%A7%E5%8E%9F%E5%9B%A0%E6%89%BE%E5%88%B0%E4%BA%86-%E5%8F%B0%E5%A4%A7-%E5%8C%97%E6%A6%AE%E5%9C%98%E9%9A%8A%E6%9C%89%E5%8A%A9%E6%96%B0%E8%97%A5%E9%96%8B%E7%99%BC-092000626.html\n",
      "https://tw.news.yahoo.com/%E9%9B%85%E8%99%8E%E7%A7%91%E6%8A%80%E6%96%B0%E8%81%9E-%E5%AF%8C%E5%A3%AB%E5%B1%B1%E8%8C%B6%E5%8C%85%E8%88%87%E5%BF%8D%E8%80%85%E8%8C%B6%E5%8C%85-064051759.html\n",
      "https://tw.news.yahoo.com/%E9%99%A4%E4%BA%86%E7%81%AB%E6%98%9F-spacex%E4%B9%9F%E7%B6%93%E7%87%9F%E5%9C%B0%E7%90%83-4425%E9%A1%86%E8%A1%9B%E6%98%9F2019%E5%B9%B4%E6%8F%90%E4%BE%9B%E7%B6%B2%E8%B7%AF-120019748.html\n",
      "https://tw.news.yahoo.com/nasa%E5%A4%AA%E7%A9%BA%E8%88%B9%E7%A9%BF%E8%B6%8A-%E5%9C%9F%E6%98%9F%E8%88%87%E6%98%9F%E7%92%B0%E9%96%93%E7%A9%BA%E6%B4%9E%E7%84%A1%E7%89%A9-041417894.html\n",
      "https://tw.news.yahoo.com/%E9%99%A4%E4%BA%86%E8%B3%A3%E5%AE%B6%E4%BF%B1-ikea%E5%B0%87%E9%96%8B%E8%A8%AD%E7%8D%A8%E7%AB%8B%E9%A4%90%E5%BB%B3-090012629.html\n",
      "https://tw.news.yahoo.com/%E5%87%BA%E9%96%80-%E5%A4%A7%E4%BA%BA%E5%B0%8F%E5%AD%A9%E9%83%BD%E8%A9%B2%E9%AB%94%E9%A9%97%E7%9A%84-%E5%95%9F%E5%8B%95%E5%89%B5%E6%96%B0%E5%AF%A6%E9%A9%97%E5%A0%B4-%E5%8E%9F%E4%BE%86%E7%A7%91%E6%8A%80%E5%8F%AF%E4%BB%A5%E9%80%99%E6%A8%A3%E7%8E%A9%E5%91%80-064500142.html\n",
      "https://tw.news.yahoo.com/%E6%9D%9C%E6%8B%9C%E5%B0%B1%E6%98%AF%E8%B1%AA%E6%B0%A3-%E5%81%95%E5%BE%AE%E8%BB%9F%E6%8E%A8%E5%87%BA%E7%AC%AC-%E6%AC%BE%E5%9F%8E%E5%B8%82%E7%B4%9A%E5%AD%97%E9%AB%94-080057524.html\n",
      "http://bit.ly/2p6Euz8\n"
     ]
    },
    {
     "ename": "AttributeError",
     "evalue": "'NoneType' object has no attribute 'group'",
     "output_type": "error",
     "traceback": [
      "\u001b[0;31m---------------------------------------------------------------------------\u001b[0m",
      "\u001b[0;31mAttributeError\u001b[0m                            Traceback (most recent call last)",
      "\u001b[0;32m<ipython-input-261-f47d2366ee28>\u001b[0m in \u001b[0;36m<module>\u001b[0;34m()\u001b[0m\n\u001b[1;32m      2\u001b[0m     \u001b[0;32mfor\u001b[0m \u001b[0murl\u001b[0m \u001b[0;32min\u001b[0m \u001b[0murls\u001b[0m\u001b[0;34m:\u001b[0m\u001b[0;34m\u001b[0m\u001b[0m\n\u001b[1;32m      3\u001b[0m         \u001b[0mprint\u001b[0m\u001b[0;34m(\u001b[0m\u001b[0murl\u001b[0m\u001b[0;34m)\u001b[0m\u001b[0;34m\u001b[0m\u001b[0m\n\u001b[0;32m----> 4\u001b[0;31m         \u001b[0mnid\u001b[0m \u001b[0;34m=\u001b[0m \u001b[0mparse_nid\u001b[0m\u001b[0;34m(\u001b[0m\u001b[0murl\u001b[0m\u001b[0;34m)\u001b[0m\u001b[0;34m\u001b[0m\u001b[0m\n\u001b[0m\u001b[1;32m      5\u001b[0m         \u001b[0mfilename\u001b[0m \u001b[0;34m=\u001b[0m \u001b[0;34m'{0}/{1}'\u001b[0m\u001b[0;34m.\u001b[0m\u001b[0mformat\u001b[0m\u001b[0;34m(\u001b[0m\u001b[0mcategory\u001b[0m\u001b[0;34m,\u001b[0m \u001b[0mnid\u001b[0m\u001b[0;34m)\u001b[0m\u001b[0;34m\u001b[0m\u001b[0m\n\u001b[1;32m      6\u001b[0m \u001b[0;34m\u001b[0m\u001b[0m\n",
      "\u001b[0;32m<ipython-input-62-3b13f35f80cd>\u001b[0m in \u001b[0;36mparse_nid\u001b[0;34m(url)\u001b[0m\n\u001b[1;32m      4\u001b[0m \u001b[0;32mdef\u001b[0m \u001b[0mparse_nid\u001b[0m\u001b[0;34m(\u001b[0m\u001b[0murl\u001b[0m\u001b[0;34m)\u001b[0m\u001b[0;34m:\u001b[0m\u001b[0;34m\u001b[0m\u001b[0m\n\u001b[1;32m      5\u001b[0m     \u001b[0mm\u001b[0m \u001b[0;34m=\u001b[0m \u001b[0murl_re\u001b[0m\u001b[0;34m.\u001b[0m\u001b[0msearch\u001b[0m\u001b[0;34m(\u001b[0m\u001b[0murl\u001b[0m\u001b[0;34m)\u001b[0m\u001b[0;34m\u001b[0m\u001b[0m\n\u001b[0;32m----> 6\u001b[0;31m     \u001b[0;32mreturn\u001b[0m \u001b[0mm\u001b[0m\u001b[0;34m.\u001b[0m\u001b[0mgroup\u001b[0m\u001b[0;34m(\u001b[0m\u001b[0;36m1\u001b[0m\u001b[0;34m)\u001b[0m\u001b[0;34m\u001b[0m\u001b[0m\n\u001b[0m",
      "\u001b[0;31mAttributeError\u001b[0m: 'NoneType' object has no attribute 'group'"
     ]
    }
   ],
   "source": [
    "for category, urls in links.items():\n",
    "    for url in urls:\n",
    "        print(url)\n",
    "        nid = parse_nid(url)\n",
    "        filename = '{0}/{1}'.format(category, nid)\n",
    "        \n",
    "        if os.path.isfile(filename):\n",
    "            continue\n",
    "\n",
    "        content = get_new_content(url)\n",
    "        with open(filename, 'w') as f:\n",
    "            print(content, file=f)"
   ]
  },
  {
   "cell_type": "markdown",
   "metadata": {
    "collapsed": true
   },
   "source": [
    "## Use selenium"
   ]
  },
  {
   "cell_type": "code",
   "execution_count": 15,
   "metadata": {
    "collapsed": true
   },
   "outputs": [],
   "source": [
    "from selenium import webdriver\n",
    "driver = webdriver.Chrome()"
   ]
  },
  {
   "cell_type": "code",
   "execution_count": 17,
   "metadata": {},
   "outputs": [
    {
     "data": {
      "text/plain": [
       "'politics'"
      ]
     },
     "execution_count": 17,
     "metadata": {},
     "output_type": "execute_result"
    }
   ],
   "source": [
    "cat = categories[0]\n",
    "driver.get('https://tw.news.yahoo.com/{}/archive'.format(cat))\n",
    "cat"
   ]
  },
  {
   "cell_type": "code",
   "execution_count": 18,
   "metadata": {},
   "outputs": [
    {
     "name": "stdout",
     "output_type": "stream",
     "text": [
      "28\n"
     ]
    }
   ],
   "source": [
    "urls = set()\n",
    "for article in driver.find_elements_by_css_selector('.Cf a'):\n",
    "    if article.text:\n",
    "#         urls.add(article.text)\n",
    "        urls.add(article.get_attribute('href'))\n",
    "print(len(urls))"
   ]
  },
  {
   "cell_type": "code",
   "execution_count": 19,
   "metadata": {
    "scrolled": false
   },
   "outputs": [
    {
     "name": "stdout",
     "output_type": "stream",
     "text": [
      "28\n"
     ]
    }
   ],
   "source": [
    "# used for: https://tw.news.yahoo.com/politics\n",
    "for article in driver.find_elements_by_css_selector('div#mrt-node-Col1-1-Hero a'):\n",
    "    if article.text:\n",
    "#         urls.add(article.text)\n",
    "        urls.add(article.get_attribute('href'))\n",
    "print(len(urls))"
   ]
  },
  {
   "cell_type": "code",
   "execution_count": null,
   "metadata": {
    "collapsed": true
   },
   "outputs": [],
   "source": []
  },
  {
   "cell_type": "code",
   "execution_count": 204,
   "metadata": {
    "collapsed": true
   },
   "outputs": [],
   "source": [
    "import time\n",
    "def get_urls(cat):\n",
    "    driver.get('https://tw.news.yahoo.com/{}'.format(cat))\n",
    "\n",
    "    urls = set()\n",
    "    for article in driver.find_elements_by_css_selector('.js-stream-content > div:not(.controller) a:not(.comment-btn-link)'):\n",
    "        if article.text:\n",
    "            urls.add(article.get_attribute('href'))\n",
    "    for article in driver.find_elements_by_css_selector('div#mrt-node-Col1-1-Hero a'):\n",
    "        if article.text:\n",
    "            urls.add(article.get_attribute('href'))\n",
    "    print(len(urls))\n",
    "    return urls"
   ]
  },
  {
   "cell_type": "code",
   "execution_count": 189,
   "metadata": {},
   "outputs": [
    {
     "data": {
      "text/plain": [
       "60"
      ]
     },
     "execution_count": 189,
     "metadata": {},
     "output_type": "execute_result"
    }
   ],
   "source": [
    "len(links['politics'])"
   ]
  },
  {
   "cell_type": "code",
   "execution_count": null,
   "metadata": {
    "collapsed": true
   },
   "outputs": [],
   "source": []
  }
 ],
 "metadata": {
  "kernelspec": {
   "display_name": "Python 3",
   "language": "python",
   "name": "python3"
  },
  "language_info": {
   "codemirror_mode": {
    "name": "ipython",
    "version": 3
   },
   "file_extension": ".py",
   "mimetype": "text/x-python",
   "name": "python",
   "nbconvert_exporter": "python",
   "pygments_lexer": "ipython3",
   "version": "3.6.1"
  }
 },
 "nbformat": 4,
 "nbformat_minor": 2
}
