{
 "cells": [
  {
   "cell_type": "markdown",
   "metadata": {},
   "source": [
    "# Yahoo News Crawl"
   ]
  },
  {
   "cell_type": "code",
   "execution_count": 1,
   "metadata": {
    "collapsed": false
   },
   "outputs": [],
   "source": [
    "import requests\n",
    "from bs4 import BeautifulSoup\n",
    "\n",
    "req = requests.get('https://tw.news.yahoo.com/')\n",
    "soup = BeautifulSoup(req.text, 'lxml')"
   ]
  },
  {
   "cell_type": "markdown",
   "metadata": {},
   "source": [
    "### Get categories"
   ]
  },
  {
   "cell_type": "code",
   "execution_count": 2,
   "metadata": {
    "collapsed": false
   },
   "outputs": [
    {
     "name": "stdout",
     "output_type": "stream",
     "text": [
      "https://tw.news.yahoo.com\n",
      "https://tw.news.yahoo.com/politics\n",
      "https://tw.news.yahoo.com/finance\n",
      "https://tw.news.yahoo.com/entertainment\n",
      "https://tw.news.yahoo.com/sports\n",
      "https://tw.news.yahoo.com/society\n",
      "https://tw.news.yahoo.com/local\n",
      "https://tw.news.yahoo.com/world\n",
      "https://tw.news.yahoo.com/lifestyle\n",
      "https://tw.news.yahoo.com/health\n",
      "https://tw.news.yahoo.com/technology\n",
      "https://tw.news.yahoo.com/travel\n",
      "https://tw.news.yahoo.com/weather/\n",
      "https://tw.news.yahoo.com/odd\n",
      "https://tw.news.yahoo.com/blogs\n",
      "https://tw.news.yahoo.com/video\n",
      "https://tw.news.yahoo.com/topic/Uk_Election\n",
      "https://tw.news.yahoo.com/topic/Terrorist%20attack\n",
      "https://tw.news.yahoo.com/topic/donaldtrump\n"
     ]
    }
   ],
   "source": [
    "categories = []\n",
    "for category in soup.select('.nr-applet-nav-item.nr-list-link.openSubNav'):\n",
    "    categories.append(category.attrs['href'].strip('/').split('/')[-1])\n",
    "    print(category.attrs['href'])"
   ]
  },
  {
   "cell_type": "markdown",
   "metadata": {},
   "source": [
    "### Remove unwanted categories"
   ]
  },
  {
   "cell_type": "code",
   "execution_count": 3,
   "metadata": {
    "collapsed": false
   },
   "outputs": [
    {
     "data": {
      "text/plain": [
       "['politics',\n",
       " 'finance',\n",
       " 'entertainment',\n",
       " 'sports',\n",
       " 'society',\n",
       " 'local',\n",
       " 'world',\n",
       " 'lifestyle',\n",
       " 'health',\n",
       " 'technology',\n",
       " 'travel',\n",
       " 'weather']"
      ]
     },
     "execution_count": 3,
     "metadata": {},
     "output_type": "execute_result"
    }
   ],
   "source": [
    "categories = categories[1:-6]\n",
    "categories"
   ]
  },
  {
   "cell_type": "markdown",
   "metadata": {},
   "source": [
    "### Get news list"
   ]
  },
  {
   "cell_type": "code",
   "execution_count": 4,
   "metadata": {
    "collapsed": false
   },
   "outputs": [],
   "source": [
    "req = requests.get('https://tw.news.yahoo.com/{}'.format(categories[0]))\n",
    "soup = BeautifulSoup(req.text, 'lxml')"
   ]
  },
  {
   "cell_type": "code",
   "execution_count": 5,
   "metadata": {
    "collapsed": false,
    "scrolled": true
   },
   "outputs": [
    {
     "name": "stdout",
     "output_type": "stream",
     "text": [
      "{'https://tw.news.yahoo.com/-015909701.html', 'https://tw.news.yahoo.com/%E4%BB%8A%E5%B9%B4%E6%96%B0%E8%88%88%E4%BA%9E%E6%B4%B2%E6%BC%B2%E5%B9%85%E5%B1%85%E5%86%A0-%E7%B6%93%E6%BF%9F%E6%95%B8%E6%93%9A%E6%9C%89%E6%92%90-%E5%8D%B0%E5%BA%A6%E8%82%A1%E5%B8%82%E4%B8%8D%E7%95%8F%E9%AB%98-015611093.html', 'https://tw.news.yahoo.com/%E5%BD%B1%E9%9F%B3-%E5%B9%B4%E9%87%91%E6%94%B9%E9%9D%A9%E6%B1%BA%E6%88%B0%E8%87%A8%E6%99%82%E6%9C%83-15%E6%97%A5%E6%8A%97%E7%88%AD%E5%86%8D%E8%B5%B7-012428362.html', 'https://tw.news.yahoo.com/%E4%BB%8A%E5%B9%B4%E6%96%B0%E8%88%88%E4%BA%9E%E6%B4%B2%E6%BC%B2%E5%B9%85%E5%B1%85%E5%86%A0-%E7%B6%93%E6%BF%9F%E6%95%B8%E6%93%9A%E6%9C%89%E6%92%90-%E5%8D%B0%E5%BA%A6%E8%82%A1%E5%B8%82%E4%B8%8D%E7%95%8F%E9%AB%98-015611648.html', 'https://tw.news.yahoo.com/%E9%9B%BB%E5%AD%90%E8%A3%9D%E7%BD%AE%E7%A6%81%E4%BB%A4-iata%E6%8F%90%E6%9B%BF%E4%BB%A3%E6%96%B9%E6%A1%88-012118565.html', 'https://tw.news.yahoo.com/%E5%B0%88%E8%A8%AA-%E5%8C%97%E5%B8%82%E5%8F%83%E9%81%B8%E7%88%86%E7%82%B8-%E4%B8%81%E5%AE%88%E4%B8%AD-%E9%81%B5%E5%AE%88%E9%BB%A8%E5%85%A7%E8%A6%8F%E5%89%87-014500039.html', 'https://tw.news.yahoo.com/%E5%A4%96%E9%A3%9F%E8%B2%BB5%E6%9C%88%E5%A4%9A133%E5%85%83-%E6%BC%B2%E5%B9%852-08-%E5%89%B52%E5%B9%B4%E6%96%B0%E9%AB%98-020928548.html', 'https://tw.news.yahoo.com/%E5%BE%B7%E6%B3%95%E8%BB%B8%E5%BF%83%E8%83%BD%E5%90%A6%E3%80%8C%E8%AE%93%E6%AD%90%E6%B4%B2%E5%86%8D%E6%AC%A1%E5%81%89%E5%A4%A7%E3%80%8D%EF%BC%9F-013731926.html', 'https://tw.news.yahoo.com/%E6%96%AF%E7%89%B9%E9%87%91%E9%A0%90%E6%96%AF%E8%98%87%E6%A0%BC%E8%98%AD2025%E5%B9%B4%E7%8D%A8%E7%AB%8B-%E7%94%B1%E4%BA%BA%E6%B0%91%E6%B1%BA%E5%AE%9A-012743405.html', 'https://tw.news.yahoo.com/%E5%85%B1%E8%BB%8D%E7%9B%B4%E5%8D%87%E6%A9%9F%E7%96%91%E9%97%96%E5%8D%B0%E5%BA%A6%E9%A0%98%E7%A9%BA-%E9%99%B8%E5%9C%8B%E9%98%B2%E9%83%A8%E5%90%A6%E8%AA%8D-011217425.html', 'https://tw.news.yahoo.com/%E5%A4%96%E4%BA%A4%E5%8D%B1%E6%A9%9F%E5%8D%87%E7%B4%9A-%E5%8D%A1%E9%81%94%E5%A4%96%E9%95%B7%E7%B1%B2%E5%86%B7%E9%9D%9C-013600083.html', 'https://tw.news.yahoo.com/%E6%B0%91%E7%94%9F%E7%89%A9%E5%83%B9%E9%A3%8627%E6%9C%88%E9%AB%98%E9%BB%9E-%E9%AE%AE%E5%A5%B6%E6%BC%B2%E5%B9%859-15-%E5%89%B5%E9%80%BE5%E5%B9%B4%E6%96%B0%E9%AB%98-014327421.html', 'https://tw.news.yahoo.com/%E6%BE%B3%E6%B4%B2%E6%A7%8D%E6%89%8B%E9%97%96%E4%BD%8F%E5%AE%85%E5%8A%AB%E6%8C%81%E4%BA%BA%E8%B3%AA-%E9%80%A0%E6%88%902%E6%AD%BB4%E5%82%B7-010741264.html', 'https://tw.news.yahoo.com/%E6%B0%91%E9%80%B2%E9%BB%A8%E5%9C%98%E7%9B%BC%E9%96%8B3%E6%AC%A1%E8%87%A8%E6%99%82%E6%9C%83-%E8%AD%B0%E7%A8%8B%E5%87%BA%E7%88%90-015027574.html', 'https://tw.finance.yahoo.com/news/%E5%9C%8B%E5%85%A7%E9%87%91%E8%9E%8D-9-35%E6%AD%A2-%E6%8B%86%E6%AC%BE%E5%B8%82%E5%A0%B4%E9%9A%94%E5%A4%9C%E6%8B%86%E6%AC%BE%E6%88%90%E4%BA%A4%E5%88%A9%E7%8E%87%E7%82%BA0-177-013628090.html', 'https://tw.news.yahoo.com/%E7%99%BC%E5%B1%95%E5%8D%8A%E5%B0%8E%E9%AB%94%E7%94%A2%E6%A5%AD-%E8%94%A1%E7%B8%BD%E7%B5%B1%E5%BC%B7%E8%AA%BF%E5%89%8D%E7%9E%BB%E9%87%8D%E8%A6%81%E6%80%A7-012509608.html', 'https://tw.news.yahoo.com/%E6%BE%B3%E7%B8%BD%E7%90%86%E5%AE%9A%E8%AA%BF-%E5%A2%A8%E7%88%BE%E6%9C%AC%E5%8A%AB%E6%8C%81%E6%A1%88%E6%98%AF%E6%81%90%E6%80%96%E6%94%BB%E6%93%8A-013200202.html', 'https://tw.news.yahoo.com/%E6%BE%B3%E6%B4%B2%E6%8A%8A%E5%A2%A8%E7%88%BE%E6%9C%AC%E6%98%A8%E5%A4%A9%E7%9A%84%E7%88%86%E7%82%B8%E6%8C%BE%E6%8C%81%E4%BA%8B%E4%BB%B6%E5%88%97%E6%81%90%E6%94%BB-015838826.html', 'https://tw.news.yahoo.com/%E7%9B%B4%E6%92%AD-%E5%9C%8B%E7%99%BC%E9%99%A2%E5%9C%9F%E5%9C%B0%E6%98%AF%E5%9C%8B%E6%B0%91%E9%BB%A8%E5%BC%B7%E5%8F%96%E8%B1%AA%E5%A5%AA-%E9%BB%A8%E7%94%A2%E6%9C%83%E4%BB%8A%E8%88%89%E8%BE%A6%E8%81%BD%E8%AD%89%E6%9C%83-020000878.html', 'https://tw.news.yahoo.com/video/%E9%80%A3%E6%97%A5%E5%A4%A7%E9%9B%A8%E8%A5%B2%E5%8F%B0-%E5%B8%82%E5%A0%B4%E8%91%89%E8%8F%9C%E5%83%B9%E6%A0%BC%E7%BF%BB%E5%80%8D%E6%BC%B2-015110153.html'}\n"
     ]
    }
   ],
   "source": [
    "from urllib.parse import urljoin\n",
    "urls = set()\n",
    "for article in soup.select('.js-stream-content a'):\n",
    "    url = urljoin('https://tw.news.yahoo.com/', article.attrs['href'])\n",
    "    urls.add(url)\n",
    "print(urls)"
   ]
  },
  {
   "cell_type": "markdown",
   "metadata": {},
   "source": [
    "### Pack it into a function"
   ]
  },
  {
   "cell_type": "code",
   "execution_count": 6,
   "metadata": {
    "collapsed": false
   },
   "outputs": [
    {
     "data": {
      "text/plain": [
       "dict_keys(['politics', 'finance', 'entertainment', 'sports', 'society', 'local', 'world', 'lifestyle', 'health', 'technology', 'travel', 'weather'])"
      ]
     },
     "execution_count": 6,
     "metadata": {},
     "output_type": "execute_result"
    }
   ],
   "source": [
    "def get_news_links(category):\n",
    "    page_url = 'https://tw.news.yahoo.com/{}'.format(category)\n",
    "    req = requests.get(page_url)\n",
    "    soup = BeautifulSoup(req.text, 'lxml')\n",
    "    \n",
    "    return {urljoin(page_url, article.attrs['href']) for article in soup.select('.js-stream-content a')}\n",
    "\n",
    "links = {}\n",
    "for category in categories:\n",
    "    links[category] = get_news_links(category)\n",
    "\n",
    "links.keys()"
   ]
  },
  {
   "cell_type": "markdown",
   "metadata": {},
   "source": [
    "### Get news content"
   ]
  },
  {
   "cell_type": "code",
   "execution_count": 7,
   "metadata": {
    "collapsed": false
   },
   "outputs": [
    {
     "data": {
      "text/plain": [
       "'政院：推動年改絕不動搖'"
      ]
     },
     "execution_count": 7,
     "metadata": {},
     "output_type": "execute_result"
    }
   ],
   "source": [
    "req = requests.get('https://tw.news.yahoo.com/%E6%94%BF%E9%99%A2-%E6%8E%A8%E5%8B%95%E5%B9%B4%E6%94%B9%E7%B5%95%E4%B8%8D%E5%8B%95%E6%90%96-160000837.html')\n",
    "soup = BeautifulSoup(req.text, 'lxml')\n",
    "soup.select_one('header.canvas-header h1').text"
   ]
  },
  {
   "cell_type": "code",
   "execution_count": 8,
   "metadata": {
    "collapsed": false
   },
   "outputs": [
    {
     "data": {
      "text/plain": [
       "'【記者潘鴻志、王志誠／台北報導】台灣新生報2017年5月6日'"
      ]
     },
     "execution_count": 8,
     "metadata": {},
     "output_type": "execute_result"
    }
   ],
   "source": [
    "soup.select_one('div.auth-prov-soc').text"
   ]
  },
  {
   "cell_type": "code",
   "execution_count": 9,
   "metadata": {
    "collapsed": false
   },
   "outputs": [
    {
     "name": "stdout",
     "output_type": "stream",
     "text": [
      "行政院副院長林錫耀於昨（六）日代表林全院長出席「中華民國工商協進會中部工商午餐會」時表示，去（一○五）年五二○新政府上台後，積極解決各項問題，例如台灣面臨少子女化、高齡化等危機，因此，行政團隊積極推動年金改革，決心不會動搖，年金改革最重要的法案，已在立法院的委員會通過，盼在一個月內能完成二、三讀，也希望其它相關法案都能順利通過。\n",
      "林副院長指出：除面對問題，推動改革外，政府也極力進行各項建設，林全院長今天就到台南訪視沙崙綠能科學城，總統也非常重視產業界的意見，充分聽取產業界的心聲，希望有效且積極解決問題，目前提出的八年八八○○億「前瞻基礎建設計畫」就是為了加速推動國家未來所需的建設，帶動經濟成長的動能，但「前瞻基礎建設計畫特別條例」目前還無法在立法院的委員會通過，盼各界給予支持，讓有利經濟民生的計劃儘速啟動。\n",
      "林副院長並強調：新政府有決心，有計畫，堅定務實推動各項改革，並加速進行建設。台灣過去很長一段時間，經濟並不景氣。但新政府上台後，最近公布的一些經濟數據可發現，目前景氣已在穩定復甦中，政府希望在此時期，一方面加速各項基礎建設，擴大財政支出，帶動經濟成長；另外，也逐步推動各項經濟轉型政策，包括：「五＋二」創新產業計畫，期能透過產業創新帶動經濟轉型，讓台灣有更多元的經濟發展動能。\n",
      "林副院長也指出：影響企業投資的障礙，例如水、電、人才、土地及環評等，政府都瞭解，也會積極溝通說明，希望取得更好的共識。\n"
     ]
    }
   ],
   "source": [
    "for p in soup.select('div.canvas-body p'):\n",
    "    print(p.text)"
   ]
  },
  {
   "cell_type": "markdown",
   "metadata": {},
   "source": [
    "### Pack it into a function"
   ]
  },
  {
   "cell_type": "code",
   "execution_count": 10,
   "metadata": {
    "collapsed": false,
    "scrolled": true
   },
   "outputs": [
    {
     "name": "stdout",
     "output_type": "stream",
     "text": [
      "八田與一銅像修復揭幕 長孫盼傳承到後世\n",
      "政治中心／綜合報導民報2017年5月7日\n",
      "台南烏山頭水庫八田與一銅像遭斷頭，日前完成修復，今（7）日上午舉行揭幕儀式。從日本趕來出席的八田與一長孫八田修一說，不敢相信這麼快就修復了，感到很開心，但他不是為銅像來的，而是來確認台日間的友誼沒變，而秀麗的風景沒變，景色依舊，他希望一切能傳承到後世。\n",
      "台南市長賴清德則表示，八田與一銅像遭人蓄意破壞，市府未能妥善保護，對於家屬表達遺憾，但此種破壞行為不會影響台日感情，台日感情甚至會因為歷經考驗而更好。\n",
      "八田與一銅像4月15日遭前台北市議員李承龍、邱姓女子斷首後，備受關注，連日本媒體也大幅報導；在頭部遍尋不著的情形下，王姓專業技師以奇美博物館典藏的胸像，接上銅像，完成修復。明天八田與一忌日，追思活動將如期舉行。\n",
      "上午揭幕式包括台南市長賴清德、日本金澤市長山野之義、加賀市副市長河合篤史、日本台灣交流協會高雄事務所長中郡錦藏、日本金澤市訪問團，八田修一夫婦等家屬等多人參加，共同見證八田與一銅像的修復，並聲言台日友誼穩固。\n",
      "金澤市長山野之義表示，這銅像是當初台灣朋友幫忙建造，台灣的朋友懷著感恩之心，幫我們故鄉的大前輩建造這銅像；感到開心的同時，身為台南市的友人他感到非常驕傲。\n",
      "他表示，當然（銅像斷頭）這是一個令人不悅且傷心的事件，但台南與金澤、日本與台灣的友誼更深厚強固，他回到日本後，會把這好消息傳達給市民。\n",
      "八田修一則說，看到祖父銅像在這麼短時間內修復，即使現場親眼目睹，他還是不敢相信；但他不是為銅像來的，而是要確認台日間的友誼沒變，不會因銅像而損及台日友誼。\n",
      "八田修一表示，他的祖父75年前坐在此地，但這裡都沒有改變，水庫一樣在出水，風景依然秀麗，他希望能一直傳承到後世。\n",
      "賴清德則表示，金澤市的傑出市民八田在八、九十年前東京帝大畢業後就來到台南，在物質相當缺乏的年代，建造了一個當時亞洲最現代化的水庫，不僅嘉慧農民，也促成了經濟發展。許許多多的農民、台灣的朋友，日本的好朋友們，大家都飲水思源，感念八田與一先生的偉大貢獻，集資興建銅像。\n",
      "賴清德也表示，八田銅像4月26日就已修復完成，很有效率，沒有留下傷害的痕跡，非常感謝！這起令人遺憾的事件，目標是要破壞日本跟台灣的感情，慶幸的是台灣社會反對這樣的行為。他說，感情要經過考驗，考驗過的感情才是真感情，台日感情不僅沒變，還會更好。 \n",
      "嘉南農田水利會會長楊明風除對於銅像遭到破壞表示遺憾，並強調已加裝照明、監視錄影等設備，未來也會加強銅像安全維護。\n"
     ]
    }
   ],
   "source": [
    "def get_news_content(url):\n",
    "    content = []\n",
    "    req = requests.get(url)\n",
    "    soup = BeautifulSoup(req.text, 'lxml')\n",
    "    content.append(soup.select_one('header.canvas-header h1').text)\n",
    "    content.append(soup.select_one('div.auth-prov-soc').text)\n",
    "    for p in soup.select('div.canvas-body p'):\n",
    "        content.append(p.text)\n",
    "\n",
    "    return '\\n'.join(content)\n",
    "\n",
    "url = 'https://tw.news.yahoo.com/-043018999.html'\n",
    "print(get_news_content(url))"
   ]
  },
  {
   "cell_type": "markdown",
   "metadata": {},
   "source": [
    "### News ID parse function"
   ]
  },
  {
   "cell_type": "code",
   "execution_count": 11,
   "metadata": {
    "collapsed": false
   },
   "outputs": [
    {
     "data": {
      "text/plain": [
       "'043018999'"
      ]
     },
     "execution_count": 11,
     "metadata": {},
     "output_type": "execute_result"
    }
   ],
   "source": [
    "import re\n",
    "url_re = re.compile('-(\\d{7,10})')\n",
    "\n",
    "def parse_nid(url):\n",
    "    m = url_re.search(url)\n",
    "    \n",
    "    return m.group(1)\n",
    "\n",
    "parse_nid(url)"
   ]
  },
  {
   "cell_type": "code",
   "execution_count": 12,
   "metadata": {
    "collapsed": false,
    "scrolled": true
   },
   "outputs": [
    {
     "ename": "FileExistsError",
     "evalue": "[WinError 183] Cannot create a file when that file already exists: 'politics'",
     "output_type": "error",
     "traceback": [
      "\u001b[0;31m---------------------------------------------------------------------------\u001b[0m",
      "\u001b[0;31mFileExistsError\u001b[0m                           Traceback (most recent call last)",
      "\u001b[0;32m<ipython-input-12-cefce9a5c268>\u001b[0m in \u001b[0;36m<module>\u001b[0;34m()\u001b[0m\n\u001b[1;32m      1\u001b[0m \u001b[1;32mimport\u001b[0m \u001b[0mos\u001b[0m\u001b[1;33m\u001b[0m\u001b[0m\n\u001b[1;32m      2\u001b[0m \u001b[1;32mfor\u001b[0m \u001b[0mc\u001b[0m \u001b[1;32min\u001b[0m \u001b[0mcategories\u001b[0m\u001b[1;33m:\u001b[0m\u001b[1;33m\u001b[0m\u001b[0m\n\u001b[0;32m----> 3\u001b[0;31m     \u001b[0mos\u001b[0m\u001b[1;33m.\u001b[0m\u001b[0mmkdir\u001b[0m\u001b[1;33m(\u001b[0m\u001b[0mc\u001b[0m\u001b[1;33m)\u001b[0m\u001b[1;33m\u001b[0m\u001b[0m\n\u001b[0m",
      "\u001b[0;31mFileExistsError\u001b[0m: [WinError 183] Cannot create a file when that file already exists: 'politics'"
     ]
    }
   ],
   "source": [
    "import os\n",
    "for c in categories:\n",
    "    os.mkdir(c)"
   ]
  },
  {
   "cell_type": "code",
   "execution_count": 13,
   "metadata": {
    "collapsed": false
   },
   "outputs": [
    {
     "name": "stdout",
     "output_type": "stream",
     "text": [
      "https://tw.news.yahoo.com/-015909701.html\n",
      "https://tw.news.yahoo.com/%E4%BB%8A%E5%B9%B4%E6%96%B0%E8%88%88%E4%BA%9E%E6%B4%B2%E6%BC%B2%E5%B9%85%E5%B1%85%E5%86%A0-%E7%B6%93%E6%BF%9F%E6%95%B8%E6%93%9A%E6%9C%89%E6%92%90-%E5%8D%B0%E5%BA%A6%E8%82%A1%E5%B8%82%E4%B8%8D%E7%95%8F%E9%AB%98-015611093.html\n",
      "https://tw.news.yahoo.com/%E5%BD%B1%E9%9F%B3-%E5%B9%B4%E9%87%91%E6%94%B9%E9%9D%A9%E6%B1%BA%E6%88%B0%E8%87%A8%E6%99%82%E6%9C%83-15%E6%97%A5%E6%8A%97%E7%88%AD%E5%86%8D%E8%B5%B7-012428362.html\n",
      "https://tw.news.yahoo.com/%E4%BB%8A%E5%B9%B4%E6%96%B0%E8%88%88%E4%BA%9E%E6%B4%B2%E6%BC%B2%E5%B9%85%E5%B1%85%E5%86%A0-%E7%B6%93%E6%BF%9F%E6%95%B8%E6%93%9A%E6%9C%89%E6%92%90-%E5%8D%B0%E5%BA%A6%E8%82%A1%E5%B8%82%E4%B8%8D%E7%95%8F%E9%AB%98-015611648.html\n",
      "https://tw.news.yahoo.com/%E9%9B%BB%E5%AD%90%E8%A3%9D%E7%BD%AE%E7%A6%81%E4%BB%A4-iata%E6%8F%90%E6%9B%BF%E4%BB%A3%E6%96%B9%E6%A1%88-012118565.html\n",
      "https://tw.news.yahoo.com/%E5%B0%88%E8%A8%AA-%E5%8C%97%E5%B8%82%E5%8F%83%E9%81%B8%E7%88%86%E7%82%B8-%E4%B8%81%E5%AE%88%E4%B8%AD-%E9%81%B5%E5%AE%88%E9%BB%A8%E5%85%A7%E8%A6%8F%E5%89%87-014500039.html\n",
      "https://tw.news.yahoo.com/%E5%A4%96%E9%A3%9F%E8%B2%BB5%E6%9C%88%E5%A4%9A133%E5%85%83-%E6%BC%B2%E5%B9%852-08-%E5%89%B52%E5%B9%B4%E6%96%B0%E9%AB%98-020928548.html\n",
      "https://tw.news.yahoo.com/%E5%BE%B7%E6%B3%95%E8%BB%B8%E5%BF%83%E8%83%BD%E5%90%A6%E3%80%8C%E8%AE%93%E6%AD%90%E6%B4%B2%E5%86%8D%E6%AC%A1%E5%81%89%E5%A4%A7%E3%80%8D%EF%BC%9F-013731926.html\n",
      "https://tw.news.yahoo.com/%E6%96%AF%E7%89%B9%E9%87%91%E9%A0%90%E6%96%AF%E8%98%87%E6%A0%BC%E8%98%AD2025%E5%B9%B4%E7%8D%A8%E7%AB%8B-%E7%94%B1%E4%BA%BA%E6%B0%91%E6%B1%BA%E5%AE%9A-012743405.html\n",
      "https://tw.news.yahoo.com/%E5%85%B1%E8%BB%8D%E7%9B%B4%E5%8D%87%E6%A9%9F%E7%96%91%E9%97%96%E5%8D%B0%E5%BA%A6%E9%A0%98%E7%A9%BA-%E9%99%B8%E5%9C%8B%E9%98%B2%E9%83%A8%E5%90%A6%E8%AA%8D-011217425.html\n",
      "https://tw.news.yahoo.com/%E5%A4%96%E4%BA%A4%E5%8D%B1%E6%A9%9F%E5%8D%87%E7%B4%9A-%E5%8D%A1%E9%81%94%E5%A4%96%E9%95%B7%E7%B1%B2%E5%86%B7%E9%9D%9C-013600083.html\n",
      "https://tw.news.yahoo.com/%E6%B0%91%E7%94%9F%E7%89%A9%E5%83%B9%E9%A3%8627%E6%9C%88%E9%AB%98%E9%BB%9E-%E9%AE%AE%E5%A5%B6%E6%BC%B2%E5%B9%859-15-%E5%89%B5%E9%80%BE5%E5%B9%B4%E6%96%B0%E9%AB%98-014327421.html\n",
      "https://tw.news.yahoo.com/%E6%BE%B3%E6%B4%B2%E6%A7%8D%E6%89%8B%E9%97%96%E4%BD%8F%E5%AE%85%E5%8A%AB%E6%8C%81%E4%BA%BA%E8%B3%AA-%E9%80%A0%E6%88%902%E6%AD%BB4%E5%82%B7-010741264.html\n",
      "https://tw.news.yahoo.com/%E6%B0%91%E9%80%B2%E9%BB%A8%E5%9C%98%E7%9B%BC%E9%96%8B3%E6%AC%A1%E8%87%A8%E6%99%82%E6%9C%83-%E8%AD%B0%E7%A8%8B%E5%87%BA%E7%88%90-015027574.html\n",
      "https://tw.finance.yahoo.com/news/%E5%9C%8B%E5%85%A7%E9%87%91%E8%9E%8D-9-35%E6%AD%A2-%E6%8B%86%E6%AC%BE%E5%B8%82%E5%A0%B4%E9%9A%94%E5%A4%9C%E6%8B%86%E6%AC%BE%E6%88%90%E4%BA%A4%E5%88%A9%E7%8E%87%E7%82%BA0-177-013628090.html\n"
     ]
    },
    {
     "ename": "AttributeError",
     "evalue": "'NoneType' object has no attribute 'text'",
     "output_type": "error",
     "traceback": [
      "\u001b[0;31m---------------------------------------------------------------------------\u001b[0m",
      "\u001b[0;31mAttributeError\u001b[0m                            Traceback (most recent call last)",
      "\u001b[0;32m<ipython-input-13-ef41718c5546>\u001b[0m in \u001b[0;36m<module>\u001b[0;34m()\u001b[0m\n\u001b[1;32m      6\u001b[0m         \u001b[1;32mif\u001b[0m \u001b[0mos\u001b[0m\u001b[1;33m.\u001b[0m\u001b[0mpath\u001b[0m\u001b[1;33m.\u001b[0m\u001b[0misfile\u001b[0m\u001b[1;33m(\u001b[0m\u001b[0mfilename\u001b[0m\u001b[1;33m)\u001b[0m\u001b[1;33m:\u001b[0m\u001b[1;33m\u001b[0m\u001b[0m\n\u001b[1;32m      7\u001b[0m             \u001b[1;32mcontinue\u001b[0m\u001b[1;33m\u001b[0m\u001b[0m\n\u001b[0;32m----> 8\u001b[0;31m         \u001b[0mcontent\u001b[0m \u001b[1;33m=\u001b[0m \u001b[0mget_news_content\u001b[0m\u001b[1;33m(\u001b[0m\u001b[0murl\u001b[0m\u001b[1;33m)\u001b[0m\u001b[1;33m\u001b[0m\u001b[0m\n\u001b[0m\u001b[1;32m      9\u001b[0m         \u001b[1;32mwith\u001b[0m \u001b[0mopen\u001b[0m\u001b[1;33m(\u001b[0m\u001b[0mfilename\u001b[0m\u001b[1;33m,\u001b[0m \u001b[1;34m'w'\u001b[0m\u001b[1;33m,\u001b[0m \u001b[0mencoding\u001b[0m \u001b[1;33m=\u001b[0m \u001b[1;34m'utf-8'\u001b[0m\u001b[1;33m)\u001b[0m \u001b[1;32mas\u001b[0m \u001b[0mf\u001b[0m\u001b[1;33m:\u001b[0m\u001b[1;33m\u001b[0m\u001b[0m\n\u001b[1;32m     10\u001b[0m             \u001b[0mprint\u001b[0m\u001b[1;33m(\u001b[0m\u001b[0mcontent\u001b[0m\u001b[1;33m,\u001b[0m \u001b[0mfile\u001b[0m \u001b[1;33m=\u001b[0m \u001b[0mf\u001b[0m\u001b[1;33m)\u001b[0m\u001b[1;33m\u001b[0m\u001b[0m\n",
      "\u001b[0;32m<ipython-input-10-60295037cf05>\u001b[0m in \u001b[0;36mget_news_content\u001b[0;34m(url)\u001b[0m\n\u001b[1;32m      3\u001b[0m     \u001b[0mreq\u001b[0m \u001b[1;33m=\u001b[0m \u001b[0mrequests\u001b[0m\u001b[1;33m.\u001b[0m\u001b[0mget\u001b[0m\u001b[1;33m(\u001b[0m\u001b[0murl\u001b[0m\u001b[1;33m)\u001b[0m\u001b[1;33m\u001b[0m\u001b[0m\n\u001b[1;32m      4\u001b[0m     \u001b[0msoup\u001b[0m \u001b[1;33m=\u001b[0m \u001b[0mBeautifulSoup\u001b[0m\u001b[1;33m(\u001b[0m\u001b[0mreq\u001b[0m\u001b[1;33m.\u001b[0m\u001b[0mtext\u001b[0m\u001b[1;33m,\u001b[0m \u001b[1;34m'lxml'\u001b[0m\u001b[1;33m)\u001b[0m\u001b[1;33m\u001b[0m\u001b[0m\n\u001b[0;32m----> 5\u001b[0;31m     \u001b[0mcontent\u001b[0m\u001b[1;33m.\u001b[0m\u001b[0mappend\u001b[0m\u001b[1;33m(\u001b[0m\u001b[0msoup\u001b[0m\u001b[1;33m.\u001b[0m\u001b[0mselect_one\u001b[0m\u001b[1;33m(\u001b[0m\u001b[1;34m'header.canvas-header h1'\u001b[0m\u001b[1;33m)\u001b[0m\u001b[1;33m.\u001b[0m\u001b[0mtext\u001b[0m\u001b[1;33m)\u001b[0m\u001b[1;33m\u001b[0m\u001b[0m\n\u001b[0m\u001b[1;32m      6\u001b[0m     \u001b[0mcontent\u001b[0m\u001b[1;33m.\u001b[0m\u001b[0mappend\u001b[0m\u001b[1;33m(\u001b[0m\u001b[0msoup\u001b[0m\u001b[1;33m.\u001b[0m\u001b[0mselect_one\u001b[0m\u001b[1;33m(\u001b[0m\u001b[1;34m'div.auth-prov-soc'\u001b[0m\u001b[1;33m)\u001b[0m\u001b[1;33m.\u001b[0m\u001b[0mtext\u001b[0m\u001b[1;33m)\u001b[0m\u001b[1;33m\u001b[0m\u001b[0m\n\u001b[1;32m      7\u001b[0m     \u001b[1;32mfor\u001b[0m \u001b[0mp\u001b[0m \u001b[1;32min\u001b[0m \u001b[0msoup\u001b[0m\u001b[1;33m.\u001b[0m\u001b[0mselect\u001b[0m\u001b[1;33m(\u001b[0m\u001b[1;34m'div.canvas-body p'\u001b[0m\u001b[1;33m)\u001b[0m\u001b[1;33m:\u001b[0m\u001b[1;33m\u001b[0m\u001b[0m\n",
      "\u001b[0;31mAttributeError\u001b[0m: 'NoneType' object has no attribute 'text'"
     ]
    }
   ],
   "source": [
    "for category, urls in links.items():\n",
    "    for url in urls:\n",
    "        print(url)\n",
    "        nid = parse_nid(url)\n",
    "        filename = '{0}/{1}'.format(category, nid)\n",
    "        if os.path.isfile(filename):\n",
    "            continue\n",
    "        content = get_news_content(url)\n",
    "        with open(filename, 'w', encoding = 'utf-8') as f:\n",
    "            print(content, file = f)"
   ]
  },
  {
   "cell_type": "code",
   "execution_count": null,
   "metadata": {
    "collapsed": true
   },
   "outputs": [],
   "source": []
  }
 ],
 "metadata": {
  "kernelspec": {
   "display_name": "Python 3",
   "language": "python",
   "name": "python3"
  },
  "language_info": {
   "codemirror_mode": {
    "name": "ipython",
    "version": 3
   },
   "file_extension": ".py",
   "mimetype": "text/x-python",
   "name": "python",
   "nbconvert_exporter": "python",
   "pygments_lexer": "ipython3",
   "version": "3.6.0"
  }
 },
 "nbformat": 4,
 "nbformat_minor": 2
}
