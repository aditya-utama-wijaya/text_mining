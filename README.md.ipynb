{
 "cells": [
  {
   "cell_type": "markdown",
   "metadata": {},
   "source": [
    "# wordcount"
   ]
  },
  {
   "cell_type": "markdown",
   "metadata": {},
   "source": [
    "## Run the code:\n",
    "* Download `2-building_global_community.txt` and either `104077429_aditya-utama-wijaya_assignment-1.ipynb` or `104077429_aditya-utama-wijaya_assignment-1.py`\n",
    "* Open the Python script file in Jupyter Notebook or any Python IDE\n",
    "* The .txt file will act as the argument to the code\n",
    "* After running the code, it should generate a CSV file which contains the words in the .txt file and the number of occurrences for each word"
   ]
  }
 ],
 "metadata": {
  "kernelspec": {
   "display_name": "Python 3",
   "language": "python",
   "name": "python3"
  },
  "language_info": {
   "codemirror_mode": {
    "name": "ipython",
    "version": 3
   },
   "file_extension": ".py",
   "mimetype": "text/x-python",
   "name": "python",
   "nbconvert_exporter": "python",
   "pygments_lexer": "ipython3",
   "version": "3.6.0"
  }
 },
 "nbformat": 4,
 "nbformat_minor": 2
}
