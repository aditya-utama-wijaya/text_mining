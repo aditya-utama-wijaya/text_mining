{
 "cells": [
  {
   "cell_type": "markdown",
   "metadata": {},
   "source": [
    "# Crawl TRIZ Effects Database"
   ]
  },
  {
   "cell_type": "markdown",
   "metadata": {},
   "source": [
    "This is an example showcasing how to use post request to get data.\n",
    "\n",
    "http://wbam2244.dns-systems.net//EDB_Welcome.php"
   ]
  },
  {
   "cell_type": "code",
   "execution_count": 1,
   "metadata": {
    "collapsed": true
   },
   "outputs": [],
   "source": [
    "import requests\n",
    "from itertools import product\n",
    "from collections import defaultdict\n",
    "from bs4 import BeautifulSoup"
   ]
  },
  {
   "cell_type": "code",
   "execution_count": 2,
   "metadata": {
    "collapsed": true
   },
   "outputs": [],
   "source": [
    "# type of effect\n",
    "modes = ['Function', 'Parameter', 'Transform']\n",
    "# base url of Effects Database\n",
    "base_url = 'http://wbam2244.dns-systems.net//EDB_display_results.php'"
   ]
  },
  {
   "cell_type": "code",
   "execution_count": 10,
   "metadata": {
    "collapsed": true
   },
   "outputs": [],
   "source": [
    "def get_mode_items(html):\n",
    "    def get_items(paramtype):\n",
    "        css_sel = 'td.{0}_item'.format(paramtype)\n",
    "        tds = soup.select(css_sel)\n",
    "        task_item_names = [item.strip() for td in tds for item in td.text.strip().splitlines()]\n",
    "        task_item_sels = soup.select(css_sel +' input')\n",
    "        task_item_values = [int(sel.attrs['value']) for sel in task_item_sels]\n",
    "        return list(zip(task_item_names, task_item_values))\n",
    "\n",
    "    soup = BeautifulSoup(html, 'lxml')\n",
    "    task_items = get_items('task')\n",
    "    target_items = get_items('target')\n",
    "\n",
    "    for (taskName, taskValue), (targetName, targetValue) in product(task_items, target_items):\n",
    "        print(taskName, targetName)\n",
    "\n",
    "    return task_items, target_items"
   ]
  },
  {
   "cell_type": "markdown",
   "metadata": {},
   "source": [
    "Test get_mode_items function"
   ]
  },
  {
   "cell_type": "code",
   "execution_count": 14,
   "metadata": {
    "scrolled": true
   },
   "outputs": [
    {
     "data": {
      "text/plain": [
       "([('Absorb', 11),\n",
       "  ('Accumulate', 12),\n",
       "  ('Bend', 14),\n",
       "  ('Break Down', 16),\n",
       "  ('Change Phase', 17),\n",
       "  ('Clean', 18),\n",
       "  ('Compress', 19),\n",
       "  ('Concentrate', 20),\n",
       "  ('Condense', 21),\n",
       "  ('Constrain', 22),\n",
       "  ('Cool', 23),\n",
       "  ('Deposit', 24),\n",
       "  ('Destroy', 25),\n",
       "  ('Detect', 26),\n",
       "  ('Dilute', 27),\n",
       "  ('Dry', 29),\n",
       "  ('Evaporate', 30),\n",
       "  ('Expand', 31),\n",
       "  ('Extract', 32),\n",
       "  ('Freeze', 33),\n",
       "  ('Heat', 34),\n",
       "  ('Hold', 35),\n",
       "  ('Join', 36),\n",
       "  ('Melt', 37),\n",
       "  ('Mix', 38),\n",
       "  ('Move', 39),\n",
       "  ('Orient', 41),\n",
       "  ('Produce', 43),\n",
       "  ('Protect', 44),\n",
       "  ('Purify', 45),\n",
       "  ('Remove', 46),\n",
       "  ('Resist', 47),\n",
       "  ('Rotate', 48),\n",
       "  ('Separate', 49),\n",
       "  ('Vibrate', 51)],\n",
       " [('Divided Solid', 3), ('Field', 6), ('Gas', 5), ('Liquid', 4), ('Solid', 2)])"
      ]
     },
     "execution_count": 14,
     "metadata": {},
     "output_type": "execute_result"
    }
   ],
   "source": [
    "res = requests.post('http://wbam2244.dns-systems.net//EDB_select_task_target.php', data={'mode_button': 'Function'})\n",
    "task_items, target_items = get_mode_items(res.text)\n",
    "task_items, target_items"
   ]
  },
  {
   "cell_type": "code",
   "execution_count": 18,
   "metadata": {
    "scrolled": true
   },
   "outputs": [
    {
     "data": {
      "text/plain": [
       "{'Function': {'target': [('Divided Solid', 3),\n",
       "   ('Field', 6),\n",
       "   ('Gas', 5),\n",
       "   ('Liquid', 4),\n",
       "   ('Solid', 2)],\n",
       "  'task': [('Absorb', 11),\n",
       "   ('Accumulate', 12),\n",
       "   ('Bend', 14),\n",
       "   ('Break Down', 16),\n",
       "   ('Change Phase', 17),\n",
       "   ('Clean', 18),\n",
       "   ('Compress', 19),\n",
       "   ('Concentrate', 20),\n",
       "   ('Condense', 21),\n",
       "   ('Constrain', 22),\n",
       "   ('Cool', 23),\n",
       "   ('Deposit', 24),\n",
       "   ('Destroy', 25),\n",
       "   ('Detect', 26),\n",
       "   ('Dilute', 27),\n",
       "   ('Dry', 29),\n",
       "   ('Evaporate', 30),\n",
       "   ('Expand', 31),\n",
       "   ('Extract', 32),\n",
       "   ('Freeze', 33),\n",
       "   ('Heat', 34),\n",
       "   ('Hold', 35),\n",
       "   ('Join', 36),\n",
       "   ('Melt', 37),\n",
       "   ('Mix', 38),\n",
       "   ('Move', 39),\n",
       "   ('Orient', 41),\n",
       "   ('Produce', 43),\n",
       "   ('Protect', 44),\n",
       "   ('Purify', 45),\n",
       "   ('Remove', 46),\n",
       "   ('Resist', 47),\n",
       "   ('Rotate', 48),\n",
       "   ('Separate', 49),\n",
       "   ('Vibrate', 51)]},\n",
       " 'Parameter': {'target': [('Brightness', 7),\n",
       "   ('Colour', 8),\n",
       "   ('Concentration', 36),\n",
       "   ('Density', 9),\n",
       "   ('Drag', 10),\n",
       "   ('Electrical Conductivity', 11),\n",
       "   ('Energy', 12),\n",
       "   ('Fluid Flow', 18),\n",
       "   ('Force', 13),\n",
       "   ('Frequency', 42),\n",
       "   ('Friction', 19),\n",
       "   ('Hardness', 14),\n",
       "   ('Heat Conduction', 15),\n",
       "   ('Homogeneity', 16),\n",
       "   ('Humidity', 43),\n",
       "   ('Length', 17),\n",
       "   ('Magnetic Properties', 20),\n",
       "   ('Orientation', 39),\n",
       "   ('Polarisation', 40),\n",
       "   ('Porosity', 21),\n",
       "   ('Position', 38),\n",
       "   ('Power', 22),\n",
       "   ('Pressure', 23),\n",
       "   ('Purity', 35),\n",
       "   ('Rigidity', 41),\n",
       "   ('Shape', 44),\n",
       "   ('Sound', 25),\n",
       "   ('Speed', 26),\n",
       "   ('Strength', 27),\n",
       "   ('Surface Area', 28),\n",
       "   ('Surface Finish', 29),\n",
       "   ('Temperature', 30),\n",
       "   ('Time', 37),\n",
       "   ('Translucency', 45),\n",
       "   ('Viscosity', 32),\n",
       "   ('Volume', 33),\n",
       "   ('Weight', 34)],\n",
       "  'task': [('Change', 52),\n",
       "   ('Decrease', 53),\n",
       "   ('Increase', 54),\n",
       "   ('Measure', 55),\n",
       "   ('Stabilise', 56)]},\n",
       " 'Transform': {'target': [('Acoustic', 46),\n",
       "   ('Chemical', 47),\n",
       "   ('Electrical', 48),\n",
       "   ('Electromagnetic', 49),\n",
       "   ('Kinetic', 50),\n",
       "   ('Magnetic', 52),\n",
       "   ('Mechanical', 53),\n",
       "   ('Optical', 51),\n",
       "   ('Thermal', 54)],\n",
       "  'task': [('Acoustic', 2),\n",
       "   ('Chemical', 3),\n",
       "   ('Electrical', 4),\n",
       "   ('Electromagnetic', 5),\n",
       "   ('Kinetic', 6),\n",
       "   ('Magnetic', 8),\n",
       "   ('Mechanical', 9),\n",
       "   ('Optical', 7),\n",
       "   ('Thermal', 10)]}}"
      ]
     },
     "execution_count": 18,
     "metadata": {},
     "output_type": "execute_result"
    }
   ],
   "source": [
    "info = {}\n",
    "for mode in modes:\n",
    "    res = requests.post('http://wbam2244.dns-systems.net//EDB_select_task_target.php', data={'mode_button': mode})\n",
    "    task_items, target_items = get_mode_items(res.text)\n",
    "    info[mode] = {\n",
    "        'task': task_items,\n",
    "        'target': target_items\n",
    "    }\n",
    "info"
   ]
  },
  {
   "cell_type": "markdown",
   "metadata": {},
   "source": [
    "Development example"
   ]
  },
  {
   "cell_type": "code",
   "execution_count": 19,
   "metadata": {
    "collapsed": true
   },
   "outputs": [],
   "source": [
    "data = {\n",
    "    'selected_task': 11,\n",
    "    'selected_target': 3,\n",
    "    'filter': 'both',\n",
    "    'Preserved_Mode_Name': 'Function'\n",
    "}\n",
    "res = requests.post(base_url, data=data)"
   ]
  },
  {
   "cell_type": "code",
   "execution_count": 20,
   "metadata": {
    "collapsed": true
   },
   "outputs": [],
   "source": [
    "def get_suggestions(html):\n",
    "    soup = BeautifulSoup(html, 'lxml')\n",
    "    table = soup.select('div#main > table')[-1]\n",
    "    nodes = table.select('td')\n",
    "    result = [node.text.strip() for node in nodes]\n",
    "    # grouped list items 3 by 3\n",
    "    suggestions = list(zip(*[iter(result)]*3))\n",
    "    return suggestions"
   ]
  },
  {
   "cell_type": "markdown",
   "metadata": {},
   "source": [
    "Extract all effects"
   ]
  },
  {
   "cell_type": "code",
   "execution_count": 21,
   "metadata": {
    "collapsed": true
   },
   "outputs": [],
   "source": [
    "effects = defaultdict(dict)\n",
    "for mode, modeInfo in info.items():\n",
    "    for task, target in product(modeInfo['task'], modeInfo['target']):\n",
    "        data['Preserved_Mode_Name'] = mode\n",
    "        data['selected_task'] = task[1]\n",
    "        data['selected_target'] = target[1]\n",
    "        res = requests.post('http://wbam2244.dns-systems.net//EDB_display_results.php', data=data)\n",
    "        effects[mode][task[0], target[0]] = get_suggestions(res.text)"
   ]
  },
  {
   "cell_type": "markdown",
   "metadata": {},
   "source": [
    "### Dump the result in a json file"
   ]
  },
  {
   "cell_type": "markdown",
   "metadata": {},
   "source": [
    "UltraJSON is an ultra fast JSON encoder and decoder written in pure C with bindings for Python 2.5+ and 3.\n",
    "\n",
    "For a more painless day to day C/C++ JSON decoder experience please checkout ujson4c, based on UltraJSON"
   ]
  },
  {
   "cell_type": "code",
   "execution_count": 22,
   "metadata": {
    "collapsed": true
   },
   "outputs": [],
   "source": [
    "try:\n",
    "    import ujson as json\n",
    "except:\n",
    "    import json"
   ]
  },
  {
   "cell_type": "code",
   "execution_count": null,
   "metadata": {
    "collapsed": true
   },
   "outputs": [],
   "source": [
    "ujson.dump(effects, open('effects.json', 'w'), ensure_ascii=False, indent=2)"
   ]
  }
 ],
 "metadata": {
  "kernelspec": {
   "display_name": "Python 3",
   "language": "python",
   "name": "python3"
  },
  "language_info": {
   "codemirror_mode": {
    "name": "ipython",
    "version": 3
   },
   "file_extension": ".py",
   "mimetype": "text/x-python",
   "name": "python",
   "nbconvert_exporter": "python",
   "pygments_lexer": "ipython3",
   "version": "3.6.1"
  }
 },
 "nbformat": 4,
 "nbformat_minor": 2
}
