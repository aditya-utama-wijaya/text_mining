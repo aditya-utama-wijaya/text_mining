{
 "cells": [
  {
   "cell_type": "code",
   "execution_count": 28,
   "metadata": {
    "collapsed": false
   },
   "outputs": [],
   "source": [
    "import requests\n",
    "from bs4 import BeautifulSoup\n",
    "url = \"https://tw.news.yahoo.com/_td-news/api/resource/IndexDataService.getExternalMediaNewsList;count=2000;loadMore=true;mrs=%7B%22size%22%3A%7B%22w%22%3A220%2C%22h%22%3A128%7D%7D;newsTab=finance;start=8;tag=%5B%22yct%3A001000298%22%2C%22yct%3A001000123%22%5D?bkt=news-TW-zh-Hant-TW-def&device=desktop&intl=tw&lang=zh-Hant-TW&partner=none&prid=71j7efdch303k&region=TW&site=news&tz=Asia%2FTaipei&ver=2.0.448&returnMeta=true\"\n",
    "r = requests.get(url)\n",
    "path = \"https://tw.news.yahoo.com\"\n",
    "doc = [(ele[\"title\"],path+ele[\"url\"]) for ele in r.json()[\"data\"]]"
   ]
  },
  {
   "cell_type": "code",
   "execution_count": 49,
   "metadata": {
    "collapsed": false
   },
   "outputs": [
    {
     "name": "stdout",
     "output_type": "stream",
     "text": [
      "https://tw.news.yahoo.com/%E5%8B%9E%E5%8B%95%E5%8A%9B%E7%99%BC%E5%B1%95%E7%BD%B2%E4%B8%AD%E5%BD%B0%E6%8A%95%E5%88%86%E7%BD%B25%E6%97%A5%E5%A4%A7%E7%94%B2%E8%81%AF%E5%90%88%E5%BE%B5%E6%89%8D%E6%8F%90%E4%BE%9B8%E7%99%BE%E5%A4%9A%E8%81%B7%E7%BC%BA-042529635.html\n",
      "勞動力發展署中彰投分署5日大甲聯合徵才提供8百多職缺\n",
      "勞動力發展署中彰投分署5月5號上午10點到下午2點，在大甲區大廚會館舉辦聯合徵才活動，計有27家優質廠商提供853個職缺，活動以產業英雄為主題，規劃五大英雄徵才專區，有求職需求的民眾可以把握機會參加面試。現場規劃「鷹眼獨到」、「雷神CNC」、「服務A隊長」、「科技鋼鐵人」、「3K綠巨人」等五大產業徵才專區，提供包含：金屬製品、自動化機械、科技光電、照顧服務業等多種產業職缺。沙鹿就業中心簡淑茹主任表示，本次聯合徵才活動，鑒於「照顧服務」產業是目前政府長照2.0推動的重要人力，且大甲、大安、外埔地區於該產業有大量人力需求，因此，搭配「照顧服務業」產業說明會，介紹產業的發展與未來趨勢，並結合企業參訪及現場徵才。\n"
     ]
    }
   ],
   "source": [
    "index = 1999\n",
    "print doc[1999][1]\n",
    "content = requests.get(doc[1999][1]).content\n",
    "soup = BeautifulSoup(content)\n",
    "one_site_content = \"\"\n",
    "for p in soup.findAll(\"p\"):\n",
    "    one_site_content += p.getText()\n",
    "print doc[index][0]+\"\\n\"+one_site_content"
   ]
  },
  {
   "cell_type": "code",
   "execution_count": 83,
   "metadata": {
    "collapsed": false
   },
   "outputs": [],
   "source": [
    "N_document = str(2000)\n",
    "finance_url = \"https://tw.news.yahoo.com/_td-news/api/resource/IndexDataService.getExternalMediaNewsList;count=\"+N_document+\";loadMore=true;mrs=%7B%22size%22%3A%7B%22w%22%3A220%2C%22h%22%3A128%7D%7D;newsTab=finance;start=1;tag=%5B%22yct%3A001000298%22%2C%22yct%3A001000123%22%5D?bkt=news-TW-zh-Hant-TW-def&device=desktop&intl=tw&lang=zh-Hant-TW&partner=none&prid=71j7efdch303k&region=TW&site=news&tz=Asia%2FTaipei&ver=2.0.448&returnMeta=true\"\n",
    "entertain_url = \"https://tw.news.yahoo.com/_td-news/api/resource/IndexDataService.getExternalMediaNewsList;count=\"+N_document+\";loadMore=true;mrs=%7B%22size%22%3A%7B%22w%22%3A220%2C%22h%22%3A128%7D%7D;newsTab=entertainment;start=1;tag=%5B%22yct%3A001000031%22%5D?bkt=news-TW-zh-Hant-TW-def&device=desktop&intl=tw&lang=zh-Hant-TW&partner=none&prid=btsbko9ch32h7&region=TW&site=news&tz=Asia%2FTaipei&ver=2.0.450&returnMeta=true\"\n",
    "tech_url = \"https://tw.news.yahoo.com/_td-news/api/resource/IndexDataService.getExternalMediaNewsList;count=\"+N_document+\";loadMore=true;mrs=%7B%22size%22%3A%7B%22w%22%3A220%2C%22h%22%3A128%7D%7D;newsTab=technology;start=1;tag=%5B%22yct%3A001000931%22%2C%22yct%3A001000742%22%2C%22ymedia%3Acategory%3D000000175%22%5D?bkt=news-TW-zh-Hant-TW-def&device=desktop&intl=tw&lang=zh-Hant-TW&partner=none&prid=7p4okcdch32lf&region=TW&site=news&tz=Asia%2FTaipei&ver=2.0.450&returnMeta=true\""
   ]
  },
  {
   "cell_type": "code",
   "execution_count": 86,
   "metadata": {
    "collapsed": false
   },
   "outputs": [],
   "source": [
    "def parse_yahoo(url_,cate):\n",
    "    doc_list = []\n",
    "    url = url_\n",
    "    r = requests.get(url)\n",
    "    path = \"https://tw.news.yahoo.com\"\n",
    "    doc = [(ele[\"title\"],path+ele[\"url\"]) for ele in r.json()[\"data\"]]\n",
    "    for index in range(int(N_document)):\n",
    "        try:\n",
    "            content = requests.get(doc[index][1]).content\n",
    "            soup = BeautifulSoup(content)\n",
    "            one_site_content = \"\"\n",
    "            for p in soup.findAll(\"p\"):\n",
    "                one_site_content += p.getText()\n",
    "            content = doc[index][0]+\"\\n\"+one_site_content\n",
    "            doc_list.append(content)\n",
    "            file_name = str(index)\n",
    "            f = open(\"C:/Users/tsunh/Desktop/Schoolwork/Textmining/yahoonews_test/carwl/\"+cate+\"/\"+file_name, \"w+\")\n",
    "            f.write(content.encode(\"utf8\"))\n",
    "            f.close()\n",
    "        except:\n",
    "            continue\n",
    "    return doc_list"
   ]
  },
  {
   "cell_type": "code",
   "execution_count": 87,
   "metadata": {
    "collapsed": false
   },
   "outputs": [],
   "source": [
    "finance = parse_yahoo(finance_url,\"finance\")\n",
    "entertain = parse_yahoo(entertain_url,\"entertainment\")\n",
    "tech = parse_yahoo(tech_url,\"technology\")"
   ]
  },
  {
   "cell_type": "markdown",
   "metadata": {},
   "source": [
    "### Load data "
   ]
  },
  {
   "cell_type": "code",
   "execution_count": 1,
   "metadata": {
    "collapsed": false
   },
   "outputs": [],
   "source": [
    "# make sure the news we parse are different from the testing set\n",
    "#load file\n",
    "from os import listdir\n",
    "from os.path import isfile, join\n",
    "finance_folder = \"C:/Users/tsunh/Desktop/Schoolwork/Textmining/yahoonews_test/yahoonews_test/finance\"\n",
    "entertain_folder = \"C:/Users/tsunh/Desktop/Schoolwork/Textmining/yahoonews_test/yahoonews_test/entertainment\"\n",
    "tech_folder = \"C:/Users/tsunh/Desktop/Schoolwork/Textmining/yahoonews_test/yahoonews_test/technology\"\n",
    "\n",
    "finance_test_file = [join(finance_folder, f) for f in listdir(finance_folder) if isfile(join(finance_folder, f))]\n",
    "entertain_test_file = [join(entertain_folder, f) for f in listdir(entertain_folder) if isfile(join(entertain_folder, f))]\n",
    "tech_test_file = [join(tech_folder, f) for f in listdir(tech_folder) if isfile(join(tech_folder, f))]"
   ]
  },
  {
   "cell_type": "code",
   "execution_count": 2,
   "metadata": {
    "collapsed": false
   },
   "outputs": [],
   "source": [
    "finance_test_title = [ open(path).read().split(\"\\n\")[0] for path in finance_test_file]\n",
    "entertain_test_title = [ open(path).read().split(\"\\n\")[0] for path in entertain_test_file]\n",
    "tech_test_title = [ open(path).read().split(\"\\n\")[0] for path in tech_test_file]\n",
    "\n",
    "#testing set\n",
    "finance_test = [ open(path).read() for path in finance_test_file]\n",
    "entertain_test = [ open(path).read() for path in entertain_test_file]\n",
    "tech_test = [ open(path).read() for path in tech_test_file]"
   ]
  },
  {
   "cell_type": "code",
   "execution_count": 3,
   "metadata": {
    "collapsed": false
   },
   "outputs": [
    {
     "name": "stdout",
     "output_type": "stream",
     "text": [
      "國人退休快樂指數 僅64.3分\n"
     ]
    }
   ],
   "source": [
    "print finance_test_title[10]"
   ]
  },
  {
   "cell_type": "code",
   "execution_count": 4,
   "metadata": {
    "collapsed": false
   },
   "outputs": [
    {
     "data": {
      "text/plain": [
       "True"
      ]
     },
     "execution_count": 4,
     "metadata": {},
     "output_type": "execute_result"
    }
   ],
   "source": [
    "\"國人退休快樂指數 僅64.3分\" in finance_test_title"
   ]
  },
  {
   "cell_type": "code",
   "execution_count": 16,
   "metadata": {
    "collapsed": false
   },
   "outputs": [],
   "source": [
    "#load training data\n",
    "finance_train_folder = \"C:/Users/tsunh/Desktop/Schoolwork/Textmining/yahoonews_test/carwl/finance\"\n",
    "entertain_train_folder = \"C:/Users/tsunh/Desktop/Schoolwork/Textmining/yahoonews_test/carwl/entertainment\"\n",
    "tech_train_folder = \"C:/Users/tsunh/Desktop/Schoolwork/Textmining/yahoonews_test/carwl/technology\"\n",
    "\n",
    "finance_train_file = [join(finance_train_folder, f) for f in listdir(finance_train_folder) if isfile(join(finance_train_folder, f))]\n",
    "entertain_train_file = [join(entertain_train_folder, f) for f in listdir(entertain_train_folder) if isfile(join(entertain_train_folder, f))]\n",
    "tech_train_file = [join(tech_train_folder, f) for f in listdir(tech_train_folder) if isfile(join(tech_train_folder, f))]\n",
    "\n",
    "finance = [ open(path).read() for path in finance_train_file]\n",
    "entertain = [ open(path).read() for path in entertain_train_file]\n",
    "tech = [ open(path).read() for path in tech_train_file]\n",
    "\n",
    "# check wether they have same title\n",
    "finance_train = [news  for news in finance if news.split(\"\\n\")[0] not in finance_test_title]\n",
    "entertain_train = [news  for news in entertain if news.split(\"\\n\")[0] not in entertain_test_title]\n",
    "tech_train = [news  for news in tech if news.split(\"\\n\")[0] not in tech_test_title]"
   ]
  },
  {
   "cell_type": "code",
   "execution_count": 17,
   "metadata": {
    "collapsed": false
   },
   "outputs": [
    {
     "name": "stdout",
     "output_type": "stream",
     "text": [
      "training set\n",
      "finance 1744\n",
      "entertainment 1689\n",
      "technology 1665\n",
      "\n",
      "testing set\n",
      "finance 500\n",
      "entertainment 500\n",
      "technology 500\n"
     ]
    }
   ],
   "source": [
    "print \"training set\"\n",
    "print \"finance\",len(finance_train)\n",
    "print \"entertainment\",len(entertain_train)\n",
    "print \"technology\",len(tech_train)\n",
    "print \n",
    "print \"testing set\"\n",
    "print \"finance\",len(finance_test)\n",
    "print \"entertainment\",len(entertain_test)\n",
    "print \"technology\",len(tech_test)"
   ]
  },
  {
   "cell_type": "code",
   "execution_count": 18,
   "metadata": {
    "collapsed": true
   },
   "outputs": [],
   "source": [
    "import jieba.analyse\n",
    "import jieba\n",
    "#customize dictionary\n",
    "jieba.set_dictionary('C:\\\\Python27\\\\Lib\\\\site-packages\\\\jieba\\\\dict.txt.big.txt')\n",
    "jieba.analyse.set_stop_words(\"C:\\\\Python27\\\\Lib\\\\site-packages\\\\jieba\\\\stop_words.txt\")\n",
    "jieba.analyse.set_idf_path(\"C:\\\\Python27\\\\Lib\\\\site-packages\\\\jieba\\\\idf.txt.big.txt\")\n"
   ]
  },
  {
   "cell_type": "code",
   "execution_count": 19,
   "metadata": {
    "collapsed": false
   },
   "outputs": [
    {
     "name": "stderr",
     "output_type": "stream",
     "text": [
      "Building prefix dict from C:\\Python27\\Lib\\site-packages\\jieba\\dict.txt.big.txt ...\n",
      "Loading model from cache c:\\users\\tsunh\\appdata\\local\\temp\\jieba.u7ecb02fee068d7d39e5500de2047abc1.cache\n",
      "Loading model cost 0.665 seconds.\n",
      "Prefix dict has been built succesfully.\n"
     ]
    }
   ],
   "source": [
    "train_y = []\n",
    "train_x_wordList = []\n",
    "for category,cate_num in zip([finance_train,entertain_train,tech_train],[1,2,3]):\n",
    "    for doc in category:\n",
    "        word_list = \" \".join(jieba.cut(doc.replace(\"\\t\",\"\").replace(\"\\n\",\"\").replace(\"\\t\\n\",\"\").replace(\" \",\"\")))\n",
    "        train_x_wordList.append(word_list)\n",
    "        train_y.append(cate_num)"
   ]
  },
  {
   "cell_type": "code",
   "execution_count": 20,
   "metadata": {
    "collapsed": true
   },
   "outputs": [],
   "source": [
    "test_y = []\n",
    "test_x_wordList = []\n",
    "for category,cate_num in zip([finance_test,entertain_test,tech_test],[1,2,3]):\n",
    "    for doc in category:\n",
    "        word_list = \" \".join(jieba.cut(doc.replace(\"\\t\",\"\").replace(\"\\n\",\"\").replace(\"\\t\\n\",\"\").replace(\" \",\"\")))\n",
    "        test_x_wordList.append(word_list)\n",
    "        test_y.append(cate_num)"
   ]
  },
  {
   "cell_type": "code",
   "execution_count": 21,
   "metadata": {
    "collapsed": false
   },
   "outputs": [
    {
     "name": "stdout",
     "output_type": "stream",
     "text": [
      "1500 1500 5098 5098\n"
     ]
    }
   ],
   "source": [
    "print len(test_x_wordList),len(test_y),len(train_x_wordList),len(train_y)"
   ]
  },
  {
   "cell_type": "markdown",
   "metadata": {},
   "source": [
    "### Training classifier"
   ]
  },
  {
   "cell_type": "code",
   "execution_count": 22,
   "metadata": {
    "collapsed": false
   },
   "outputs": [],
   "source": [
    "from sklearn.linear_model import SGDClassifier\n",
    "from sklearn.svm import SVC, LinearSVC, NuSVC\n",
    "from sklearn.feature_extraction.text import TfidfVectorizer\n",
    "from sklearn.pipeline import Pipeline\n",
    "\n",
    "text_clf = Pipeline([('vect', TfidfVectorizer()),\n",
    "                     ('clf', LinearSVC()),\n",
    "])"
   ]
  },
  {
   "cell_type": "code",
   "execution_count": 23,
   "metadata": {
    "collapsed": false
   },
   "outputs": [
    {
     "data": {
      "text/plain": [
       "Pipeline(steps=[('vect', TfidfVectorizer(analyzer=u'word', binary=False, decode_error=u'strict',\n",
       "        dtype=<type 'numpy.int64'>, encoding=u'utf-8', input=u'content',\n",
       "        lowercase=True, max_df=1.0, max_features=None, min_df=1,\n",
       "        ngram_range=(1, 1), norm=u'l2', preprocessor=None, smooth_idf=True...ax_iter=1000,\n",
       "     multi_class='ovr', penalty='l2', random_state=None, tol=0.0001,\n",
       "     verbose=0))])"
      ]
     },
     "execution_count": 23,
     "metadata": {},
     "output_type": "execute_result"
    }
   ],
   "source": [
    "text_clf.fit(train_x_wordList, train_y)"
   ]
  },
  {
   "cell_type": "code",
   "execution_count": 24,
   "metadata": {
    "collapsed": false
   },
   "outputs": [],
   "source": [
    "predicted = text_clf.predict(test_x_wordList)"
   ]
  },
  {
   "cell_type": "code",
   "execution_count": 25,
   "metadata": {
    "collapsed": false
   },
   "outputs": [
    {
     "name": "stdout",
     "output_type": "stream",
     "text": [
      "               precision    recall  f1-score   support\n",
      "\n",
      "      finance       0.78      0.89      0.83       500\n",
      "entertainment       0.95      0.92      0.94       500\n",
      "   technology       0.91      0.82      0.86       500\n",
      "\n",
      "  avg / total       0.88      0.88      0.88      1500\n",
      "\n"
     ]
    }
   ],
   "source": [
    "from sklearn import metrics\n",
    "print(metrics.classification_report(test_y, predicted,\n",
    "    target_names=[\"finance\",\"entertainment\",\"technology\"]))"
   ]
  },
  {
   "cell_type": "markdown",
   "metadata": {},
   "source": [
    "### Using grid sesarch to find suitable parameter"
   ]
  },
  {
   "cell_type": "code",
   "execution_count": 30,
   "metadata": {
    "collapsed": false
   },
   "outputs": [
    {
     "name": "stdout",
     "output_type": "stream",
     "text": [
      "{'vect__ngram_range': (1, 2), 'vect__use_idf': False, 'clf__C': 1.0}\n",
      "               precision    recall  f1-score   support\n",
      "\n",
      "      finance       0.77      0.90      0.83       500\n",
      "entertainment       0.95      0.91      0.93       500\n",
      "   technology       0.92      0.80      0.85       500\n",
      "\n",
      "  avg / total       0.88      0.87      0.87      1500\n",
      "\n"
     ]
    }
   ],
   "source": [
    "#from sklearn.cross_validation import GridSearchCV\n",
    "from sklearn.grid_search import GridSearchCV\n",
    "parameters = {'vect__ngram_range': [(1, 1), (1, 2)],\n",
    "              'vect__use_idf': (True, False),\n",
    "              'clf__C': (10,1.0, 0.1, 1e-2, 1e-3)\n",
    "             }\n",
    "gs_clf = GridSearchCV(text_clf, parameters, n_jobs=-1)\n",
    "gs_clf = gs_clf.fit(train_x_wordList, train_y)\n",
    "print gs_clf.best_params_\n",
    "predicted = gs_clf.predict(test_x_wordList)\n",
    "print(metrics.classification_report(test_y, predicted,target_names=[\"finance\",\"entertainment\",\"technology\"]))"
   ]
  },
  {
   "cell_type": "code",
   "execution_count": null,
   "metadata": {
    "collapsed": true
   },
   "outputs": [],
   "source": []
  }
 ],
 "metadata": {
  "kernelspec": {
   "display_name": "Python 3",
   "language": "python",
   "name": "python3"
  },
  "language_info": {
   "codemirror_mode": {
    "name": "ipython",
    "version": 3
   },
   "file_extension": ".py",
   "mimetype": "text/x-python",
   "name": "python",
   "nbconvert_exporter": "python",
   "pygments_lexer": "ipython3",
   "version": "3.6.0"
  }
 },
 "nbformat": 4,
 "nbformat_minor": 0
}
